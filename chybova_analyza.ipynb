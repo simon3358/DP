{
 "cells": [
  {
   "cell_type": "code",
   "execution_count": 1,
   "metadata": {},
   "outputs": [],
   "source": [
    "import pandas as pd\n",
    "import gensim.models as gsm\n",
    "import phrase2vec as p2v\n",
    "from emosent import get_emoji_sentiment_rank"
   ]
  },
  {
   "cell_type": "code",
   "execution_count": null,
   "metadata": {},
   "outputs": [],
   "source": [
    "phrase_model_en = p2v.Phrase2Vec(\n",
    "    300,\n",
    "    gsm.KeyedVectors.load_word2vec_format('D:\\Downloads\\DP\\word2vec300_en.vec', binary=False),\n",
    "    gsm.KeyedVectors.load_word2vec_format('D:\\Downloads\\DP\\emoji2vec300.bin', binary=True)\n",
    ")\n",
    "emoji_model = phrase_model_en.emojiVecModel"
   ]
  },
  {
   "cell_type": "code",
   "execution_count": 2,
   "metadata": {},
   "outputs": [
    {
     "name": "stderr",
     "output_type": "stream",
     "text": [
      "20840 | INFO | loading projection weights from D:\\Downloads\\DP\\emoji2vec300.bin\n",
      "20840 | INFO | loaded (1661, 300) matrix from D:\\Downloads\\DP\\emoji2vec300.bin\n"
     ]
    }
   ],
   "source": [
    "emoji_model = gsm.KeyedVectors.load_word2vec_format('D:\\Downloads\\DP\\emoji2vec300.bin', binary=True)"
   ]
  },
  {
   "cell_type": "markdown",
   "metadata": {},
   "source": [
    "## Chybova analyza datasetu Emoji2vec"
   ]
  },
  {
   "cell_type": "code",
   "execution_count": 16,
   "metadata": {},
   "outputs": [],
   "source": [
    "tweets = pd.read_csv('D:\\Downloads\\DP\\data\\e2v_data_emoji.csv')\n",
    "different = pd.read_csv('D:\\Downloads\\DP\\data\\errors_e2v.csv')"
   ]
  },
  {
   "cell_type": "code",
   "execution_count": 17,
   "metadata": {},
   "outputs": [
    {
     "data": {
      "text/plain": [
       "Neutral     345\n",
       "Positive    132\n",
       "Negative    120\n",
       "Name: Label, dtype: int64"
      ]
     },
     "execution_count": 17,
     "metadata": {},
     "output_type": "execute_result"
    }
   ],
   "source": [
    "different['Label'].value_counts()"
   ]
  },
  {
   "cell_type": "markdown",
   "metadata": {},
   "source": [
    "### Vyskyt emotikonov "
   ]
  },
  {
   "cell_type": "code",
   "execution_count": 18,
   "metadata": {},
   "outputs": [],
   "source": [
    "tweets_neg = tweets[tweets['Label']=='Negative'].reset_index(drop=True)\n",
    "tweets_neu = tweets[tweets['Label']=='Neutral'].reset_index(drop=True)\n",
    "tweets_pos = tweets[tweets['Label']=='Positive'].reset_index(drop=True)\n",
    "\n",
    "different_neg = different[different['Label']=='Negative'].reset_index(drop=True)\n",
    "different_neu = different[different['Label']=='Neutral'].reset_index(drop=True)\n",
    "different_pos = different[different['Label']=='Positive'].reset_index(drop=True)"
   ]
  },
  {
   "cell_type": "code",
   "execution_count": 9,
   "metadata": {},
   "outputs": [
    {
     "data": {
      "text/plain": [
       "Positive    238\n",
       "Negative    107\n",
       "Name: Pred, dtype: int64"
      ]
     },
     "execution_count": 9,
     "metadata": {},
     "output_type": "execute_result"
    }
   ],
   "source": [
    "different_neu['Pred'].value_counts()"
   ]
  },
  {
   "cell_type": "code",
   "execution_count": 28,
   "metadata": {},
   "outputs": [],
   "source": [
    "from nltk.tokenize import TweetTokenizer\n",
    "\n",
    "tokenizer = TweetTokenizer(preserve_case=False, reduce_len=True, strip_handles=True)\n",
    "\n",
    "all_emoji_dic = {}\n",
    "for i in range (0, len(tweets)):\n",
    "    tokens = tokenizer.tokenize(tweets['Text'][i])\n",
    "    for token in tokens:\n",
    "        if token in emoji_model:\n",
    "            try:\n",
    "                all_emoji_dic[token] += 1\n",
    "            except:\n",
    "                all_emoji_dic[token] = 1\n",
    "                \n",
    "emoji_dic = {}\n",
    "for i in range (0, len(different)):\n",
    "    tokens = tokenizer.tokenize(different['Text'][i])\n",
    "    for token in tokens:\n",
    "        if token in emoji_model:\n",
    "            try:\n",
    "                emoji_dic[token] += 1\n",
    "            except:\n",
    "                emoji_dic[token] = 1"
   ]
  },
  {
   "cell_type": "code",
   "execution_count": null,
   "metadata": {},
   "outputs": [],
   "source": [
    "dict(sorted(all_emoji_dic.items(), key=lambda item: item[1], reverse=True))\n",
    "# dict(sorted(emoji_dic.items(), key=lambda item: item[1], reverse=True))"
   ]
  },
  {
   "cell_type": "code",
   "execution_count": null,
   "metadata": {
    "scrolled": true
   },
   "outputs": [],
   "source": [
    "emo_diff = {}\n",
    "for emo in emoji_dic:\n",
    "    if emoji_dic[emo] > 10:\n",
    "        emo_diff[emo] = emoji_dic[emo]/all_emoji_dic[emo]\n",
    "#         print(emo, emoji_dic[emo]/all_emoji_dic[emo])\n",
    "\n",
    "dict(sorted(emo_diff.items(), key=lambda item: item[1], reverse=True))"
   ]
  },
  {
   "cell_type": "markdown",
   "metadata": {},
   "source": [
    "### Pozicie emotikonov"
   ]
  },
  {
   "cell_type": "code",
   "execution_count": 25,
   "metadata": {},
   "outputs": [],
   "source": [
    "pos = {\"beg\":0,\"mid\":0,\"end\":0}\n",
    "\n",
    "# for sent in tweets['Text']:\n",
    "for sent in different['Text']:\n",
    "    sent_len = len(sent)\n",
    "    for char in sent[:int(sent_len/3)]:\n",
    "        if char in emoji_model:\n",
    "            pos['beg']+=1\n",
    "            break\n",
    "    for char in sent[int(sent_len/3):int(2*sent_len/3)]:\n",
    "        if char in emoji_model:\n",
    "            pos['mid']+=1\n",
    "            break\n",
    "    for char in sent[int(2*sent_len/3):]:\n",
    "        if char in emoji_model:\n",
    "            pos['end']+=1\n",
    "            break\n",
    "        "
   ]
  },
  {
   "cell_type": "code",
   "execution_count": 26,
   "metadata": {},
   "outputs": [
    {
     "data": {
      "text/plain": [
       "{'beg': 1106, 'mid': 2429, 'end': 8802}"
      ]
     },
     "execution_count": 26,
     "metadata": {},
     "output_type": "execute_result"
    }
   ],
   "source": [
    "pos"
   ]
  },
  {
   "cell_type": "markdown",
   "metadata": {},
   "source": [
    "### Priemerne hodnoty sentimentu emotikonov"
   ]
  },
  {
   "cell_type": "code",
   "execution_count": 99,
   "metadata": {},
   "outputs": [
    {
     "name": "stdout",
     "output_type": "stream",
     "text": [
      "overall sentiment in dataset: 0.4601901263105616\n"
     ]
    }
   ],
   "source": [
    "sentiment = 0\n",
    "count = 0\n",
    "\n",
    "for sent in tweets_pos['Text']:\n",
    "    for char in sent:\n",
    "        if char in emoji_model:\n",
    "            sentiment += get_emoji_sentiment_rank(char)['sentiment_score']\n",
    "            count += 1\n",
    "            \n",
    "sentiment /= count\n",
    "print(f\"overall sentiment in dataset: {sentiment}\")"
   ]
  },
  {
   "cell_type": "code",
   "execution_count": 102,
   "metadata": {},
   "outputs": [
    {
     "data": {
      "text/html": [
       "<div>\n",
       "<style scoped>\n",
       "    .dataframe tbody tr th:only-of-type {\n",
       "        vertical-align: middle;\n",
       "    }\n",
       "\n",
       "    .dataframe tbody tr th {\n",
       "        vertical-align: top;\n",
       "    }\n",
       "\n",
       "    .dataframe thead th {\n",
       "        text-align: right;\n",
       "    }\n",
       "</style>\n",
       "<table border=\"1\" class=\"dataframe\">\n",
       "  <thead>\n",
       "    <tr style=\"text-align: right;\">\n",
       "      <th></th>\n",
       "      <th>Id</th>\n",
       "      <th>Label</th>\n",
       "      <th>Text</th>\n",
       "    </tr>\n",
       "  </thead>\n",
       "  <tbody>\n",
       "    <tr>\n",
       "      <th>0</th>\n",
       "      <td>5.123840e+17</td>\n",
       "      <td>Positive</td>\n",
       "      <td>💫@fxckinconnor \\nLISTENING TO PSYCOBABBLE WHIL...</td>\n",
       "    </tr>\n",
       "    <tr>\n",
       "      <th>1</th>\n",
       "      <td>5.136340e+17</td>\n",
       "      <td>Positive</td>\n",
       "      <td>@ahoinarry MONA OMFJHLOKBFILL IT BECAME REALIT...</td>\n",
       "    </tr>\n",
       "  </tbody>\n",
       "</table>\n",
       "</div>"
      ],
      "text/plain": [
       "             Id     Label                                               Text\n",
       "0  5.123840e+17  Positive  💫@fxckinconnor \\nLISTENING TO PSYCOBABBLE WHIL...\n",
       "1  5.136340e+17  Positive  @ahoinarry MONA OMFJHLOKBFILL IT BECAME REALIT..."
      ]
     },
     "execution_count": 102,
     "metadata": {},
     "output_type": "execute_result"
    }
   ],
   "source": [
    "tweets_pos.head(2)"
   ]
  },
  {
   "cell_type": "code",
   "execution_count": 100,
   "metadata": {},
   "outputs": [
    {
     "name": "stdout",
     "output_type": "stream",
     "text": [
      "overall sentiment in dataset: 0.3522329317269079\n"
     ]
    }
   ],
   "source": [
    "sentiment = 0\n",
    "count = 0\n",
    "\n",
    "for sent in different_neu['Text']:\n",
    "    for char in sent:\n",
    "        if char in emoji_model:\n",
    "            sentiment += get_emoji_sentiment_rank(char)['sentiment_score']\n",
    "            count += 1\n",
    "            \n",
    "sentiment /= count\n",
    "print(f\"overall sentiment in dataset: {sentiment}\")"
   ]
  },
  {
   "cell_type": "code",
   "execution_count": null,
   "metadata": {},
   "outputs": [],
   "source": []
  },
  {
   "cell_type": "markdown",
   "metadata": {},
   "source": [
    "---"
   ]
  },
  {
   "cell_type": "markdown",
   "metadata": {},
   "source": [
    "## Chybova analyza datasetu Emocontext"
   ]
  },
  {
   "cell_type": "code",
   "execution_count": 30,
   "metadata": {},
   "outputs": [],
   "source": [
    "tweets = pd.read_csv('D:\\Downloads\\DP\\data\\emocontext_emoji.csv')\n",
    "different = pd.read_csv('D:\\Downloads\\DP\\data\\errors_emocontext.csv')"
   ]
  },
  {
   "cell_type": "code",
   "execution_count": 31,
   "metadata": {},
   "outputs": [
    {
     "data": {
      "text/plain": [
       "others    114\n",
       "happy      84\n",
       "angry      72\n",
       "sad        51\n",
       "Name: Label, dtype: int64"
      ]
     },
     "execution_count": 31,
     "metadata": {},
     "output_type": "execute_result"
    }
   ],
   "source": [
    "different['Label'].value_counts()"
   ]
  },
  {
   "cell_type": "markdown",
   "metadata": {},
   "source": [
    "### Vyskyt emotikonov "
   ]
  },
  {
   "cell_type": "code",
   "execution_count": 32,
   "metadata": {},
   "outputs": [],
   "source": [
    "tweets_sad = tweets[tweets['Label']=='sad'].reset_index(drop=True)\n",
    "tweets_angry = tweets[tweets['Label']=='angry'].reset_index(drop=True)\n",
    "tweets_happy = tweets[tweets['Label']=='happy'].reset_index(drop=True)\n",
    "\n",
    "different_sad = different[different['Label']=='sad'].reset_index(drop=True)\n",
    "different_angry = different[different['Label']=='angry'].reset_index(drop=True)\n",
    "different_happy = different[different['Label']=='happy'].reset_index(drop=True)"
   ]
  },
  {
   "cell_type": "code",
   "execution_count": 15,
   "metadata": {},
   "outputs": [
    {
     "data": {
      "text/plain": [
       "others    78\n",
       "sad        5\n",
       "angry      1\n",
       "Name: Pred, dtype: int64"
      ]
     },
     "execution_count": 15,
     "metadata": {},
     "output_type": "execute_result"
    }
   ],
   "source": [
    "different_happy['Pred'].value_counts()"
   ]
  },
  {
   "cell_type": "code",
   "execution_count": 40,
   "metadata": {},
   "outputs": [],
   "source": [
    "from nltk.tokenize import TweetTokenizer\n",
    "\n",
    "tokenizer = TweetTokenizer(preserve_case=False, reduce_len=True, strip_handles=True)\n",
    "\n",
    "all_emoji_dic = {}\n",
    "for i in range (0, len(tweets)):\n",
    "    tokens = tokenizer.tokenize(tweets['Text'][i])\n",
    "    for token in tokens:\n",
    "        if token in emoji_model:\n",
    "            try:\n",
    "                all_emoji_dic[token] += 1\n",
    "            except:\n",
    "                all_emoji_dic[token] = 1\n",
    "                \n",
    "emoji_dic = {}\n",
    "for i in range (0, len(different)):\n",
    "    tokens = tokenizer.tokenize(different['Text'][i])\n",
    "    for token in tokens:\n",
    "        if token in emoji_model:\n",
    "            try:\n",
    "                emoji_dic[token] += 1\n",
    "            except:\n",
    "                emoji_dic[token] = 1"
   ]
  },
  {
   "cell_type": "code",
   "execution_count": null,
   "metadata": {},
   "outputs": [],
   "source": [
    "dict(sorted(all_emoji_dic.items(), key=lambda item: item[1], reverse=True))"
   ]
  },
  {
   "cell_type": "code",
   "execution_count": null,
   "metadata": {},
   "outputs": [],
   "source": [
    "emo_diff = {}\n",
    "for emo in emoji_dic:\n",
    "    if emoji_dic[emo] > 10:\n",
    "        emo_diff[emo] = emoji_dic[emo]/all_emoji_dic[emo]\n",
    "#         print(emo, emoji_dic[emo]/all_emoji_dic[emo])\n",
    "\n",
    "dict(sorted(emo_diff.items(), key=lambda item: item[1], reverse=True))"
   ]
  },
  {
   "cell_type": "markdown",
   "metadata": {},
   "source": [
    "### Pozicie emotikonov"
   ]
  },
  {
   "cell_type": "code",
   "execution_count": 22,
   "metadata": {},
   "outputs": [],
   "source": [
    "model = phrase_model_en.emojiVecModel"
   ]
  },
  {
   "cell_type": "code",
   "execution_count": 31,
   "metadata": {},
   "outputs": [],
   "source": [
    "pos = {\"beg\":0,\"mid\":0,\"end\":0}\n",
    "\n",
    "for sent in tweets['Text']:\n",
    "# for sent in different['Text']:\n",
    "    sent_len = len(sent)\n",
    "    for char in sent[:int(sent_len/3)]:\n",
    "        if char in emoji_model:\n",
    "            pos['beg']+=1\n",
    "            break\n",
    "    for char in sent[int(sent_len/3):int(2*sent_len/3)]:\n",
    "        if char in emoji_model:\n",
    "            pos['mid']+=1\n",
    "            break\n",
    "    for char in sent[int(2*sent_len/3):]:\n",
    "        if char in emoji_model:\n",
    "            pos['end']+=1\n",
    "            break\n",
    "        "
   ]
  },
  {
   "cell_type": "code",
   "execution_count": 32,
   "metadata": {},
   "outputs": [
    {
     "data": {
      "text/plain": [
       "{'beg': 950, 'mid': 1786, 'end': 4474}"
      ]
     },
     "execution_count": 32,
     "metadata": {},
     "output_type": "execute_result"
    }
   ],
   "source": [
    "pos"
   ]
  },
  {
   "cell_type": "code",
   "execution_count": null,
   "metadata": {},
   "outputs": [],
   "source": []
  },
  {
   "cell_type": "markdown",
   "metadata": {},
   "source": [
    "### Priemerne hodnoty sentimentu emotikonov"
   ]
  },
  {
   "cell_type": "code",
   "execution_count": 108,
   "metadata": {},
   "outputs": [
    {
     "name": "stdout",
     "output_type": "stream",
     "text": [
      "overall sentiment in dataset: 0.326637126865675\n"
     ]
    }
   ],
   "source": [
    "sentiment = 0\n",
    "count = 0\n",
    "\n",
    "for sent in tweets_happy['Text']:\n",
    "    for char in sent:\n",
    "        if char in emoji_model:\n",
    "            sentiment += get_emoji_sentiment_rank(char)['sentiment_score']\n",
    "            count += 1\n",
    "            \n",
    "sentiment /= count\n",
    "print(f\"overall sentiment in dataset: {sentiment}\")"
   ]
  },
  {
   "cell_type": "code",
   "execution_count": 111,
   "metadata": {},
   "outputs": [
    {
     "name": "stdout",
     "output_type": "stream",
     "text": [
      "overall sentiment in dataset: 0.3288166666666666\n"
     ]
    }
   ],
   "source": [
    "sentiment = 0\n",
    "count = 0\n",
    "\n",
    "for sent in different_happy['Text']:\n",
    "    for char in sent:\n",
    "        if char in emoji_model:\n",
    "            sentiment += get_emoji_sentiment_rank(char)['sentiment_score']\n",
    "            count += 1\n",
    "            \n",
    "sentiment /= count\n",
    "print(f\"overall sentiment in dataset: {sentiment}\")"
   ]
  },
  {
   "cell_type": "code",
   "execution_count": null,
   "metadata": {},
   "outputs": [],
   "source": []
  },
  {
   "cell_type": "code",
   "execution_count": null,
   "metadata": {},
   "outputs": [],
   "source": []
  },
  {
   "cell_type": "markdown",
   "metadata": {},
   "source": [
    "## Testing"
   ]
  },
  {
   "cell_type": "code",
   "execution_count": 86,
   "metadata": {},
   "outputs": [],
   "source": [
    "# pri EMOCONTEXT su pouzite niektore nove emotikony -> nahradime\n",
    "emo_mapping = {\n",
    "    '🙂':'',\n",
    "    '🙁':'😕',\n",
    "    '🤣':'😂',\n",
    "    '🤐':'😬',\n",
    "    '🙄':'😏',\n",
    "    '🍾':'🍹',\n",
    "    '🤗':'☺',\n",
    "    '🤔':'😏',\n",
    "    '🤡':'🃏',\n",
    "    '🛰':'',\n",
    "    '🤑':'💰',\n",
    "    '\\u200d':'',\n",
    "    '🤥':'😢',\n",
    "    '🤕':'',\n",
    "    '🖕':'',\n",
    "    '🤦':'',\n",
    "    '🕺':'',\n",
    "    '🏕':'',\n",
    "    '🙃':'',\n",
    "    '🤒':'',\n",
    "    '🏣':'',\n",
    "    '🤷':'💁',\n",
    "    '🤢':'',\n",
    "    '🏖':'',\n",
    "   '🏋':'',\n",
    "    '🤘':'',\n",
    "    '🤖':'',\n",
    "    '⏸':'',\n",
    "    '🛑':'',\n",
    "    '🤓':'',\n",
    "    '👁':'',\n",
    "    '🦂':''\n",
    "}\n",
    "\n",
    "for i, j in emo_mapping.items():\n",
    "    tweets['Text'] = tweets['Text'].str.replace(i, j)"
   ]
  },
  {
   "cell_type": "code",
   "execution_count": null,
   "metadata": {},
   "outputs": [],
   "source": []
  }
 ],
 "metadata": {
  "kernelspec": {
   "display_name": "Python 3",
   "language": "python",
   "name": "python3"
  },
  "language_info": {
   "codemirror_mode": {
    "name": "ipython",
    "version": 3
   },
   "file_extension": ".py",
   "mimetype": "text/x-python",
   "name": "python",
   "nbconvert_exporter": "python",
   "pygments_lexer": "ipython3",
   "version": "3.7.3"
  }
 },
 "nbformat": 4,
 "nbformat_minor": 2
}
