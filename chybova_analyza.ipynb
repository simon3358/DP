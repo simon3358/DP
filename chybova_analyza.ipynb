{
 "cells": [
  {
   "cell_type": "code",
   "execution_count": 1,
   "metadata": {},
   "outputs": [],
   "source": [
    "import pandas as pd\n",
    "import gensim.models as gsm\n",
    "import phrase2vec as p2v"
   ]
  },
  {
   "cell_type": "code",
   "execution_count": 27,
   "metadata": {},
   "outputs": [],
   "source": [
    "# tweets = pd.read_csv('D:\\Downloads\\DP\\data\\e2v_data_emoji.csv')\n",
    "tweets = pd.read_csv('D:\\Downloads\\DP\\data\\emocontext_emoji.csv')"
   ]
  },
  {
   "cell_type": "code",
   "execution_count": 28,
   "metadata": {},
   "outputs": [],
   "source": [
    "# different = pd.read_csv('D:\\Downloads\\DP\\data\\errors_e2v.csv')\n",
    "different = pd.read_csv('D:\\Downloads\\DP\\data\\errors_emocontext.csv')"
   ]
  },
  {
   "cell_type": "code",
   "execution_count": 3,
   "metadata": {},
   "outputs": [],
   "source": [
    "phrase_model_en = p2v.Phrase2Vec(\n",
    "    300,\n",
    "    gsm.KeyedVectors.load_word2vec_format('D:\\Downloads\\DP\\word2vec300_en.vec', binary=False),\n",
    "    gsm.KeyedVectors.load_word2vec_format('D:\\Downloads\\DP\\emoji2vec300.bin', binary=True)\n",
    ")"
   ]
  },
  {
   "cell_type": "markdown",
   "metadata": {},
   "source": [
    "## Chybova analyza datasetu Emoji2vec"
   ]
  },
  {
   "cell_type": "code",
   "execution_count": 5,
   "metadata": {},
   "outputs": [
    {
     "data": {
      "text/plain": [
       "Neutral     345\n",
       "Positive    132\n",
       "Negative    120\n",
       "Name: Label, dtype: int64"
      ]
     },
     "execution_count": 5,
     "metadata": {},
     "output_type": "execute_result"
    }
   ],
   "source": [
    "different['Label'].value_counts()"
   ]
  },
  {
   "cell_type": "markdown",
   "metadata": {},
   "source": [
    "### Vyskyt emotikonov "
   ]
  },
  {
   "cell_type": "code",
   "execution_count": 6,
   "metadata": {},
   "outputs": [],
   "source": [
    "from nltk.tokenize import TweetTokenizer\n",
    "\n",
    "tokenizer = TweetTokenizer(preserve_case=False, reduce_len=True, strip_handles=True)\n",
    "emoji_model = phrase_model_en.emojiVecModel\n",
    "\n",
    "all_emoji_dic = {}\n",
    "for i in range (0, len(tweets)):\n",
    "    tokens = tokenizer.tokenize(tweets['Text'][i])\n",
    "    for token in tokens:\n",
    "        if token in emoji_model:\n",
    "            try:\n",
    "                all_emoji_dic[token] += 1\n",
    "            except:\n",
    "                all_emoji_dic[token] = 1\n",
    "                \n",
    "emoji_dic = {}\n",
    "for i in range (0, len(different)):\n",
    "    tokens = tokenizer.tokenize(different['Text'][i])\n",
    "    for token in tokens:\n",
    "        if token in emoji_model:\n",
    "            try:\n",
    "                emoji_dic[token] += 1\n",
    "            except:\n",
    "                emoji_dic[token] = 1"
   ]
  },
  {
   "cell_type": "code",
   "execution_count": null,
   "metadata": {},
   "outputs": [],
   "source": [
    "dict(sorted(all_emoji_dic.items(), key=lambda item: item[1], reverse=True))\n",
    "# dict(sorted(emoji_dic.items(), key=lambda item: item[1], reverse=True))"
   ]
  },
  {
   "cell_type": "code",
   "execution_count": 10,
   "metadata": {},
   "outputs": [
    {
     "data": {
      "text/plain": [
       "{'🎸': 0.3269230769230769,\n",
       " '😹': 0.2727272727272727,\n",
       " '👉': 0.21052631578947367,\n",
       " '🐧': 0.19753086419753085,\n",
       " '😆': 0.1746031746031746,\n",
       " '😝': 0.14864864864864866,\n",
       " '🌿': 0.1276595744680851,\n",
       " '🔥': 0.11049723756906077,\n",
       " '💀': 0.10493827160493827,\n",
       " '😉': 0.1,\n",
       " '😜': 0.1,\n",
       " '🙏': 0.09124087591240876,\n",
       " '💁': 0.0893854748603352,\n",
       " '💜': 0.08267716535433071,\n",
       " '🍕': 0.08088235294117647,\n",
       " '😂': 0.07603053435114504,\n",
       " '😭': 0.07545367717287488,\n",
       " '😏': 0.07352941176470588,\n",
       " '👍': 0.07303370786516854,\n",
       " '💯': 0.060790273556231005,\n",
       " '😳': 0.05945945945945946,\n",
       " '😊': 0.05895196506550218,\n",
       " '👏': 0.05573770491803279,\n",
       " '🙌': 0.05116279069767442,\n",
       " '👌': 0.05011389521640091,\n",
       " '😍': 0.04594820384294068,\n",
       " '😩': 0.041499330655957165,\n",
       " '😁': 0.040697674418604654,\n",
       " '😘': 0.03819444444444445,\n",
       " '😒': 0.026845637583892617,\n",
       " '💕': 0.02564102564102564}"
      ]
     },
     "execution_count": 10,
     "metadata": {},
     "output_type": "execute_result"
    }
   ],
   "source": [
    "emo_diff = {}\n",
    "for emo in emoji_dic:\n",
    "    if emoji_dic[emo] > 10:\n",
    "        emo_diff[emo] = emoji_dic[emo]/all_emoji_dic[emo]\n",
    "#         print(emo, emoji_dic[emo]/all_emoji_dic[emo])\n",
    "\n",
    "dict(sorted(emo_diff.items(), key=lambda item: item[1], reverse=True))"
   ]
  },
  {
   "cell_type": "markdown",
   "metadata": {},
   "source": [
    "### Pozicie emotikonov"
   ]
  },
  {
   "cell_type": "code",
   "execution_count": 22,
   "metadata": {},
   "outputs": [],
   "source": [
    "model = phrase_model_en.emojiVecModel"
   ]
  },
  {
   "cell_type": "code",
   "execution_count": 25,
   "metadata": {},
   "outputs": [],
   "source": [
    "pos = {\"beg\":0,\"mid\":0,\"end\":0}\n",
    "\n",
    "# for sent in tweets['Text']:\n",
    "for sent in different['Text']:\n",
    "    sent_len = len(sent)\n",
    "    for char in sent[:int(sent_len/3)]:\n",
    "        if char in emoji_model:\n",
    "            pos['beg']+=1\n",
    "            break\n",
    "    for char in sent[int(sent_len/3):int(2*sent_len/3)]:\n",
    "        if char in emoji_model:\n",
    "            pos['mid']+=1\n",
    "            break\n",
    "    for char in sent[int(2*sent_len/3):]:\n",
    "        if char in emoji_model:\n",
    "            pos['end']+=1\n",
    "            break\n",
    "        "
   ]
  },
  {
   "cell_type": "code",
   "execution_count": 26,
   "metadata": {},
   "outputs": [
    {
     "data": {
      "text/plain": [
       "{'beg': 1106, 'mid': 2429, 'end': 8802}"
      ]
     },
     "execution_count": 26,
     "metadata": {},
     "output_type": "execute_result"
    }
   ],
   "source": [
    "pos"
   ]
  },
  {
   "cell_type": "code",
   "execution_count": null,
   "metadata": {},
   "outputs": [],
   "source": []
  },
  {
   "cell_type": "markdown",
   "metadata": {},
   "source": [
    "## Chybova analyza datasetu Emosent"
   ]
  },
  {
   "cell_type": "code",
   "execution_count": null,
   "metadata": {},
   "outputs": [],
   "source": [
    "different['Label'].value_counts()"
   ]
  },
  {
   "cell_type": "markdown",
   "metadata": {},
   "source": [
    "### Vyskyt emotikonov "
   ]
  },
  {
   "cell_type": "code",
   "execution_count": null,
   "metadata": {},
   "outputs": [],
   "source": [
    "different_sad = different[different['Label']=='sad'].reset_index(drop=True)\n",
    "different_angry = different[different['Label']=='angry'].reset_index(drop=True)\n",
    "different_happy = different[different['Label']=='happy'].reset_index(drop=True)"
   ]
  },
  {
   "cell_type": "code",
   "execution_count": null,
   "metadata": {},
   "outputs": [],
   "source": [
    "from nltk.tokenize import TweetTokenizer\n",
    "\n",
    "tokenizer = TweetTokenizer(preserve_case=False, reduce_len=True, strip_handles=True)\n",
    "emoji_model = phrase_model_en.emojiVecModel\n",
    "\n",
    "all_emoji_dic = {}\n",
    "for i in range (0, len(tweets)):\n",
    "    tokens = tokenizer.tokenize(tweets['Text'][i])\n",
    "    for token in tokens:\n",
    "        if token in emoji_model:\n",
    "            try:\n",
    "                all_emoji_dic[token] += 1\n",
    "            except:\n",
    "                all_emoji_dic[token] = 1\n",
    "                \n",
    "emoji_dic = {}\n",
    "for i in range (0, len(different)):\n",
    "    tokens = tokenizer.tokenize(different['Text'][i])\n",
    "    for token in tokens:\n",
    "        if token in emoji_model:\n",
    "            try:\n",
    "                emoji_dic[token] += 1\n",
    "            except:\n",
    "                emoji_dic[token] = 1"
   ]
  },
  {
   "cell_type": "code",
   "execution_count": null,
   "metadata": {},
   "outputs": [],
   "source": [
    "dict(sorted(emoji_dic.items(), key=lambda item: item[1], reverse=True))"
   ]
  },
  {
   "cell_type": "code",
   "execution_count": null,
   "metadata": {},
   "outputs": [],
   "source": [
    "emo_diff = {}\n",
    "for emo in emoji_dic:\n",
    "    if emoji_dic[emo] > 10:\n",
    "        emo_diff[emo] = emoji_dic[emo]/all_emoji_dic[emo]\n",
    "#         print(emo, emoji_dic[emo]/all_emoji_dic[emo])\n",
    "\n",
    "dict(sorted(emo_diff.items(), key=lambda item: item[1], reverse=True))"
   ]
  },
  {
   "cell_type": "markdown",
   "metadata": {},
   "source": [
    "### Pozicie emotikonov"
   ]
  },
  {
   "cell_type": "code",
   "execution_count": 22,
   "metadata": {},
   "outputs": [],
   "source": [
    "model = phrase_model_en.emojiVecModel"
   ]
  },
  {
   "cell_type": "code",
   "execution_count": 31,
   "metadata": {},
   "outputs": [],
   "source": [
    "pos = {\"beg\":0,\"mid\":0,\"end\":0}\n",
    "\n",
    "for sent in tweets['Text']:\n",
    "# for sent in different['Text']:\n",
    "    sent_len = len(sent)\n",
    "    for char in sent[:int(sent_len/3)]:\n",
    "        if char in emoji_model:\n",
    "            pos['beg']+=1\n",
    "            break\n",
    "    for char in sent[int(sent_len/3):int(2*sent_len/3)]:\n",
    "        if char in emoji_model:\n",
    "            pos['mid']+=1\n",
    "            break\n",
    "    for char in sent[int(2*sent_len/3):]:\n",
    "        if char in emoji_model:\n",
    "            pos['end']+=1\n",
    "            break\n",
    "        "
   ]
  },
  {
   "cell_type": "code",
   "execution_count": 32,
   "metadata": {},
   "outputs": [
    {
     "data": {
      "text/plain": [
       "{'beg': 950, 'mid': 1786, 'end': 4474}"
      ]
     },
     "execution_count": 32,
     "metadata": {},
     "output_type": "execute_result"
    }
   ],
   "source": [
    "pos"
   ]
  },
  {
   "cell_type": "code",
   "execution_count": null,
   "metadata": {},
   "outputs": [],
   "source": []
  }
 ],
 "metadata": {
  "kernelspec": {
   "display_name": "Python 3",
   "language": "python",
   "name": "python3"
  },
  "language_info": {
   "codemirror_mode": {
    "name": "ipython",
    "version": 3
   },
   "file_extension": ".py",
   "mimetype": "text/x-python",
   "name": "python",
   "nbconvert_exporter": "python",
   "pygments_lexer": "ipython3",
   "version": "3.7.3"
  }
 },
 "nbformat": 4,
 "nbformat_minor": 2
}
