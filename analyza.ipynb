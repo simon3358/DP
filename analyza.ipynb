{
 "cells": [
  {
   "cell_type": "code",
   "execution_count": 78,
   "metadata": {},
   "outputs": [],
   "source": [
    "import pandas as pd\n",
    "pd.options.display.max_columns = None\n",
    "pd.options.display.width = None"
   ]
  },
  {
   "cell_type": "code",
   "execution_count": 111,
   "metadata": {},
   "outputs": [],
   "source": [
    "# tweets = pd.read_csv('D:\\Downloads\\DP\\data\\e2v_data.csv')\n",
    "tweets = pd.read_csv('D:\\Downloads\\DP\\data\\e2v_data_emoji.csv')"
   ]
  },
  {
   "cell_type": "code",
   "execution_count": 112,
   "metadata": {},
   "outputs": [
    {
     "data": {
      "text/plain": [
       "10865"
      ]
     },
     "execution_count": 112,
     "metadata": {},
     "output_type": "execute_result"
    }
   ],
   "source": [
    "len(tweets)"
   ]
  },
  {
   "cell_type": "code",
   "execution_count": 108,
   "metadata": {},
   "outputs": [
    {
     "data": {
      "text/html": [
       "<div>\n",
       "<style scoped>\n",
       "    .dataframe tbody tr th:only-of-type {\n",
       "        vertical-align: middle;\n",
       "    }\n",
       "\n",
       "    .dataframe tbody tr th {\n",
       "        vertical-align: top;\n",
       "    }\n",
       "\n",
       "    .dataframe thead th {\n",
       "        text-align: right;\n",
       "    }\n",
       "</style>\n",
       "<table border=\"1\" class=\"dataframe\">\n",
       "  <thead>\n",
       "    <tr style=\"text-align: right;\">\n",
       "      <th></th>\n",
       "      <th>Id</th>\n",
       "      <th>Label</th>\n",
       "      <th>Text</th>\n",
       "    </tr>\n",
       "  </thead>\n",
       "  <tbody>\n",
       "    <tr>\n",
       "      <th>0</th>\n",
       "      <td>511594664559128576</td>\n",
       "      <td>Neutral</td>\n",
       "      <td>RT @AngrySalmond: In an independent Scotland, ...</td>\n",
       "    </tr>\n",
       "    <tr>\n",
       "      <th>1</th>\n",
       "      <td>513311397384441856</td>\n",
       "      <td>Neutral</td>\n",
       "      <td>󾓫Spanish ☺</td>\n",
       "    </tr>\n",
       "    <tr>\n",
       "      <th>2</th>\n",
       "      <td>512055543096426496</td>\n",
       "      <td>Negative</td>\n",
       "      <td>an uh she wanna pillow fight in the middle of ...</td>\n",
       "    </tr>\n",
       "    <tr>\n",
       "      <th>3</th>\n",
       "      <td>514398892343844864</td>\n",
       "      <td>Neutral</td>\n",
       "      <td>RT @momen_mubasher: #Obama how come he never p...</td>\n",
       "    </tr>\n",
       "    <tr>\n",
       "      <th>4</th>\n",
       "      <td>515032706196205568</td>\n",
       "      <td>Neutral</td>\n",
       "      <td>\"FDI means 'First Develop India' for me,\" says...</td>\n",
       "    </tr>\n",
       "  </tbody>\n",
       "</table>\n",
       "</div>"
      ],
      "text/plain": [
       "                   Id     Label  \\\n",
       "0  511594664559128576   Neutral   \n",
       "1  513311397384441856   Neutral   \n",
       "2  512055543096426496  Negative   \n",
       "3  514398892343844864   Neutral   \n",
       "4  515032706196205568   Neutral   \n",
       "\n",
       "                                                Text  \n",
       "0  RT @AngrySalmond: In an independent Scotland, ...  \n",
       "1                                         󾓫Spanish ☺  \n",
       "2  an uh she wanna pillow fight in the middle of ...  \n",
       "3  RT @momen_mubasher: #Obama how come he never p...  \n",
       "4  \"FDI means 'First Develop India' for me,\" says...  "
      ]
     },
     "execution_count": 108,
     "metadata": {},
     "output_type": "execute_result"
    }
   ],
   "source": [
    "tweets.head()"
   ]
  },
  {
   "cell_type": "code",
   "execution_count": 113,
   "metadata": {},
   "outputs": [
    {
     "data": {
      "text/html": [
       "<div>\n",
       "<style scoped>\n",
       "    .dataframe tbody tr th:only-of-type {\n",
       "        vertical-align: middle;\n",
       "    }\n",
       "\n",
       "    .dataframe tbody tr th {\n",
       "        vertical-align: top;\n",
       "    }\n",
       "\n",
       "    .dataframe thead th {\n",
       "        text-align: right;\n",
       "    }\n",
       "</style>\n",
       "<table border=\"1\" class=\"dataframe\">\n",
       "  <thead>\n",
       "    <tr style=\"text-align: right;\">\n",
       "      <th></th>\n",
       "      <th>Id</th>\n",
       "      <th>Label</th>\n",
       "      <th>Text</th>\n",
       "    </tr>\n",
       "  </thead>\n",
       "  <tbody>\n",
       "    <tr>\n",
       "      <th>0</th>\n",
       "      <td>5.129890e+17</td>\n",
       "      <td>Positive</td>\n",
       "      <td>Bummed I can't spoil my boyfriend for his birt...</td>\n",
       "    </tr>\n",
       "    <tr>\n",
       "      <th>1</th>\n",
       "      <td>5.116540e+17</td>\n",
       "      <td>Positive</td>\n",
       "      <td>💜💜💜💜💜💚💜💚💚💚💚💜💙💙💛💛💜💚💚#5SOSatKISSPHX @KISSFMPhoen...</td>\n",
       "    </tr>\n",
       "    <tr>\n",
       "      <th>2</th>\n",
       "      <td>5.149410e+17</td>\n",
       "      <td>Neutral</td>\n",
       "      <td>@Kryptic_kritic I liked her too, in Chicago P....</td>\n",
       "    </tr>\n",
       "    <tr>\n",
       "      <th>3</th>\n",
       "      <td>5.116310e+17</td>\n",
       "      <td>Positive</td>\n",
       "      <td>@James_Yammouni #MadeInAus YOU SHOULD FOLLOW M...</td>\n",
       "    </tr>\n",
       "    <tr>\n",
       "      <th>4</th>\n",
       "      <td>5.127940e+17</td>\n",
       "      <td>Neutral</td>\n",
       "      <td>Who wanna go to B-Dubs ? 👀</td>\n",
       "    </tr>\n",
       "  </tbody>\n",
       "</table>\n",
       "</div>"
      ],
      "text/plain": [
       "             Id     Label                                               Text\n",
       "0  5.129890e+17  Positive  Bummed I can't spoil my boyfriend for his birt...\n",
       "1  5.116540e+17  Positive  💜💜💜💜💜💚💜💚💚💚💚💜💙💙💛💛💜💚💚#5SOSatKISSPHX @KISSFMPhoen...\n",
       "2  5.149410e+17   Neutral  @Kryptic_kritic I liked her too, in Chicago P....\n",
       "3  5.116310e+17  Positive  @James_Yammouni #MadeInAus YOU SHOULD FOLLOW M...\n",
       "4  5.127940e+17   Neutral                         Who wanna go to B-Dubs ? 👀"
      ]
     },
     "execution_count": 113,
     "metadata": {},
     "output_type": "execute_result"
    }
   ],
   "source": [
    "tweets.sample(frac=1).reset_index(drop=True).head()"
   ]
  },
  {
   "cell_type": "code",
   "execution_count": 114,
   "metadata": {},
   "outputs": [
    {
     "name": "stdout",
     "output_type": "stream",
     "text": [
      "Average words:  11.38196042337782\n",
      "Average chars:  68.10280717901519\n"
     ]
    }
   ],
   "source": [
    "words = 0\n",
    "chars = 0\n",
    "for t in tweets['Text']:\n",
    "    chars += len(t)\n",
    "    words += len(t.split())\n",
    "\n",
    "avg_words = words / len(tweets)\n",
    "avg_chars = chars / len(tweets)\n",
    "print(\"Average words: \", avg_words)\n",
    "print(\"Average chars: \", avg_chars)"
   ]
  },
  {
   "cell_type": "code",
   "execution_count": 115,
   "metadata": {},
   "outputs": [
    {
     "data": {
      "text/plain": [
       "Positive    4853\n",
       "Negative    3157\n",
       "Neutral     2855\n",
       "Name: Label, dtype: int64"
      ]
     },
     "execution_count": 115,
     "metadata": {},
     "output_type": "execute_result"
    }
   ],
   "source": [
    "tweets['Label'].value_counts()"
   ]
  },
  {
   "cell_type": "code",
   "execution_count": 106,
   "metadata": {},
   "outputs": [
    {
     "name": "stdout",
     "output_type": "stream",
     "text": [
      "Average words:  12.33066415449835\n",
      "Average chars:  82.2511607563421\n"
     ]
    }
   ],
   "source": [
    "# pocetnosti v jednotlivych triedach\n",
    "words = 0\n",
    "chars = 0\n",
    "tw = tweets[tweets['Label']=='Neutral']\n",
    "for t in tw['Text']:\n",
    "    chars += len(t)\n",
    "    words += len(t.split())\n",
    "\n",
    "avg_words = words / len(tw)\n",
    "avg_chars = chars / len(tw)\n",
    "print(\"Average words: \", avg_words)\n",
    "print(\"Average chars: \", avg_chars)"
   ]
  },
  {
   "cell_type": "code",
   "execution_count": null,
   "metadata": {},
   "outputs": [],
   "source": []
  }
 ],
 "metadata": {
  "kernelspec": {
   "display_name": "Python 3",
   "language": "python",
   "name": "python3"
  },
  "language_info": {
   "codemirror_mode": {
    "name": "ipython",
    "version": 3
   },
   "file_extension": ".py",
   "mimetype": "text/x-python",
   "name": "python",
   "nbconvert_exporter": "python",
   "pygments_lexer": "ipython3",
   "version": "3.7.3"
  }
 },
 "nbformat": 4,
 "nbformat_minor": 2
}
