{
 "cells": [
  {
   "cell_type": "code",
   "execution_count": 1,
   "metadata": {},
   "outputs": [],
   "source": [
    "import pandas as pd\n",
    "import gensim.models as gsm\n",
    "import phrase2vec as p2v\n",
    "from emosent import get_emoji_sentiment_rank"
   ]
  },
  {
   "cell_type": "code",
   "execution_count": 2,
   "metadata": {},
   "outputs": [
    {
     "name": "stderr",
     "output_type": "stream",
     "text": [
      "8476 | INFO | loading projection weights from D:\\Downloads\\DP\\emoji2vec300.bin\n",
      "8476 | INFO | loaded (1661, 300) matrix from D:\\Downloads\\DP\\emoji2vec300.bin\n"
     ]
    }
   ],
   "source": [
    "emoji_model = gsm.KeyedVectors.load_word2vec_format('D:\\Downloads\\DP\\emoji2vec300.bin', binary=True)"
   ]
  },
  {
   "cell_type": "markdown",
   "metadata": {},
   "source": [
    "## Chybova analyza datasetu E2V (DATA-EN-TW)"
   ]
  },
  {
   "cell_type": "code",
   "execution_count": 3,
   "metadata": {},
   "outputs": [],
   "source": [
    "tweets = pd.read_csv('D:\\Downloads\\DP\\data\\e2v_data_emoji.csv')\n",
    "different = pd.read_csv('D:\\Downloads\\DP\\data\\errors_e2v.csv')"
   ]
  },
  {
   "cell_type": "code",
   "execution_count": 97,
   "metadata": {},
   "outputs": [
    {
     "data": {
      "text/plain": [
       "Neutral     345\n",
       "Positive    132\n",
       "Negative    120\n",
       "Name: Label, dtype: int64"
      ]
     },
     "execution_count": 97,
     "metadata": {},
     "output_type": "execute_result"
    }
   ],
   "source": [
    "different['Label'].value_counts()"
   ]
  },
  {
   "cell_type": "code",
   "execution_count": 98,
   "metadata": {},
   "outputs": [
    {
     "data": {
      "text/plain": [
       "Positive    334\n",
       "Negative    185\n",
       "Neutral      78\n",
       "Name: Pred, dtype: int64"
      ]
     },
     "execution_count": 98,
     "metadata": {},
     "output_type": "execute_result"
    }
   ],
   "source": [
    "different['Pred'].value_counts()"
   ]
  },
  {
   "cell_type": "markdown",
   "metadata": {},
   "source": [
    "### Vyskyt emotikonov "
   ]
  },
  {
   "cell_type": "code",
   "execution_count": 5,
   "metadata": {},
   "outputs": [],
   "source": [
    "tweets_neg = tweets[tweets['Label']=='Negative'].reset_index(drop=True)\n",
    "tweets_neu = tweets[tweets['Label']=='Neutral'].reset_index(drop=True)\n",
    "tweets_pos = tweets[tweets['Label']=='Positive'].reset_index(drop=True)\n",
    "\n",
    "different_neg = different[different['Label']=='Negative'].reset_index(drop=True)\n",
    "different_neu = different[different['Label']=='Neutral'].reset_index(drop=True)\n",
    "different_pos = different[different['Label']=='Positive'].reset_index(drop=True)"
   ]
  },
  {
   "cell_type": "code",
   "execution_count": 7,
   "metadata": {},
   "outputs": [
    {
     "data": {
      "text/plain": [
       "Positive    238\n",
       "Negative    107\n",
       "Name: Pred, dtype: int64"
      ]
     },
     "execution_count": 7,
     "metadata": {},
     "output_type": "execute_result"
    }
   ],
   "source": [
    "different_neu['Pred'].value_counts()"
   ]
  },
  {
   "cell_type": "code",
   "execution_count": 31,
   "metadata": {},
   "outputs": [],
   "source": [
    "from nltk.tokenize import TweetTokenizer\n",
    "\n",
    "tokenizer = TweetTokenizer(preserve_case=False, reduce_len=True, strip_handles=True)\n",
    "\n",
    "emoji_dic = {}\n",
    "for i in range (0, len(tweets)):\n",
    "    tokens = tokenizer.tokenize(tweets['Text'][i])\n",
    "    for token in tokens:\n",
    "        if token in emoji_model:\n",
    "            try:\n",
    "                emoji_dic[token] += 1\n",
    "            except:\n",
    "                emoji_dic[token] = 1\n",
    "                \n",
    "diff_dic = {}\n",
    "for i in range (0, len(different_pos)):\n",
    "    tokens = tokenizer.tokenize(different_pos['Text'][i])\n",
    "    for token in tokens:\n",
    "        if token in emoji_model:\n",
    "            try:\n",
    "                diff_dic[token] += 1\n",
    "            except:\n",
    "                diff_dic[token] = 1"
   ]
  },
  {
   "cell_type": "code",
   "execution_count": null,
   "metadata": {},
   "outputs": [],
   "source": [
    "# dict(sorted(diff_dic.items(), key=lambda item: item[1], reverse=True))\n",
    "dict(sorted(emoji_dic.items(), key=lambda item: item[1], reverse=True))"
   ]
  },
  {
   "cell_type": "code",
   "execution_count": 32,
   "metadata": {
    "scrolled": true
   },
   "outputs": [
    {
     "data": {
      "text/plain": [
       "{'💥': 0.11267605633802817,\n",
       " '💀': 0.043209876543209874,\n",
       " '🙏': 0.040145985401459854,\n",
       " '💯': 0.030395136778115502,\n",
       " '😏': 0.025735294117647058,\n",
       " '😭': 0.02387774594078319,\n",
       " '🙌': 0.020930232558139535,\n",
       " '😩': 0.01606425702811245,\n",
       " '👌': 0.015945330296127564,\n",
       " '😂': 0.011603053435114504}"
      ]
     },
     "execution_count": 32,
     "metadata": {},
     "output_type": "execute_result"
    }
   ],
   "source": [
    "emo_diff = {}\n",
    "for emo in diff_dic:\n",
    "    if diff_dic[emo] > 5:\n",
    "        emo_diff[emo] = diff_dic[emo]/emoji_dic[emo]\n",
    "\n",
    "dict(sorted(emo_diff.items(), key=lambda item: item[1], reverse=True))"
   ]
  },
  {
   "cell_type": "markdown",
   "metadata": {},
   "source": [
    "### Pozicie emotikonov"
   ]
  },
  {
   "cell_type": "code",
   "execution_count": 25,
   "metadata": {},
   "outputs": [],
   "source": [
    "pos = {\"beg\":0,\"mid\":0,\"end\":0}\n",
    "\n",
    "# for sent in tweets['Text']:\n",
    "for sent in different['Text']:\n",
    "    sent_len = len(sent)\n",
    "    for char in sent[:int(sent_len/3)]:\n",
    "        if char in emoji_model:\n",
    "            pos['beg']+=1\n",
    "            break\n",
    "    for char in sent[int(sent_len/3):int(2*sent_len/3)]:\n",
    "        if char in emoji_model:\n",
    "            pos['mid']+=1\n",
    "            break\n",
    "    for char in sent[int(2*sent_len/3):]:\n",
    "        if char in emoji_model:\n",
    "            pos['end']+=1\n",
    "            break\n",
    "        "
   ]
  },
  {
   "cell_type": "code",
   "execution_count": 26,
   "metadata": {},
   "outputs": [
    {
     "data": {
      "text/plain": [
       "{'beg': 1106, 'mid': 2429, 'end': 8802}"
      ]
     },
     "execution_count": 26,
     "metadata": {},
     "output_type": "execute_result"
    }
   ],
   "source": [
    "pos"
   ]
  },
  {
   "cell_type": "markdown",
   "metadata": {},
   "source": [
    "### Priemerne hodnoty sentimentu emotikonov"
   ]
  },
  {
   "cell_type": "code",
   "execution_count": 6,
   "metadata": {},
   "outputs": [
    {
     "name": "stdout",
     "output_type": "stream",
     "text": [
      "overall sentiment in dataset: 0.4601901263105616\n"
     ]
    }
   ],
   "source": [
    "sentiment = 0\n",
    "count = 0\n",
    "\n",
    "for sent in tweets_pos['Text']:\n",
    "    for char in sent:\n",
    "        if char in emoji_model:\n",
    "            try:\n",
    "                sentiment += get_emoji_sentiment_rank(char)[\"sentiment_score\"]\n",
    "            except:\n",
    "                pass\n",
    "            count += 1\n",
    "            \n",
    "sentiment /= count\n",
    "print(f\"overall sentiment in dataset: {sentiment}\")"
   ]
  },
  {
   "cell_type": "code",
   "execution_count": 7,
   "metadata": {},
   "outputs": [
    {
     "data": {
      "text/html": [
       "<div>\n",
       "<style scoped>\n",
       "    .dataframe tbody tr th:only-of-type {\n",
       "        vertical-align: middle;\n",
       "    }\n",
       "\n",
       "    .dataframe tbody tr th {\n",
       "        vertical-align: top;\n",
       "    }\n",
       "\n",
       "    .dataframe thead th {\n",
       "        text-align: right;\n",
       "    }\n",
       "</style>\n",
       "<table border=\"1\" class=\"dataframe\">\n",
       "  <thead>\n",
       "    <tr style=\"text-align: right;\">\n",
       "      <th></th>\n",
       "      <th>Id</th>\n",
       "      <th>Label</th>\n",
       "      <th>Text</th>\n",
       "    </tr>\n",
       "  </thead>\n",
       "  <tbody>\n",
       "    <tr>\n",
       "      <th>0</th>\n",
       "      <td>5.120560e+17</td>\n",
       "      <td>Negative</td>\n",
       "      <td>an uh she wanna pillow fight in the middle of ...</td>\n",
       "    </tr>\n",
       "    <tr>\n",
       "      <th>1</th>\n",
       "      <td>5.139030e+17</td>\n",
       "      <td>Negative</td>\n",
       "      <td>I miss this girl so much. 😭 http://t.co/XPKWvW...</td>\n",
       "    </tr>\n",
       "    <tr>\n",
       "      <th>2</th>\n",
       "      <td>5.149320e+17</td>\n",
       "      <td>Negative</td>\n",
       "      <td>RT @RavenChristiana: RT!!😩“@zahiranichole: So ...</td>\n",
       "    </tr>\n",
       "    <tr>\n",
       "      <th>3</th>\n",
       "      <td>5.145400e+17</td>\n",
       "      <td>Negative</td>\n",
       "      <td>I hate seeing parents beat their kids in public 😳</td>\n",
       "    </tr>\n",
       "    <tr>\n",
       "      <th>4</th>\n",
       "      <td>5.123840e+17</td>\n",
       "      <td>Positive</td>\n",
       "      <td>💫@fxckinconnor \\nLISTENING TO PSYCOBABBLE WHIL...</td>\n",
       "    </tr>\n",
       "    <tr>\n",
       "      <th>...</th>\n",
       "      <td>...</td>\n",
       "      <td>...</td>\n",
       "      <td>...</td>\n",
       "    </tr>\n",
       "    <tr>\n",
       "      <th>10860</th>\n",
       "      <td>5.145750e+17</td>\n",
       "      <td>Positive</td>\n",
       "      <td>My dream job is to work at FedEx 😂</td>\n",
       "    </tr>\n",
       "    <tr>\n",
       "      <th>10861</th>\n",
       "      <td>5.132830e+17</td>\n",
       "      <td>Positive</td>\n",
       "      <td>When @Shauski asks me to take a photo of him w...</td>\n",
       "    </tr>\n",
       "    <tr>\n",
       "      <th>10862</th>\n",
       "      <td>5.130820e+17</td>\n",
       "      <td>Negative</td>\n",
       "      <td>@TiaSoSolid @MadiMego 😂😩 you threw that shit up!</td>\n",
       "    </tr>\n",
       "    <tr>\n",
       "      <th>10863</th>\n",
       "      <td>5.142620e+17</td>\n",
       "      <td>Negative</td>\n",
       "      <td>The Stupid Things I Do 🙈 I Do It For You 😩😘😍</td>\n",
       "    </tr>\n",
       "    <tr>\n",
       "      <th>10864</th>\n",
       "      <td>5.149140e+17</td>\n",
       "      <td>Positive</td>\n",
       "      <td>RT @SamiraIbrahimx: @MissKhynatNisa I'm CRYJNG...</td>\n",
       "    </tr>\n",
       "  </tbody>\n",
       "</table>\n",
       "<p>10865 rows × 3 columns</p>\n",
       "</div>"
      ],
      "text/plain": [
       "                 Id     Label  \\\n",
       "0      5.120560e+17  Negative   \n",
       "1      5.139030e+17  Negative   \n",
       "2      5.149320e+17  Negative   \n",
       "3      5.145400e+17  Negative   \n",
       "4      5.123840e+17  Positive   \n",
       "...             ...       ...   \n",
       "10860  5.145750e+17  Positive   \n",
       "10861  5.132830e+17  Positive   \n",
       "10862  5.130820e+17  Negative   \n",
       "10863  5.142620e+17  Negative   \n",
       "10864  5.149140e+17  Positive   \n",
       "\n",
       "                                                    Text  \n",
       "0      an uh she wanna pillow fight in the middle of ...  \n",
       "1      I miss this girl so much. 😭 http://t.co/XPKWvW...  \n",
       "2      RT @RavenChristiana: RT!!😩“@zahiranichole: So ...  \n",
       "3      I hate seeing parents beat their kids in public 😳  \n",
       "4      💫@fxckinconnor \\nLISTENING TO PSYCOBABBLE WHIL...  \n",
       "...                                                  ...  \n",
       "10860                 My dream job is to work at FedEx 😂  \n",
       "10861  When @Shauski asks me to take a photo of him w...  \n",
       "10862   @TiaSoSolid @MadiMego 😂😩 you threw that shit up!  \n",
       "10863       The Stupid Things I Do 🙈 I Do It For You 😩😘😍  \n",
       "10864  RT @SamiraIbrahimx: @MissKhynatNisa I'm CRYJNG...  \n",
       "\n",
       "[10865 rows x 3 columns]"
      ]
     },
     "execution_count": 7,
     "metadata": {},
     "output_type": "execute_result"
    }
   ],
   "source": [
    "tweets"
   ]
  },
  {
   "cell_type": "code",
   "execution_count": 100,
   "metadata": {},
   "outputs": [
    {
     "name": "stdout",
     "output_type": "stream",
     "text": [
      "overall sentiment in dataset: 0.3522329317269079\n"
     ]
    }
   ],
   "source": [
    "sentiment = 0\n",
    "count = 0\n",
    "\n",
    "for sent in different_neu['Text']:\n",
    "    for char in sent:\n",
    "        if char in emoji_model:\n",
    "            try:\n",
    "                sentiment += get_emoji_sentiment_rank(char)[\"sentiment_score\"]\n",
    "            except:\n",
    "                pass\n",
    "            count += 1\n",
    "            \n",
    "sentiment /= count\n",
    "print(f\"overall sentiment in dataset: {sentiment}\")"
   ]
  },
  {
   "cell_type": "markdown",
   "metadata": {},
   "source": [
    "---"
   ]
  },
  {
   "cell_type": "markdown",
   "metadata": {},
   "source": [
    "## Chybova analyza datasetu Emocontext (DATA-EN-SE)"
   ]
  },
  {
   "cell_type": "code",
   "execution_count": 118,
   "metadata": {},
   "outputs": [],
   "source": [
    "tweets = pd.read_csv('D:\\Downloads\\DP\\data\\emocontext_emoji.csv')\n",
    "different = pd.read_csv('D:\\Downloads\\DP\\data\\errors_emocontext.csv')"
   ]
  },
  {
   "cell_type": "code",
   "execution_count": 34,
   "metadata": {},
   "outputs": [
    {
     "data": {
      "text/plain": [
       "others    114\n",
       "happy      84\n",
       "angry      72\n",
       "sad        51\n",
       "Name: Label, dtype: int64"
      ]
     },
     "execution_count": 34,
     "metadata": {},
     "output_type": "execute_result"
    }
   ],
   "source": [
    "different['Label'].value_counts()"
   ]
  },
  {
   "cell_type": "markdown",
   "metadata": {},
   "source": [
    "### Vyskyt emotikonov "
   ]
  },
  {
   "cell_type": "code",
   "execution_count": 119,
   "metadata": {},
   "outputs": [],
   "source": [
    "tweets_sad = tweets[tweets['Label']=='sad'].reset_index(drop=True)\n",
    "tweets_angry = tweets[tweets['Label']=='angry'].reset_index(drop=True)\n",
    "tweets_happy = tweets[tweets['Label']=='happy'].reset_index(drop=True)\n",
    "tweets_others = tweets[tweets['Label']=='others'].reset_index(drop=True)\n",
    "\n",
    "different_sad = different[different['Label']=='sad'].reset_index(drop=True)\n",
    "different_angry = different[different['Label']=='angry'].reset_index(drop=True)\n",
    "different_happy = different[different['Label']=='happy'].reset_index(drop=True)\n",
    "different_others = different[different['Label']=='others'].reset_index(drop=True)"
   ]
  },
  {
   "cell_type": "code",
   "execution_count": 95,
   "metadata": {},
   "outputs": [
    {
     "data": {
      "text/plain": [
       "happy    83\n",
       "sad      25\n",
       "angry     6\n",
       "Name: Pred, dtype: int64"
      ]
     },
     "execution_count": 95,
     "metadata": {},
     "output_type": "execute_result"
    }
   ],
   "source": [
    "different_others['Pred'].value_counts()"
   ]
  },
  {
   "cell_type": "code",
   "execution_count": 120,
   "metadata": {},
   "outputs": [],
   "source": [
    "from nltk.tokenize import TweetTokenizer\n",
    "\n",
    "tokenizer = TweetTokenizer(preserve_case=False, reduce_len=True, strip_handles=True)\n",
    "\n",
    "emoji_dic = {}\n",
    "for i in range (0, len(tweets)):\n",
    "    tokens = tokenizer.tokenize(tweets['Text'][i])\n",
    "    for token in tokens:\n",
    "        if token in emoji_model:\n",
    "            try:\n",
    "                emoji_dic[token] += 1\n",
    "            except:\n",
    "                emoji_dic[token] = 1\n",
    "                \n",
    "diff_dic = {}\n",
    "for i in range (0, len(different_others)):\n",
    "    tokens = tokenizer.tokenize(different_others['Text'][i])\n",
    "    for token in tokens:\n",
    "        if token in emoji_model:\n",
    "            try:\n",
    "                diff_dic[token] += 1\n",
    "            except:\n",
    "                diff_dic[token] = 1"
   ]
  },
  {
   "cell_type": "code",
   "execution_count": null,
   "metadata": {},
   "outputs": [],
   "source": [
    "dict(sorted(emoji_dic.items(), key=lambda item: item[1], reverse=True))"
   ]
  },
  {
   "cell_type": "code",
   "execution_count": 75,
   "metadata": {},
   "outputs": [
    {
     "data": {
      "text/plain": [
       "{'😍': 0.0634441087613293,\n",
       " '😒': 0.055248618784530384,\n",
       " '😅': 0.050387596899224806,\n",
       " '😘': 0.041666666666666664,\n",
       " '😀': 0.03546099290780142,\n",
       " '😆': 0.03543307086614173,\n",
       " '😂': 0.019834221432800475,\n",
       " '😁': 0.015748031496062992,\n",
       " '😞': 0.012320328542094456}"
      ]
     },
     "execution_count": 75,
     "metadata": {},
     "output_type": "execute_result"
    }
   ],
   "source": [
    "emo_diff = {}\n",
    "for emo in diff_dic:\n",
    "    if diff_dic[emo] > 5:\n",
    "        emo_diff[emo] = diff_dic[emo]/emoji_dic[emo]\n",
    "\n",
    "dict(sorted(emo_diff.items(), key=lambda item: item[1], reverse=True))"
   ]
  },
  {
   "cell_type": "markdown",
   "metadata": {},
   "source": [
    "### Pozicie emotikonov"
   ]
  },
  {
   "cell_type": "code",
   "execution_count": 22,
   "metadata": {},
   "outputs": [],
   "source": [
    "model = phrase_model_en.emojiVecModel"
   ]
  },
  {
   "cell_type": "code",
   "execution_count": 31,
   "metadata": {},
   "outputs": [],
   "source": [
    "pos = {\"beg\":0,\"mid\":0,\"end\":0}\n",
    "\n",
    "for sent in tweets['Text']:\n",
    "# for sent in different['Text']:\n",
    "    sent_len = len(sent)\n",
    "    for char in sent[:int(sent_len/3)]:\n",
    "        if char in emoji_model:\n",
    "            pos['beg']+=1\n",
    "            break\n",
    "    for char in sent[int(sent_len/3):int(2*sent_len/3)]:\n",
    "        if char in emoji_model:\n",
    "            pos['mid']+=1\n",
    "            break\n",
    "    for char in sent[int(2*sent_len/3):]:\n",
    "        if char in emoji_model:\n",
    "            pos['end']+=1\n",
    "            break\n",
    "        "
   ]
  },
  {
   "cell_type": "code",
   "execution_count": 32,
   "metadata": {},
   "outputs": [
    {
     "data": {
      "text/plain": [
       "{'beg': 950, 'mid': 1786, 'end': 4474}"
      ]
     },
     "execution_count": 32,
     "metadata": {},
     "output_type": "execute_result"
    }
   ],
   "source": [
    "pos"
   ]
  },
  {
   "cell_type": "code",
   "execution_count": null,
   "metadata": {},
   "outputs": [],
   "source": []
  },
  {
   "cell_type": "markdown",
   "metadata": {},
   "source": [
    "### Priemerne hodnoty sentimentu emotikonov"
   ]
  },
  {
   "cell_type": "code",
   "execution_count": 125,
   "metadata": {},
   "outputs": [
    {
     "name": "stdout",
     "output_type": "stream",
     "text": [
      "overall sentiment in dataset: 0.3077859228971984\n"
     ]
    }
   ],
   "source": [
    "sentiment = 0\n",
    "count = 0\n",
    "\n",
    "for sent in tweets_others['Text']:\n",
    "    for char in sent:\n",
    "        if char in emoji_model:\n",
    "            try:\n",
    "                sentiment += get_emoji_sentiment_rank(char)[\"sentiment_score\"]\n",
    "            except:\n",
    "                pass\n",
    "            count += 1\n",
    "            \n",
    "sentiment /= count\n",
    "print(f\"overall sentiment in dataset: {sentiment}\")"
   ]
  },
  {
   "cell_type": "code",
   "execution_count": 127,
   "metadata": {},
   "outputs": [
    {
     "name": "stdout",
     "output_type": "stream",
     "text": [
      "overall sentiment in dataset: 0.2627545126353791\n"
     ]
    }
   ],
   "source": [
    "sentiment = 0\n",
    "count = 0\n",
    "\n",
    "for sent in different_others['Text']:\n",
    "    for char in sent:\n",
    "        if char in emoji_model:\n",
    "            try:\n",
    "                sentiment += get_emoji_sentiment_rank(char)[\"sentiment_score\"]\n",
    "            except:\n",
    "                pass\n",
    "            count += 1\n",
    "            \n",
    "sentiment /= count\n",
    "print(f\"overall sentiment in dataset: {sentiment}\")"
   ]
  },
  {
   "cell_type": "code",
   "execution_count": null,
   "metadata": {},
   "outputs": [],
   "source": []
  },
  {
   "cell_type": "markdown",
   "metadata": {},
   "source": [
    "---"
   ]
  },
  {
   "cell_type": "markdown",
   "metadata": {},
   "source": [
    "## Chybova analyza datasetu Seesame (DATA-SK-FB)"
   ]
  },
  {
   "cell_type": "code",
   "execution_count": 76,
   "metadata": {},
   "outputs": [],
   "source": [
    "tweets = pd.read_csv('D:\\Downloads\\DP\\data\\seesame_emoji.csv')\n",
    "different = pd.read_csv('D:\\Downloads\\DP\\data\\errors_seesame.csv')"
   ]
  },
  {
   "cell_type": "code",
   "execution_count": 77,
   "metadata": {},
   "outputs": [
    {
     "data": {
      "text/plain": [
       "Neutral     2211\n",
       "Negative     923\n",
       "Positive     862\n",
       "Name: Label, dtype: int64"
      ]
     },
     "execution_count": 77,
     "metadata": {},
     "output_type": "execute_result"
    }
   ],
   "source": [
    "different['Label'].value_counts()"
   ]
  },
  {
   "cell_type": "markdown",
   "metadata": {},
   "source": [
    "### Vyskyt emotikonov "
   ]
  },
  {
   "cell_type": "code",
   "execution_count": 85,
   "metadata": {},
   "outputs": [],
   "source": [
    "tweets_neg = tweets[tweets['Label']=='Negative'].reset_index(drop=True)\n",
    "tweets_neu = tweets[tweets['Label']=='Neutral'].reset_index(drop=True)\n",
    "tweets_pos = tweets[tweets['Label']=='Positive'].reset_index(drop=True)\n",
    "\n",
    "different_neg = different[different['Label']=='Negative'].reset_index(drop=True)\n",
    "different_neu = different[different['Label']=='Neutral'].reset_index(drop=True)\n",
    "different_pos = different[different['Label']=='Positive'].reset_index(drop=True)"
   ]
  },
  {
   "cell_type": "code",
   "execution_count": 86,
   "metadata": {},
   "outputs": [
    {
     "data": {
      "text/plain": [
       "Positive    714\n",
       "Neutral     209\n",
       "Name: Pred, dtype: int64"
      ]
     },
     "execution_count": 86,
     "metadata": {},
     "output_type": "execute_result"
    }
   ],
   "source": [
    "different_neg['Pred'].value_counts()"
   ]
  },
  {
   "cell_type": "code",
   "execution_count": 112,
   "metadata": {},
   "outputs": [],
   "source": [
    "from nltk.tokenize import TweetTokenizer\n",
    "\n",
    "tokenizer = TweetTokenizer(preserve_case=False, reduce_len=True, strip_handles=True)\n",
    "\n",
    "emoji_dic = {}\n",
    "for i in range (0, len(tweets)):\n",
    "    tokens = tokenizer.tokenize(tweets['Text'][i])\n",
    "    for token in tokens:\n",
    "        if token in emoji_model:\n",
    "            try:\n",
    "                emoji_dic[token] += 1\n",
    "            except:\n",
    "                emoji_dic[token] = 1\n",
    "                \n",
    "diff_dic = {}\n",
    "for i in range (0, len(different_neg)):\n",
    "    tokens = tokenizer.tokenize(different_neg['Text'][i])\n",
    "    for token in tokens:\n",
    "        if token in emoji_model:\n",
    "            try:\n",
    "                diff_dic[token] += 1\n",
    "            except:\n",
    "                diff_dic[token] = 1"
   ]
  },
  {
   "cell_type": "code",
   "execution_count": null,
   "metadata": {},
   "outputs": [],
   "source": [
    "# dict(sorted(diff_dic.items(), key=lambda item: item[1], reverse=True))\n",
    "dict(sorted(emoji_dic.items(), key=lambda item: item[1], reverse=True))"
   ]
  },
  {
   "cell_type": "code",
   "execution_count": 117,
   "metadata": {
    "scrolled": true
   },
   "outputs": [
    {
     "data": {
      "text/plain": [
       "{'😄': 0.03812913065582105,\n",
       " '😋': 0.03741746148202495,\n",
       " '😉': 0.0188957779746088,\n",
       " '😃': 0.018885166006701187,\n",
       " '🍀': 0.01878952122854562,\n",
       " '🙂': 0.017773131207527444,\n",
       " '😁': 0.014737991266375546,\n",
       " '😀': 0.011796162315193457,\n",
       " '👍': 0.007691304914613479,\n",
       " '😂': 0.004336754993236254}"
      ]
     },
     "execution_count": 117,
     "metadata": {},
     "output_type": "execute_result"
    }
   ],
   "source": [
    "emo_diff = {}\n",
    "for emo in diff_dic:\n",
    "    if diff_dic[emo] > 50:\n",
    "        emo_diff[emo] = diff_dic[emo]/emoji_dic[emo]\n",
    "\n",
    "dict(sorted(emo_diff.items(), key=lambda item: item[1], reverse=True))"
   ]
  },
  {
   "cell_type": "markdown",
   "metadata": {},
   "source": [
    "### Pozicie emotikonov"
   ]
  },
  {
   "cell_type": "code",
   "execution_count": 76,
   "metadata": {},
   "outputs": [],
   "source": [
    "pos = {\"beg\":0,\"mid\":0,\"end\":0}\n",
    "\n",
    "for sent in tweets['Text']:\n",
    "# for sent in different['Text']:\n",
    "    sent_len = len(sent)\n",
    "    for char in sent[:int(sent_len/3)]:\n",
    "        if char in emoji_model:\n",
    "            pos['beg']+=1\n",
    "            break\n",
    "    for char in sent[int(sent_len/3):int(2*sent_len/3)]:\n",
    "        if char in emoji_model:\n",
    "            pos['mid']+=1\n",
    "            break\n",
    "    for char in sent[int(2*sent_len/3):]:\n",
    "        if char in emoji_model:\n",
    "            pos['end']+=1\n",
    "            break\n",
    "        "
   ]
  },
  {
   "cell_type": "code",
   "execution_count": 77,
   "metadata": {},
   "outputs": [
    {
     "data": {
      "text/plain": [
       "{'beg': 6225, 'mid': 8447, 'end': 73954}"
      ]
     },
     "execution_count": 77,
     "metadata": {},
     "output_type": "execute_result"
    }
   ],
   "source": [
    "pos"
   ]
  },
  {
   "cell_type": "markdown",
   "metadata": {},
   "source": [
    "### Priemerne hodnoty sentimentu emotikonov"
   ]
  },
  {
   "cell_type": "code",
   "execution_count": 85,
   "metadata": {},
   "outputs": [
    {
     "name": "stdout",
     "output_type": "stream",
     "text": [
      "overall sentiment in dataset: 0.5269538642413389\n"
     ]
    }
   ],
   "source": [
    "sentiment = 0\n",
    "count = 0\n",
    "\n",
    "for sent in tweets_pos['Text']:\n",
    "    for char in sent:\n",
    "        if char in emoji_model:\n",
    "            try:\n",
    "                sentiment += get_emoji_sentiment_rank(char)[\"sentiment_score\"]\n",
    "            except:\n",
    "                pass\n",
    "            count += 1\n",
    "            \n",
    "sentiment /= count\n",
    "print(f\"overall sentiment in dataset: {sentiment}\")"
   ]
  },
  {
   "cell_type": "code",
   "execution_count": 89,
   "metadata": {},
   "outputs": [
    {
     "name": "stdout",
     "output_type": "stream",
     "text": [
      "overall sentiment in dataset: 0.3252052052052057\n"
     ]
    }
   ],
   "source": [
    "sentiment = 0\n",
    "count = 0\n",
    "\n",
    "for sent in different_pos['Text']:\n",
    "    for char in sent:\n",
    "        if char in emoji_model:\n",
    "            try:\n",
    "                sentiment += get_emoji_sentiment_rank(char)[\"sentiment_score\"]\n",
    "            except:\n",
    "                pass\n",
    "            count += 1\n",
    "            \n",
    "sentiment /= count\n",
    "print(f\"overall sentiment in dataset: {sentiment}\")"
   ]
  },
  {
   "cell_type": "code",
   "execution_count": null,
   "metadata": {},
   "outputs": [],
   "source": []
  },
  {
   "cell_type": "markdown",
   "metadata": {},
   "source": [
    "---"
   ]
  },
  {
   "cell_type": "markdown",
   "metadata": {},
   "source": [
    "## Testing"
   ]
  },
  {
   "cell_type": "code",
   "execution_count": 124,
   "metadata": {},
   "outputs": [],
   "source": [
    "# pri EMOCONTEXT su pouzite niektore nove emotikony -> nahradime\n",
    "emo_mapping = {\n",
    "    '🙁':'😕',\n",
    "    '🤣':'😂',\n",
    "    '🤐':'😬',\n",
    "    '🙄':'😏',\n",
    "    '🍾':'🍹',\n",
    "    '🤗':'☺',\n",
    "    '🤔':'😏',\n",
    "    '🤡':'🃏',\n",
    "    '🤑':'💰',\n",
    "    '🤥':'😢',\n",
    "    '🤷':'💁',\n",
    "    '\\u200d':'',\n",
    "}\n",
    "\n",
    "for i, j in emo_mapping.items():\n",
    "    tweets['Text'] = tweets['Text'].str.replace(i, j)\n",
    "    \n",
    "for i, j in emo_mapping.items():\n",
    "    different['Text'] = different['Text'].str.replace(i, j)"
   ]
  },
  {
   "cell_type": "code",
   "execution_count": null,
   "metadata": {},
   "outputs": [],
   "source": []
  }
 ],
 "metadata": {
  "kernelspec": {
   "display_name": "Python 3",
   "language": "python",
   "name": "python3"
  },
  "language_info": {
   "codemirror_mode": {
    "name": "ipython",
    "version": 3
   },
   "file_extension": ".py",
   "mimetype": "text/x-python",
   "name": "python",
   "nbconvert_exporter": "python",
   "pygments_lexer": "ipython3",
   "version": "3.7.3"
  }
 },
 "nbformat": 4,
 "nbformat_minor": 2
}
