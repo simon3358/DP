{
 "cells": [
  {
   "cell_type": "code",
   "execution_count": 1,
   "metadata": {},
   "outputs": [],
   "source": [
    "import pandas as pd\n",
    "import gensim.models as gsm\n",
    "import phrase2vec as p2v\n",
    "from utils import create_tweet_vectors, create_emoji_tweets, create_emoji_sentiment\n",
    "\n",
    "from sklearn.naive_bayes import GaussianNB\n",
    "from sklearn.ensemble import RandomForestClassifier\n",
    "from sklearn.ensemble import GradientBoostingClassifier\n",
    "from sklearn.svm import SVC\n",
    "\n",
    "from sklearn import metrics\n",
    "from sklearn.model_selection import RandomizedSearchCV\n",
    "from scipy import stats\n",
    "\n",
    "from emosent import get_emoji_sentiment_rank\n",
    "from vaderSentiment.vaderSentiment import SentimentIntensityAnalyzer"
   ]
  },
  {
   "cell_type": "markdown",
   "metadata": {},
   "source": [
    "## Nacitanie dat a embeddingov"
   ]
  },
  {
   "cell_type": "code",
   "execution_count": 2,
   "metadata": {},
   "outputs": [],
   "source": [
    "# tweets = pd.read_csv('D:\\Downloads\\DP\\data\\e2v_data.csv')\n",
    "tweets = pd.read_csv('D:\\Downloads\\DP\\data\\e2v_data_emoji.csv')"
   ]
  },
  {
   "cell_type": "code",
   "execution_count": 3,
   "metadata": {
    "scrolled": true
   },
   "outputs": [
    {
     "name": "stderr",
     "output_type": "stream",
     "text": [
      "19520 | INFO | loading projection weights from D:\\Downloads\\DP\\word2vec300_en.vec\n",
      "19520 | INFO | loaded (2000000, 300) matrix from D:\\Downloads\\DP\\word2vec300_en.vec\n",
      "19520 | INFO | loading projection weights from D:\\Downloads\\DP\\emoji2vec300.bin\n",
      "19520 | INFO | loaded (1661, 300) matrix from D:\\Downloads\\DP\\emoji2vec300.bin\n"
     ]
    }
   ],
   "source": [
    "phrase_model_en = p2v.Phrase2Vec(\n",
    "    300,\n",
    "    gsm.KeyedVectors.load_word2vec_format('D:\\Downloads\\DP\\word2vec300_en.vec', binary=False),\n",
    "    gsm.KeyedVectors.load_word2vec_format('D:\\Downloads\\DP\\emoji2vec300.bin', binary=True)\n",
    ")\n",
    "\n",
    "# phrase_model_no_e2v_en = p2v.Phrase2Vec(\n",
    "#     300,\n",
    "#     gsm.KeyedVectors.load_word2vec_format('D:\\Downloads\\DP\\word2vec300_en.vec', binary=False)\n",
    "# )"
   ]
  },
  {
   "cell_type": "code",
   "execution_count": null,
   "metadata": {},
   "outputs": [],
   "source": [
    "# pre SK potom iny notebook\n",
    "\n",
    "# phrase_model_sk = p2v.Phrase2Vec(\n",
    "#     300,\n",
    "#     gsm.KeyedVectors.load_word2vec_format('D:\\Downloads\\DP\\word2vec300_sk.vec', binary=False),\n",
    "#     gsm.KeyedVectors.load_word2vec_format('D:\\Downloads\\DP\\emoji2vec300.bin', binary=True)\n",
    "# )"
   ]
  },
  {
   "cell_type": "code",
   "execution_count": 4,
   "metadata": {},
   "outputs": [],
   "source": [
    "# create_emoji_tweets(tweets, phrase_model_en.emojiVecModel, 'D:\\Downloads\\DP\\data\\e2v_data_emoji.csv')"
   ]
  },
  {
   "cell_type": "markdown",
   "metadata": {},
   "source": [
    "## Priprava dat\n",
    "- rozdelenie dat v zadanom pomere na trenovaciu / testovaniu mnozinu, s rozdelenim labelov (predikovana hodnota)"
   ]
  },
  {
   "cell_type": "code",
   "execution_count": 4,
   "metadata": {},
   "outputs": [],
   "source": [
    "tweets = create_emoji_sentiment(tweets, phrase_model_en.emojiVecModel)"
   ]
  },
  {
   "cell_type": "code",
   "execution_count": 5,
   "metadata": {},
   "outputs": [],
   "source": [
    "# tweets = tweets.sample(frac=1).reset_index(drop=True)\n",
    "\n",
    "# train_x, train_y, test_x, test_y = create_tweet_vectors(tweets, phrase_model_no_e2v_en, 0.8, False)\n",
    "# train_x_e2v, _, test_x_e2v, _ = create_tweet_vectors(tweets, phrase_model_en, 0.8, False)\n",
    "\n",
    "# train_x_sen, _, test_x_sen, _ = create_tweet_vectors(tweets, phrase_model_no_e2v_en, 0.8, True)\n",
    "train_x_e2v_sen, train_y, test_x_e2v_sen, test_y = create_tweet_vectors(tweets, phrase_model_en, 0.8, True)"
   ]
  },
  {
   "cell_type": "code",
   "execution_count": null,
   "metadata": {},
   "outputs": [],
   "source": []
  },
  {
   "cell_type": "markdown",
   "metadata": {},
   "source": [
    "## Vader - ziskanie baseline-u"
   ]
  },
  {
   "cell_type": "code",
   "execution_count": 6,
   "metadata": {},
   "outputs": [],
   "source": [
    "vader = SentimentIntensityAnalyzer()"
   ]
  },
  {
   "cell_type": "code",
   "execution_count": 7,
   "metadata": {},
   "outputs": [],
   "source": [
    "tweets['Lex'] = tweets['Text'].apply(lambda x: vader.polarity_scores(x)['compound'])\n",
    "tweets['Lex_label'] = tweets['Lex'].apply(lambda x: 'Positive' if x > 0.05 else ('Neutral' if x > -0.05 else 'Negative')) \n",
    "# hranice 0.05 su dane od autora"
   ]
  },
  {
   "cell_type": "code",
   "execution_count": 11,
   "metadata": {
    "scrolled": true
   },
   "outputs": [
    {
     "data": {
      "text/plain": [
       "0.5722963644730787"
      ]
     },
     "execution_count": 11,
     "metadata": {},
     "output_type": "execute_result"
    }
   ],
   "source": [
    "metrics.accuracy_score(tweets['Label'], tweets['Lex_label'])"
   ]
  },
  {
   "cell_type": "code",
   "execution_count": 12,
   "metadata": {},
   "outputs": [
    {
     "data": {
      "text/plain": [
       "0.538508232708095"
      ]
     },
     "execution_count": 12,
     "metadata": {},
     "output_type": "execute_result"
    }
   ],
   "source": [
    "metrics.f1_score(tweets['Label'], tweets['Lex_label'], average='weighted')"
   ]
  },
  {
   "cell_type": "markdown",
   "metadata": {},
   "source": [
    "## Skumanie chybovosti"
   ]
  },
  {
   "cell_type": "code",
   "execution_count": 8,
   "metadata": {},
   "outputs": [
    {
     "name": "stdout",
     "output_type": "stream",
     "text": [
      "SVM ():  0.6497929130234699 0.618961868646031\n"
     ]
    }
   ],
   "source": [
    "# SVM\n",
    "model = SVC(kernel='linear', C = 1.5)\n",
    "model.fit(train_x_e2v_sen, train_y)\n",
    "\n",
    "predict = model.predict(test_x_e2v_sen)\n",
    "acc = metrics.accuracy_score(test_y, predict)\n",
    "f1 = metrics.f1_score(test_y, predict, average='weighted')\n",
    "print(\"SVM (): \", acc, f1)"
   ]
  },
  {
   "cell_type": "code",
   "execution_count": 9,
   "metadata": {},
   "outputs": [
    {
     "data": {
      "text/html": [
       "<div>\n",
       "<style scoped>\n",
       "    .dataframe tbody tr th:only-of-type {\n",
       "        vertical-align: middle;\n",
       "    }\n",
       "\n",
       "    .dataframe tbody tr th {\n",
       "        vertical-align: top;\n",
       "    }\n",
       "\n",
       "    .dataframe thead th {\n",
       "        text-align: right;\n",
       "    }\n",
       "</style>\n",
       "<table border=\"1\" class=\"dataframe\">\n",
       "  <thead>\n",
       "    <tr style=\"text-align: right;\">\n",
       "      <th></th>\n",
       "      <th>Unnamed: 0</th>\n",
       "      <th>Id</th>\n",
       "      <th>Label</th>\n",
       "      <th>Text</th>\n",
       "      <th>Sentiment</th>\n",
       "      <th>Lex</th>\n",
       "      <th>Lex_label</th>\n",
       "    </tr>\n",
       "  </thead>\n",
       "  <tbody>\n",
       "    <tr>\n",
       "      <th>10855</th>\n",
       "      <td>10855</td>\n",
       "      <td>514973201596547072</td>\n",
       "      <td>Positive</td>\n",
       "      <td>@JennaSeychel pls bring my backpack I need it ...</td>\n",
       "      <td>0.221</td>\n",
       "      <td>0.4404</td>\n",
       "      <td>Positive</td>\n",
       "    </tr>\n",
       "    <tr>\n",
       "      <th>10856</th>\n",
       "      <td>10856</td>\n",
       "      <td>514617822430134272</td>\n",
       "      <td>Positive</td>\n",
       "      <td>RT @michelleswid: life is good 😊😊😊😊</td>\n",
       "      <td>1.935</td>\n",
       "      <td>0.9774</td>\n",
       "      <td>Positive</td>\n",
       "    </tr>\n",
       "    <tr>\n",
       "      <th>10857</th>\n",
       "      <td>10857</td>\n",
       "      <td>511602407265284097</td>\n",
       "      <td>Negative</td>\n",
       "      <td>And I like it that way gives me less time to t...</td>\n",
       "      <td>0.664</td>\n",
       "      <td>0.3612</td>\n",
       "      <td>Positive</td>\n",
       "    </tr>\n",
       "    <tr>\n",
       "      <th>10858</th>\n",
       "      <td>10858</td>\n",
       "      <td>511666785636986880</td>\n",
       "      <td>Neutral</td>\n",
       "      <td>Love And Hip Hop Hollwood 🙌🙌 Some Cold Chicks ...</td>\n",
       "      <td>1.852</td>\n",
       "      <td>0.8807</td>\n",
       "      <td>Positive</td>\n",
       "    </tr>\n",
       "    <tr>\n",
       "      <th>10859</th>\n",
       "      <td>10859</td>\n",
       "      <td>513299447833690112</td>\n",
       "      <td>Neutral</td>\n",
       "      <td>RT @_zach5: “@MrExposed: \"Female Intuition\" ht...</td>\n",
       "      <td>0.663</td>\n",
       "      <td>0.8271</td>\n",
       "      <td>Positive</td>\n",
       "    </tr>\n",
       "    <tr>\n",
       "      <th>10860</th>\n",
       "      <td>10860</td>\n",
       "      <td>514575489306882048</td>\n",
       "      <td>Positive</td>\n",
       "      <td>My dream job is to work at FedEx 😂</td>\n",
       "      <td>0.221</td>\n",
       "      <td>0.5994</td>\n",
       "      <td>Positive</td>\n",
       "    </tr>\n",
       "    <tr>\n",
       "      <th>10861</th>\n",
       "      <td>10861</td>\n",
       "      <td>513283400439181312</td>\n",
       "      <td>Positive</td>\n",
       "      <td>When @Shauski asks me to take a photo of him w...</td>\n",
       "      <td>0.630</td>\n",
       "      <td>0.6705</td>\n",
       "      <td>Positive</td>\n",
       "    </tr>\n",
       "    <tr>\n",
       "      <th>10862</th>\n",
       "      <td>10862</td>\n",
       "      <td>513082170295201792</td>\n",
       "      <td>Negative</td>\n",
       "      <td>@TiaSoSolid @MadiMego 😂😩 you threw that shit up!</td>\n",
       "      <td>-0.147</td>\n",
       "      <td>-0.4753</td>\n",
       "      <td>Negative</td>\n",
       "    </tr>\n",
       "    <tr>\n",
       "      <th>10863</th>\n",
       "      <td>10863</td>\n",
       "      <td>514262405506146304</td>\n",
       "      <td>Negative</td>\n",
       "      <td>The Stupid Things I Do 🙈 I Do It For You 😩😘😍</td>\n",
       "      <td>1.445</td>\n",
       "      <td>0.0772</td>\n",
       "      <td>Positive</td>\n",
       "    </tr>\n",
       "    <tr>\n",
       "      <th>10864</th>\n",
       "      <td>10864</td>\n",
       "      <td>514914422629101569</td>\n",
       "      <td>Positive</td>\n",
       "      <td>RT @SamiraIbrahimx: @MissKhynatNisa I'm CRYJNG...</td>\n",
       "      <td>1.326</td>\n",
       "      <td>0.9378</td>\n",
       "      <td>Positive</td>\n",
       "    </tr>\n",
       "  </tbody>\n",
       "</table>\n",
       "</div>"
      ],
      "text/plain": [
       "       Unnamed: 0                  Id     Label  \\\n",
       "10855       10855  514973201596547072  Positive   \n",
       "10856       10856  514617822430134272  Positive   \n",
       "10857       10857  511602407265284097  Negative   \n",
       "10858       10858  511666785636986880   Neutral   \n",
       "10859       10859  513299447833690112   Neutral   \n",
       "10860       10860  514575489306882048  Positive   \n",
       "10861       10861  513283400439181312  Positive   \n",
       "10862       10862  513082170295201792  Negative   \n",
       "10863       10863  514262405506146304  Negative   \n",
       "10864       10864  514914422629101569  Positive   \n",
       "\n",
       "                                                    Text  Sentiment     Lex  \\\n",
       "10855  @JennaSeychel pls bring my backpack I need it ...      0.221  0.4404   \n",
       "10856                RT @michelleswid: life is good 😊😊😊😊      1.935  0.9774   \n",
       "10857  And I like it that way gives me less time to t...      0.664  0.3612   \n",
       "10858  Love And Hip Hop Hollwood 🙌🙌 Some Cold Chicks ...      1.852  0.8807   \n",
       "10859  RT @_zach5: “@MrExposed: \"Female Intuition\" ht...      0.663  0.8271   \n",
       "10860                 My dream job is to work at FedEx 😂      0.221  0.5994   \n",
       "10861  When @Shauski asks me to take a photo of him w...      0.630  0.6705   \n",
       "10862   @TiaSoSolid @MadiMego 😂😩 you threw that shit up!     -0.147 -0.4753   \n",
       "10863       The Stupid Things I Do 🙈 I Do It For You 😩😘😍      1.445  0.0772   \n",
       "10864  RT @SamiraIbrahimx: @MissKhynatNisa I'm CRYJNG...      1.326  0.9378   \n",
       "\n",
       "      Lex_label  \n",
       "10855  Positive  \n",
       "10856  Positive  \n",
       "10857  Positive  \n",
       "10858  Positive  \n",
       "10859  Positive  \n",
       "10860  Positive  \n",
       "10861  Positive  \n",
       "10862  Negative  \n",
       "10863  Positive  \n",
       "10864  Positive  "
      ]
     },
     "execution_count": 9,
     "metadata": {},
     "output_type": "execute_result"
    }
   ],
   "source": [
    "tweets.tail(10)"
   ]
  },
  {
   "cell_type": "code",
   "execution_count": 10,
   "metadata": {},
   "outputs": [
    {
     "data": {
      "text/plain": [
       "array(['Positive', 'Positive', 'Positive', 'Positive', 'Positive',\n",
       "       'Positive', 'Positive', 'Negative', 'Positive', 'Positive'],\n",
       "      dtype='<U8')"
      ]
     },
     "execution_count": 10,
     "metadata": {},
     "output_type": "execute_result"
    }
   ],
   "source": [
    "# prediction from SVM\n",
    "predict[-10:]"
   ]
  },
  {
   "cell_type": "code",
   "execution_count": 19,
   "metadata": {},
   "outputs": [],
   "source": [
    "compare_df  = tweets[-len(predict_df):].reset_index(drop=True)"
   ]
  },
  {
   "cell_type": "code",
   "execution_count": 17,
   "metadata": {},
   "outputs": [],
   "source": [
    "predict_df = pd.DataFrame(data=predict,columns=['Pred'])"
   ]
  },
  {
   "cell_type": "code",
   "execution_count": 22,
   "metadata": {},
   "outputs": [],
   "source": [
    "# take last N rows = test_x\n",
    "# concat with predictions\n",
    "compare_df = pd.concat([compare_df, predict_df], axis=1, sort=False)"
   ]
  },
  {
   "cell_type": "code",
   "execution_count": 29,
   "metadata": {},
   "outputs": [],
   "source": [
    "compare_different = compare_df[compare_df['Label']!=compare_df['Pred']]"
   ]
  },
  {
   "cell_type": "code",
   "execution_count": 31,
   "metadata": {},
   "outputs": [
    {
     "data": {
      "text/plain": [
       "761"
      ]
     },
     "execution_count": 31,
     "metadata": {},
     "output_type": "execute_result"
    }
   ],
   "source": [
    "len(compare_different)"
   ]
  },
  {
   "cell_type": "code",
   "execution_count": 25,
   "metadata": {},
   "outputs": [
    {
     "data": {
      "text/plain": [
       "2173"
      ]
     },
     "execution_count": 25,
     "metadata": {},
     "output_type": "execute_result"
    }
   ],
   "source": [
    "len(compare_df)"
   ]
  },
  {
   "cell_type": "code",
   "execution_count": 33,
   "metadata": {},
   "outputs": [],
   "source": [
    "compare_different.to_csv('D:\\Downloads\\DP\\data\\compare_results.csv', index=False, encoding=\"utf-8-sig\")"
   ]
  },
  {
   "cell_type": "markdown",
   "metadata": {},
   "source": [
    "## Predikcie (NB, RF, GBT)\n",
    "- overenie uspesnosti modelov:\n",
    "    - model (w2v)\n",
    "    - model (w2v, e2v) \n",
    "    - model (w2v, senti)\n",
    "    - model (w2v, e2v, senti)"
   ]
  },
  {
   "cell_type": "code",
   "execution_count": 7,
   "metadata": {},
   "outputs": [],
   "source": [
    "def experiment(model, train_x, train_y, test_x, test_y, text):\n",
    "    model.fit(train_x, train_y)\n",
    "    predict = model.predict(test_x)\n",
    "    acc = metrics.accuracy_score(test_y, predict)\n",
    "    f1 = metrics.f1_score(test_y, predict, average='weighted')\n",
    "    print(text, \":   acc: \", acc,\" F1: \", f1)"
   ]
  },
  {
   "cell_type": "code",
   "execution_count": 10,
   "metadata": {},
   "outputs": [
    {
     "name": "stdout",
     "output_type": "stream",
     "text": [
      "NB()\t\t :   acc:  0.42995356037151705  F1:  0.42778169518857045\n",
      "NB(e2v)\t\t :   acc:  0.42701238390092877  F1:  0.4238146838404375\n",
      "NB(sen)\t\t :   acc:  0.4310371517027864  F1:  0.42789735048711697\n",
      "NB(e2v+sen)\t :   acc:  0.42863777089783284  F1:  0.42509403937121487\n"
     ]
    }
   ],
   "source": [
    "experiment(GaussianNB(), train_x, train_y, test_x, test_y, \"NB()\\t\\t\")\n",
    "experiment(GaussianNB(), train_x_e2v, train_y, test_x_e2v, test_y, \"NB(e2v)\\t\\t\")\n",
    "experiment(GaussianNB(), train_x_sen, train_y, test_x_sen, test_y, \"NB(sen)\\t\\t\")\n",
    "experiment(GaussianNB(), train_x_e2v_sen, train_y, test_x_e2v_sen, test_y, \"NB(e2v+sen)\\t\")"
   ]
  },
  {
   "cell_type": "code",
   "execution_count": 9,
   "metadata": {},
   "outputs": [
    {
     "name": "stdout",
     "output_type": "stream",
     "text": [
      "NaiveBayes ():  0.44187306501547985 0.43706657918652836\n"
     ]
    }
   ],
   "source": [
    "model = GaussianNB()\n",
    "model.fit(train_x, train_y)\n",
    "\n",
    "predict = model.predict(test_x)\n",
    "acc = metrics.accuracy_score(test_y, predict)\n",
    "f1 = metrics.f1_score(test_y, predict, average='weighted')\n",
    "print(\"NaiveBayes (): \", acc, f1)"
   ]
  },
  {
   "cell_type": "code",
   "execution_count": 10,
   "metadata": {},
   "outputs": [
    {
     "name": "stdout",
     "output_type": "stream",
     "text": [
      "NaiveBayes (e2v):  0.4401702786377709 0.4354977083251953\n"
     ]
    }
   ],
   "source": [
    "model = GaussianNB()\n",
    "model.fit(train_x_e2v, train_y)\n",
    "\n",
    "predict = model.predict(test_x_e2v)\n",
    "acc = metrics.accuracy_score(test_y, predict)\n",
    "f1 = metrics.f1_score(test_y, predict, average='weighted')\n",
    "print(\"NaiveBayes (e2v): \", acc, f1)"
   ]
  },
  {
   "cell_type": "code",
   "execution_count": 11,
   "metadata": {},
   "outputs": [
    {
     "name": "stdout",
     "output_type": "stream",
     "text": [
      "NaiveBayes (senti):  0.443343653250774 0.43837453445499663\n"
     ]
    }
   ],
   "source": [
    "model = GaussianNB()\n",
    "model.fit(train_x_sen, train_y)\n",
    "\n",
    "predict = model.predict(test_x_sen)\n",
    "acc = metrics.accuracy_score(test_y, predict)\n",
    "f1 = metrics.f1_score(test_y, predict, average='weighted')\n",
    "print(\"NaiveBayes (senti): \", acc, f1)"
   ]
  },
  {
   "cell_type": "code",
   "execution_count": 12,
   "metadata": {},
   "outputs": [
    {
     "name": "stdout",
     "output_type": "stream",
     "text": [
      "NaiveBayes (e2v, senti):  0.4425696594427245 0.4379606582974239\n"
     ]
    }
   ],
   "source": [
    "model = GaussianNB()\n",
    "model.fit(train_x_e2v_sen, train_y)\n",
    "\n",
    "predict = model.predict(test_x_e2v_sen)\n",
    "acc = metrics.accuracy_score(test_y, predict)\n",
    "f1 = metrics.f1_score(test_y, predict, average='weighted')\n",
    "print(\"NaiveBayes (e2v, senti): \", acc, f1)"
   ]
  },
  {
   "cell_type": "markdown",
   "metadata": {},
   "source": [
    "---"
   ]
  },
  {
   "cell_type": "code",
   "execution_count": 13,
   "metadata": {},
   "outputs": [
    {
     "name": "stdout",
     "output_type": "stream",
     "text": [
      "RandomForest ():  0.5706656346749226 0.5554340545783614\n"
     ]
    }
   ],
   "source": [
    "model = RandomForestClassifier(n_estimators=60)\n",
    "model.fit(train_x, train_y)\n",
    "\n",
    "predict = model.predict(test_x)\n",
    "acc = metrics.accuracy_score(test_y, predict)\n",
    "f1 = metrics.f1_score(test_y, predict, average='weighted')\n",
    "print(\"RandomForest (): \", acc, f1)"
   ]
  },
  {
   "cell_type": "code",
   "execution_count": 14,
   "metadata": {},
   "outputs": [
    {
     "name": "stdout",
     "output_type": "stream",
     "text": [
      "RandomForest (e2v):  0.5743034055727554 0.5597411955080135\n"
     ]
    }
   ],
   "source": [
    "model = RandomForestClassifier(n_estimators=60)\n",
    "model.fit(train_x_e2v, train_y)\n",
    "\n",
    "predict = model.predict(test_x_e2v)\n",
    "acc = metrics.accuracy_score(test_y, predict)\n",
    "f1 = metrics.f1_score(test_y, predict, average='weighted')\n",
    "print(\"RandomForest (e2v): \", acc, f1)"
   ]
  },
  {
   "cell_type": "code",
   "execution_count": 15,
   "metadata": {},
   "outputs": [
    {
     "name": "stdout",
     "output_type": "stream",
     "text": [
      "RandomForest (senti):  0.5856037151702786 0.5719939559044941\n"
     ]
    }
   ],
   "source": [
    "model = RandomForestClassifier(n_estimators=60)\n",
    "model.fit(train_x_sen, train_y)\n",
    "\n",
    "predict = model.predict(test_x_sen)\n",
    "acc = metrics.accuracy_score(test_y, predict)\n",
    "f1 = metrics.f1_score(test_y, predict, average='weighted')\n",
    "print(\"RandomForest (senti): \", acc, f1)"
   ]
  },
  {
   "cell_type": "code",
   "execution_count": 16,
   "metadata": {},
   "outputs": [
    {
     "name": "stdout",
     "output_type": "stream",
     "text": [
      "RandomForest (e2v, senti):  0.583513931888545 0.5705112016683248\n"
     ]
    }
   ],
   "source": [
    "model = RandomForestClassifier(n_estimators=60)\n",
    "model.fit(train_x_e2v_sen, train_y)\n",
    "\n",
    "predict = model.predict(test_x_e2v_sen)\n",
    "acc = metrics.accuracy_score(test_y, predict)\n",
    "f1 = metrics.f1_score(test_y, predict, average='weighted')\n",
    "print(\"RandomForest (e2v, senti): \", acc, f1)"
   ]
  },
  {
   "cell_type": "markdown",
   "metadata": {},
   "source": [
    "---"
   ]
  },
  {
   "cell_type": "code",
   "execution_count": 37,
   "metadata": {},
   "outputs": [
    {
     "name": "stdout",
     "output_type": "stream",
     "text": [
      "GBTree ():  0.5951238390092879 0.5859329263823542\n"
     ]
    }
   ],
   "source": [
    "model = GradientBoostingClassifier()\n",
    "model.fit(train_x, train_y)\n",
    "\n",
    "predict = model.predict(test_x)\n",
    "acc = metrics.accuracy_score(test_y, predict)\n",
    "f1 = metrics.f1_score(test_y, predict, average='weighted')\n",
    "print(\"GBTree (): \", acc, f1)"
   ]
  },
  {
   "cell_type": "code",
   "execution_count": 38,
   "metadata": {},
   "outputs": [
    {
     "name": "stdout",
     "output_type": "stream",
     "text": [
      "GBTree (e2v):  0.5955882352941176 0.5861045678115423\n"
     ]
    }
   ],
   "source": [
    "model = GradientBoostingClassifier()\n",
    "model.fit(train_x_e2v, train_y)\n",
    "\n",
    "predict = model.predict(test_x_e2v)\n",
    "acc = metrics.accuracy_score(test_y, predict)\n",
    "f1 = metrics.f1_score(test_y, predict, average='weighted')\n",
    "print(\"GBTree (e2v): \", acc, f1)"
   ]
  },
  {
   "cell_type": "code",
   "execution_count": 39,
   "metadata": {},
   "outputs": [
    {
     "name": "stdout",
     "output_type": "stream",
     "text": [
      "GBTree (senti):  0.6089009287925696 0.6013019094552711\n"
     ]
    }
   ],
   "source": [
    "model = GradientBoostingClassifier()\n",
    "model.fit(train_x_sen, train_y)\n",
    "\n",
    "predict = model.predict(test_x_sen)\n",
    "acc = metrics.accuracy_score(test_y, predict)\n",
    "f1 = metrics.f1_score(test_y, predict, average='weighted')\n",
    "print(\"GBTree (senti): \", acc, f1)"
   ]
  },
  {
   "cell_type": "code",
   "execution_count": 40,
   "metadata": {},
   "outputs": [
    {
     "name": "stdout",
     "output_type": "stream",
     "text": [
      "GBTree (e2v, senti):  0.6095201238390093 0.6016871407966421\n"
     ]
    }
   ],
   "source": [
    "model = GradientBoostingClassifier()\n",
    "model.fit(train_x_e2v_sen, train_y)\n",
    "\n",
    "predict = model.predict(test_x_e2v_sen)\n",
    "acc = metrics.accuracy_score(test_y, predict)\n",
    "f1 = metrics.f1_score(test_y, predict, average='weighted')\n",
    "print(\"GBTree (e2v, senti): \", acc, f1)"
   ]
  },
  {
   "cell_type": "code",
   "execution_count": 14,
   "metadata": {},
   "outputs": [
    {
     "name": "stdout",
     "output_type": "stream",
     "text": [
      "SVM()\t\t :   acc:  0.60828173374613  F1:  0.5927923262036808\n",
      "SVM(e2v)\t :   acc:  0.6196594427244582  F1:  0.6074330937009805\n",
      "SVM(sen)\t :   acc:  0.6194272445820433  F1:  0.6068696909698613\n",
      "SVM(e2v+sen)\t :   acc:  0.621594427244582  F1:  0.6098503611301096\n"
     ]
    }
   ],
   "source": [
    "experiment(SVC(kernel='linear', C = 1.5), train_x, train_y, test_x, test_y, \"SVM()\\t\\t\")\n",
    "experiment(SVC(kernel='linear', C = 1.5), train_x_e2v, train_y, test_x_e2v, test_y, \"SVM(e2v)\\t\")\n",
    "experiment(SVC(kernel='linear', C = 1.5), train_x_sen, train_y, test_x_sen, test_y, \"SVM(sen)\\t\")\n",
    "experiment(SVC(kernel='linear', C = 1.5), train_x_e2v_sen, train_y, test_x_e2v_sen, test_y, \"SVM(e2v+sen)\\t\")"
   ]
  },
  {
   "cell_type": "markdown",
   "metadata": {},
   "source": [
    "## Predikcie (NB, RF, GBT, SVM) - ONLY EMOJI\n",
    "- overenie uspesnosti modelov:\n",
    "    - model (w2v)\n",
    "    - model (w2v, e2v) \n",
    "    - model (w2v, senti)\n",
    "    - model (w2v, e2v, senti)"
   ]
  },
  {
   "cell_type": "code",
   "execution_count": 21,
   "metadata": {},
   "outputs": [
    {
     "name": "stdout",
     "output_type": "stream",
     "text": [
      "NaiveBayes ():  0.37551771744132534 0.3420771480278876\n"
     ]
    }
   ],
   "source": [
    "model = GaussianNB()\n",
    "model.fit(train_x, train_y)\n",
    "\n",
    "predict = model.predict(test_x)\n",
    "acc = metrics.accuracy_score(test_y, predict)\n",
    "f1 = metrics.f1_score(test_y, predict, average='weighted')\n",
    "print(\"NaiveBayes (): \", acc, f1)"
   ]
  },
  {
   "cell_type": "code",
   "execution_count": 22,
   "metadata": {},
   "outputs": [
    {
     "name": "stdout",
     "output_type": "stream",
     "text": [
      "NaiveBayes (e2v):  0.3888633225954901 0.3621191730906383\n"
     ]
    }
   ],
   "source": [
    "model = GaussianNB()\n",
    "model.fit(train_x_e2v, train_y)\n",
    "\n",
    "predict = model.predict(test_x_e2v)\n",
    "acc = metrics.accuracy_score(test_y, predict)\n",
    "f1 = metrics.f1_score(test_y, predict, average='weighted')\n",
    "print(\"NaiveBayes (e2v): \", acc, f1)"
   ]
  },
  {
   "cell_type": "code",
   "execution_count": 23,
   "metadata": {},
   "outputs": [
    {
     "name": "stdout",
     "output_type": "stream",
     "text": [
      "NaiveBayes (senti):  0.393005062126093 0.36410772551971843\n"
     ]
    }
   ],
   "source": [
    "model = GaussianNB()\n",
    "model.fit(train_x_sen, train_y)\n",
    "\n",
    "predict = model.predict(test_x_sen)\n",
    "acc = metrics.accuracy_score(test_y, predict)\n",
    "f1 = metrics.f1_score(test_y, predict, average='weighted')\n",
    "print(\"NaiveBayes (senti): \", acc, f1)"
   ]
  },
  {
   "cell_type": "code",
   "execution_count": 24,
   "metadata": {},
   "outputs": [
    {
     "name": "stdout",
     "output_type": "stream",
     "text": [
      "NaiveBayes (e2v, senti):  0.4063506672802577 0.3826765102600698\n"
     ]
    }
   ],
   "source": [
    "model = GaussianNB()\n",
    "model.fit(train_x_e2v_sen, train_y)\n",
    "\n",
    "predict = model.predict(test_x_e2v_sen)\n",
    "acc = metrics.accuracy_score(test_y, predict)\n",
    "f1 = metrics.f1_score(test_y, predict, average='weighted')\n",
    "print(\"NaiveBayes (e2v, senti): \", acc, f1)"
   ]
  },
  {
   "cell_type": "markdown",
   "metadata": {},
   "source": [
    "---"
   ]
  },
  {
   "cell_type": "code",
   "execution_count": 25,
   "metadata": {},
   "outputs": [
    {
     "name": "stdout",
     "output_type": "stream",
     "text": [
      "RandomForest ():  0.5250805338242062 0.49820134867490373\n"
     ]
    }
   ],
   "source": [
    "model = RandomForestClassifier(n_estimators=60)\n",
    "model.fit(train_x, train_y)\n",
    "\n",
    "predict = model.predict(test_x)\n",
    "acc = metrics.accuracy_score(test_y, predict)\n",
    "f1 = metrics.f1_score(test_y, predict, average='weighted')\n",
    "print(\"RandomForest (): \", acc, f1)"
   ]
  },
  {
   "cell_type": "code",
   "execution_count": 26,
   "metadata": {},
   "outputs": [
    {
     "name": "stdout",
     "output_type": "stream",
     "text": [
      "RandomForest (e2v):  0.548550391164289 0.5192664818626386\n"
     ]
    }
   ],
   "source": [
    "model = RandomForestClassifier(n_estimators=60)\n",
    "model.fit(train_x_e2v, train_y)\n",
    "\n",
    "predict = model.predict(test_x_e2v)\n",
    "acc = metrics.accuracy_score(test_y, predict)\n",
    "f1 = metrics.f1_score(test_y, predict, average='weighted')\n",
    "print(\"RandomForest (e2v): \", acc, f1)"
   ]
  },
  {
   "cell_type": "code",
   "execution_count": 27,
   "metadata": {},
   "outputs": [
    {
     "name": "stdout",
     "output_type": "stream",
     "text": [
      "RandomForest (senti):  0.6028531983433042 0.5735423820802442\n"
     ]
    }
   ],
   "source": [
    "model = RandomForestClassifier(n_estimators=60)\n",
    "model.fit(train_x_sen, train_y)\n",
    "\n",
    "predict = model.predict(test_x_sen)\n",
    "acc = metrics.accuracy_score(test_y, predict)\n",
    "f1 = metrics.f1_score(test_y, predict, average='weighted')\n",
    "print(\"RandomForest (senti): \", acc, f1)"
   ]
  },
  {
   "cell_type": "code",
   "execution_count": 28,
   "metadata": {},
   "outputs": [
    {
     "name": "stdout",
     "output_type": "stream",
     "text": [
      "RandomForest (e2v, senti):  0.6198803497468937 0.5887826698314691\n"
     ]
    }
   ],
   "source": [
    "model = RandomForestClassifier(n_estimators=60)\n",
    "model.fit(train_x_e2v_sen, train_y)\n",
    "\n",
    "predict = model.predict(test_x_e2v_sen)\n",
    "acc = metrics.accuracy_score(test_y, predict)\n",
    "f1 = metrics.f1_score(test_y, predict, average='weighted')\n",
    "print(\"RandomForest (e2v, senti): \", acc, f1)"
   ]
  },
  {
   "cell_type": "markdown",
   "metadata": {},
   "source": [
    "---"
   ]
  },
  {
   "cell_type": "code",
   "execution_count": 30,
   "metadata": {},
   "outputs": [
    {
     "name": "stdout",
     "output_type": "stream",
     "text": [
      "GBTree ():  0.553612517257248 0.5292395475153364\n"
     ]
    }
   ],
   "source": [
    "model = GradientBoostingClassifier()\n",
    "model.fit(train_x, train_y)\n",
    "\n",
    "predict = model.predict(test_x)\n",
    "acc = metrics.accuracy_score(test_y, predict)\n",
    "f1 = metrics.f1_score(test_y, predict, average='weighted')\n",
    "print(\"GBTree (): \", acc, f1)"
   ]
  },
  {
   "cell_type": "code",
   "execution_count": 31,
   "metadata": {},
   "outputs": [
    {
     "name": "stdout",
     "output_type": "stream",
     "text": [
      "GBTree (e2v):  0.5908881730326737 0.5685402524068177\n"
     ]
    }
   ],
   "source": [
    "model = GradientBoostingClassifier()\n",
    "model.fit(train_x_e2v, train_y)\n",
    "\n",
    "predict = model.predict(test_x_e2v)\n",
    "acc = metrics.accuracy_score(test_y, predict)\n",
    "f1 = metrics.f1_score(test_y, predict, average='weighted')\n",
    "print(\"GBTree (e2v): \", acc, f1)"
   ]
  },
  {
   "cell_type": "code",
   "execution_count": 32,
   "metadata": {},
   "outputs": [
    {
     "name": "stdout",
     "output_type": "stream",
     "text": [
      "GBTree (senti):  0.6428900138057985 0.6147398999311509\n"
     ]
    }
   ],
   "source": [
    "model = GradientBoostingClassifier()\n",
    "model.fit(train_x_sen, train_y)\n",
    "\n",
    "predict = model.predict(test_x_sen)\n",
    "acc = metrics.accuracy_score(test_y, predict)\n",
    "f1 = metrics.f1_score(test_y, predict, average='weighted')\n",
    "print(\"GBTree (senti): \", acc, f1)"
   ]
  },
  {
   "cell_type": "code",
   "execution_count": 33,
   "metadata": {},
   "outputs": [
    {
     "name": "stdout",
     "output_type": "stream",
     "text": [
      "GBTree (e2v, senti):  0.6277036355269213 0.5977394598395912\n"
     ]
    }
   ],
   "source": [
    "model = GradientBoostingClassifier()\n",
    "model.fit(train_x_e2v_sen, train_y)\n",
    "\n",
    "predict = model.predict(test_x_e2v_sen)\n",
    "acc = metrics.accuracy_score(test_y, predict)\n",
    "f1 = metrics.f1_score(test_y, predict, average='weighted')\n",
    "print(\"GBTree (e2v, senti): \", acc, f1)"
   ]
  },
  {
   "cell_type": "markdown",
   "metadata": {},
   "source": [
    "---"
   ]
  },
  {
   "cell_type": "code",
   "execution_count": 9,
   "metadata": {},
   "outputs": [
    {
     "name": "stdout",
     "output_type": "stream",
     "text": [
      "SVM()\t\t :   acc:  0.553612517257248  F1:  0.5092475874470038\n",
      "SVM(e2v)\t\t :   acc:  0.6079153244362633  F1:  0.5713656959478562\n",
      "SVM(sen)\t\t :   acc:  0.621260929590428  F1:  0.5732609645388096\n",
      "SVM(e2v+sen)\t :   acc:  0.6332259549010585  F1:  0.5943614039588038\n"
     ]
    }
   ],
   "source": [
    "experiment(SVC(kernel='linear', C = 1.5), train_x, train_y, test_x, test_y, \"SVM()\\t\\t\")\n",
    "experiment(SVC(kernel='linear', C = 1.5), train_x_e2v, train_y, test_x_e2v, test_y, \"SVM(e2v)\\t\")\n",
    "experiment(SVC(kernel='linear', C = 1.5), train_x_sen, train_y, test_x_sen, test_y, \"SVM(sen)\\t\")\n",
    "experiment(SVC(kernel='linear', C = 1.5), train_x_e2v_sen, train_y, test_x_e2v_sen, test_y, \"SVM(e2v+sen)\\t\")"
   ]
  },
  {
   "cell_type": "markdown",
   "metadata": {},
   "source": [
    "### Testing"
   ]
  },
  {
   "cell_type": "code",
   "execution_count": 10,
   "metadata": {},
   "outputs": [
    {
     "data": {
      "text/plain": [
       "0.221"
      ]
     },
     "execution_count": 10,
     "metadata": {},
     "output_type": "execute_result"
    }
   ],
   "source": [
    "get_emoji_sentiment_rank('😂')['sentiment_score']"
   ]
  },
  {
   "cell_type": "code",
   "execution_count": 50,
   "metadata": {},
   "outputs": [
    {
     "name": "stdout",
     "output_type": "stream",
     "text": [
      "RandomForest ():  0.6062693498452012 0.5962205000538585\n"
     ]
    }
   ],
   "source": [
    "# grad. boosting trees\n",
    "model = GradientBoostingClassifier()\n",
    "model.fit(train_x, train_y)\n",
    "\n",
    "predict = model.predict(test_x)\n",
    "acc = metrics.accuracy_score(test_y, predict)\n",
    "f1 = metrics.f1_score(test_y, predict, average='weighted')\n",
    "print(\"GradBoostTree (): \", acc, f1)"
   ]
  },
  {
   "cell_type": "code",
   "execution_count": 9,
   "metadata": {},
   "outputs": [
    {
     "name": "stdout",
     "output_type": "stream",
     "text": [
      "SVM ():  0.6497929130234699 0.618961868646031\n"
     ]
    }
   ],
   "source": [
    "# SVM\n",
    "model = SVC(kernel='linear', C = 1.5)\n",
    "model.fit(train_x_e2v_sen, train_y)\n",
    "\n",
    "predict = model.predict(test_x_e2v_sen)\n",
    "acc = metrics.accuracy_score(test_y, predict)\n",
    "f1 = metrics.f1_score(test_y, predict, average='weighted')\n",
    "print(\"SVM (): \", acc, f1)"
   ]
  },
  {
   "cell_type": "code",
   "execution_count": 26,
   "metadata": {},
   "outputs": [
    {
     "name": "stdout",
     "output_type": "stream",
     "text": [
      "RandomForest:  0.519558214450069 0.4884329060108204\n"
     ]
    }
   ],
   "source": [
    "# baseline\n",
    "model = RandomForestClassifier(n_estimators=60)\n",
    "model.fit(train_x, train_y)\n",
    "\n",
    "predict = model.predict(test_x)\n",
    "acc = metrics.accuracy_score(test_y, predict)\n",
    "f1 = metrics.f1_score(test_y, predict, average='weighted')\n",
    "print(\"RandomForest: \", acc, f1)"
   ]
  },
  {
   "cell_type": "code",
   "execution_count": null,
   "metadata": {},
   "outputs": [],
   "source": []
  },
  {
   "cell_type": "code",
   "execution_count": 12,
   "metadata": {},
   "outputs": [],
   "source": [
    "limit = int(len(train_x)*0.8)\n",
    "valid_x = train_x[limit:]\n",
    "train_x = train_x[:limit]\n",
    "valid_y = train_y[limit:]\n",
    "train_y = train_y[:limit]"
   ]
  },
  {
   "cell_type": "code",
   "execution_count": 19,
   "metadata": {},
   "outputs": [
    {
     "name": "stdout",
     "output_type": "stream",
     "text": [
      "---RandomForest---\n",
      "Accuracy:  0.5741486068111455\n",
      "0.5546377512459062\n",
      "\n",
      "<bound method BaseEstimator.get_params of RandomForestClassifier(bootstrap=True, class_weight=None, criterion='entropy',\n",
      "                       max_depth=14, max_features='auto', max_leaf_nodes=None,\n",
      "                       min_impurity_decrease=0.0, min_impurity_split=None,\n",
      "                       min_samples_leaf=3, min_samples_split=4,\n",
      "                       min_weight_fraction_leaf=0.0, n_estimators=150,\n",
      "                       n_jobs=None, oob_score=False, random_state=0, verbose=0,\n",
      "                       warm_start=False)>\n"
     ]
    }
   ],
   "source": [
    "params = {\n",
    "    'max_depth': stats.randint(1,15),\n",
    "    'criterion': ['gini', 'entropy'],\n",
    "    'min_samples_leaf': stats.randint(1,4),\n",
    "    'min_samples_split': stats.randint(2,5),\n",
    "    'n_estimators': [20,60,100,150]\n",
    "}\n",
    "\n",
    "random_optimization = RandomizedSearchCV(RandomForestClassifier(random_state=0), param_distributions=params, \n",
    "                                          cv=10, random_state=42, n_jobs=-1, n_iter = 30, scoring='f1_weighted')\n",
    "\n",
    "random_optimization.fit(valid_x, valid_y)\n",
    "\n",
    "\n",
    "# RandomForest\n",
    "cls = random_optimization.best_estimator_\n",
    "cls.fit(train_x, train_y)\n",
    "\n",
    "print(\"---RandomForest---\")         \n",
    "predict = cls.predict(test_x)\n",
    "print(\"Accuracy: \", metrics.accuracy_score(predict, test_y))\n",
    "print(metrics.f1_score(test_y, predict, average='weighted'))\n",
    "print()\n",
    "print(cls.get_params)"
   ]
  },
  {
   "cell_type": "code",
   "execution_count": null,
   "metadata": {},
   "outputs": [],
   "source": []
  }
 ],
 "metadata": {
  "kernelspec": {
   "display_name": "Python 3",
   "language": "python",
   "name": "python3"
  },
  "language_info": {
   "codemirror_mode": {
    "name": "ipython",
    "version": 3
   },
   "file_extension": ".py",
   "mimetype": "text/x-python",
   "name": "python",
   "nbconvert_exporter": "python",
   "pygments_lexer": "ipython3",
   "version": "3.7.3"
  }
 },
 "nbformat": 4,
 "nbformat_minor": 2
}
