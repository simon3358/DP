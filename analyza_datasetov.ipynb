{
 "cells": [
  {
   "cell_type": "code",
   "execution_count": 1,
   "metadata": {},
   "outputs": [],
   "source": [
    "import pandas as pd\n",
    "import matplotlib.pyplot as plt"
   ]
  },
  {
   "cell_type": "markdown",
   "metadata": {},
   "source": [
    "## Analyza datasetu E2V (DATA-EN-TW)"
   ]
  },
  {
   "cell_type": "code",
   "execution_count": 116,
   "metadata": {},
   "outputs": [],
   "source": [
    "# tweets = pd.read_csv('D:/Downloads/DP/data/e2v_data.csv')\n",
    "tweets = pd.read_csv('D:/Downloads/DP/data/e2v_data_emoji.csv')"
   ]
  },
  {
   "cell_type": "code",
   "execution_count": 71,
   "metadata": {},
   "outputs": [
    {
     "data": {
      "text/plain": [
       "64599"
      ]
     },
     "execution_count": 71,
     "metadata": {},
     "output_type": "execute_result"
    }
   ],
   "source": [
    "len(tweets)"
   ]
  },
  {
   "cell_type": "code",
   "execution_count": 72,
   "metadata": {},
   "outputs": [
    {
     "data": {
      "text/html": [
       "<div>\n",
       "<style scoped>\n",
       "    .dataframe tbody tr th:only-of-type {\n",
       "        vertical-align: middle;\n",
       "    }\n",
       "\n",
       "    .dataframe tbody tr th {\n",
       "        vertical-align: top;\n",
       "    }\n",
       "\n",
       "    .dataframe thead th {\n",
       "        text-align: right;\n",
       "    }\n",
       "</style>\n",
       "<table border=\"1\" class=\"dataframe\">\n",
       "  <thead>\n",
       "    <tr style=\"text-align: right;\">\n",
       "      <th></th>\n",
       "      <th>Id</th>\n",
       "      <th>Label</th>\n",
       "      <th>Text</th>\n",
       "    </tr>\n",
       "  </thead>\n",
       "  <tbody>\n",
       "    <tr>\n",
       "      <th>0</th>\n",
       "      <td>511594664559128576</td>\n",
       "      <td>Neutral</td>\n",
       "      <td>RT @AngrySalmond: In an independent Scotland, ...</td>\n",
       "    </tr>\n",
       "    <tr>\n",
       "      <th>1</th>\n",
       "      <td>513311397384441856</td>\n",
       "      <td>Neutral</td>\n",
       "      <td>󾓫Spanish ☺</td>\n",
       "    </tr>\n",
       "    <tr>\n",
       "      <th>2</th>\n",
       "      <td>512055543096426496</td>\n",
       "      <td>Negative</td>\n",
       "      <td>an uh she wanna pillow fight in the middle of ...</td>\n",
       "    </tr>\n",
       "    <tr>\n",
       "      <th>3</th>\n",
       "      <td>514398892343844864</td>\n",
       "      <td>Neutral</td>\n",
       "      <td>RT @momen_mubasher: #Obama how come he never p...</td>\n",
       "    </tr>\n",
       "    <tr>\n",
       "      <th>4</th>\n",
       "      <td>515032706196205568</td>\n",
       "      <td>Neutral</td>\n",
       "      <td>\"FDI means 'First Develop India' for me,\" says...</td>\n",
       "    </tr>\n",
       "  </tbody>\n",
       "</table>\n",
       "</div>"
      ],
      "text/plain": [
       "                   Id     Label  \\\n",
       "0  511594664559128576   Neutral   \n",
       "1  513311397384441856   Neutral   \n",
       "2  512055543096426496  Negative   \n",
       "3  514398892343844864   Neutral   \n",
       "4  515032706196205568   Neutral   \n",
       "\n",
       "                                                Text  \n",
       "0  RT @AngrySalmond: In an independent Scotland, ...  \n",
       "1                                         󾓫Spanish ☺  \n",
       "2  an uh she wanna pillow fight in the middle of ...  \n",
       "3  RT @momen_mubasher: #Obama how come he never p...  \n",
       "4  \"FDI means 'First Develop India' for me,\" says...  "
      ]
     },
     "execution_count": 72,
     "metadata": {},
     "output_type": "execute_result"
    }
   ],
   "source": [
    "tweets.head()"
   ]
  },
  {
   "cell_type": "code",
   "execution_count": 73,
   "metadata": {
    "scrolled": true
   },
   "outputs": [
    {
     "data": {
      "text/html": [
       "<div>\n",
       "<style scoped>\n",
       "    .dataframe tbody tr th:only-of-type {\n",
       "        vertical-align: middle;\n",
       "    }\n",
       "\n",
       "    .dataframe tbody tr th {\n",
       "        vertical-align: top;\n",
       "    }\n",
       "\n",
       "    .dataframe thead th {\n",
       "        text-align: right;\n",
       "    }\n",
       "</style>\n",
       "<table border=\"1\" class=\"dataframe\">\n",
       "  <thead>\n",
       "    <tr style=\"text-align: right;\">\n",
       "      <th></th>\n",
       "      <th>Id</th>\n",
       "      <th>Label</th>\n",
       "      <th>Text</th>\n",
       "    </tr>\n",
       "  </thead>\n",
       "  <tbody>\n",
       "    <tr>\n",
       "      <th>0</th>\n",
       "      <td>512413254287507458</td>\n",
       "      <td>Positive</td>\n",
       "      <td>Heartbreak Girl &amp;lt;3</td>\n",
       "    </tr>\n",
       "    <tr>\n",
       "      <th>1</th>\n",
       "      <td>514453242151845888</td>\n",
       "      <td>Neutral</td>\n",
       "      <td>Let her go :)</td>\n",
       "    </tr>\n",
       "    <tr>\n",
       "      <th>2</th>\n",
       "      <td>512006490690191361</td>\n",
       "      <td>Neutral</td>\n",
       "      <td>RT @thatkidbank: The strongest drug http://t.c...</td>\n",
       "    </tr>\n",
       "    <tr>\n",
       "      <th>3</th>\n",
       "      <td>513723663947165696</td>\n",
       "      <td>Positive</td>\n",
       "      <td>RT @kd_made: Church or no church I still love ...</td>\n",
       "    </tr>\n",
       "    <tr>\n",
       "      <th>4</th>\n",
       "      <td>513826281755262977</td>\n",
       "      <td>Negative</td>\n",
       "      <td>“@ElleJ614: it needs to be washed....and.........</td>\n",
       "    </tr>\n",
       "  </tbody>\n",
       "</table>\n",
       "</div>"
      ],
      "text/plain": [
       "                   Id     Label  \\\n",
       "0  512413254287507458  Positive   \n",
       "1  514453242151845888   Neutral   \n",
       "2  512006490690191361   Neutral   \n",
       "3  513723663947165696  Positive   \n",
       "4  513826281755262977  Negative   \n",
       "\n",
       "                                                Text  \n",
       "0                              Heartbreak Girl &lt;3  \n",
       "1                                      Let her go :)  \n",
       "2  RT @thatkidbank: The strongest drug http://t.c...  \n",
       "3  RT @kd_made: Church or no church I still love ...  \n",
       "4  “@ElleJ614: it needs to be washed....and.........  "
      ]
     },
     "execution_count": 73,
     "metadata": {},
     "output_type": "execute_result"
    }
   ],
   "source": [
    "tweets.sample(frac=1).reset_index(drop=True).head()"
   ]
  },
  {
   "cell_type": "code",
   "execution_count": 74,
   "metadata": {},
   "outputs": [
    {
     "name": "stdout",
     "output_type": "stream",
     "text": [
      "Average words:  12.234446353658726\n",
      "Average chars:  77.8933110419666\n"
     ]
    }
   ],
   "source": [
    "words = 0\n",
    "chars = 0\n",
    "for t in tweets['Text']:\n",
    "    chars += len(t)\n",
    "    words += len(t.split())\n",
    "\n",
    "avg_words = words / len(tweets)\n",
    "avg_chars = chars / len(tweets)\n",
    "print(\"Average words: \", avg_words)\n",
    "print(\"Average chars: \", avg_chars)"
   ]
  },
  {
   "cell_type": "code",
   "execution_count": 75,
   "metadata": {},
   "outputs": [
    {
     "data": {
      "text/plain": [
       "Neutral     29722\n",
       "Positive    18611\n",
       "Negative    16266\n",
       "Name: Label, dtype: int64"
      ]
     },
     "execution_count": 75,
     "metadata": {},
     "output_type": "execute_result"
    }
   ],
   "source": [
    "tweets['Label'].value_counts()"
   ]
  },
  {
   "cell_type": "code",
   "execution_count": 76,
   "metadata": {},
   "outputs": [
    {
     "name": "stdout",
     "output_type": "stream",
     "text": [
      "Average words:  12.33066415449835\n",
      "Average chars:  82.2511607563421\n"
     ]
    }
   ],
   "source": [
    "# pocetnosti v jednotlivych triedach\n",
    "words = 0\n",
    "chars = 0\n",
    "tw = tweets[tweets['Label']=='Neutral']\n",
    "for t in tw['Text']:\n",
    "    chars += len(t)\n",
    "    words += len(t.split())\n",
    "\n",
    "avg_words = words / len(tw)\n",
    "avg_chars = chars / len(tw)\n",
    "print(\"Average words: \", avg_words)\n",
    "print(\"Average chars: \", avg_chars)"
   ]
  },
  {
   "cell_type": "code",
   "execution_count": 117,
   "metadata": {},
   "outputs": [],
   "source": [
    "tweets['Text_lenght'] = tweets['Text'].apply(lambda x: len(x))"
   ]
  },
  {
   "cell_type": "code",
   "execution_count": 112,
   "metadata": {},
   "outputs": [
    {
     "data": {
      "text/plain": [
       "count    64599.000000\n",
       "mean        77.893311\n",
       "std         39.258549\n",
       "min          4.000000\n",
       "25%         45.000000\n",
       "50%         73.000000\n",
       "75%        112.000000\n",
       "max        161.000000\n",
       "Name: Text_lenght, dtype: float64"
      ]
     },
     "execution_count": 112,
     "metadata": {},
     "output_type": "execute_result"
    }
   ],
   "source": [
    "tweets['Text_lenght'].describe()"
   ]
  },
  {
   "cell_type": "code",
   "execution_count": 118,
   "metadata": {},
   "outputs": [
    {
     "data": {
      "text/plain": [
       "count    10865.000000\n",
       "mean        68.102807\n",
       "std         35.792928\n",
       "min          5.000000\n",
       "25%         40.000000\n",
       "50%         61.000000\n",
       "75%         92.000000\n",
       "max        161.000000\n",
       "Name: Text_lenght, dtype: float64"
      ]
     },
     "execution_count": 118,
     "metadata": {},
     "output_type": "execute_result"
    }
   ],
   "source": [
    "tweets['Text_lenght'].describe()"
   ]
  },
  {
   "cell_type": "code",
   "execution_count": 81,
   "metadata": {},
   "outputs": [
    {
     "data": {
      "text/plain": [
       "<Figure size 7200x3600 with 0 Axes>"
      ]
     },
     "execution_count": 81,
     "metadata": {},
     "output_type": "execute_result"
    },
    {
     "data": {
      "image/png": "[encoded data removed]",
      "text/plain": [
       "<Figure size 432x288 with 1 Axes>"
      ]
     },
     "metadata": {
      "needs_background": "light"
     },
     "output_type": "display_data"
    },
    {
     "data": {
      "text/plain": [
       "<Figure size 7200x3600 with 0 Axes>"
      ]
     },
     "metadata": {},
     "output_type": "display_data"
    }
   ],
   "source": [
    "plt.hist(tweets['Text_lenght'],bins=100)\n",
    "plt.title(\"Histogram dĺžky slov\")\n",
    "plt.xlabel('dĺžka')\n",
    "plt.ylabel('frekvencia')\n",
    "plt.figure(figsize=(100,50))"
   ]
  },
  {
   "cell_type": "markdown",
   "metadata": {},
   "source": [
    "## Analyza datasetu Emocontext (DATA-EN-SE)"
   ]
  },
  {
   "cell_type": "code",
   "execution_count": 119,
   "metadata": {},
   "outputs": [],
   "source": [
    "tweets = pd.read_csv('D:/Downloads/DP/data/emocontext.csv')"
   ]
  },
  {
   "cell_type": "code",
   "execution_count": 33,
   "metadata": {},
   "outputs": [
    {
     "data": {
      "text/plain": [
       "38423"
      ]
     },
     "execution_count": 33,
     "metadata": {},
     "output_type": "execute_result"
    }
   ],
   "source": [
    "len(tweets)"
   ]
  },
  {
   "cell_type": "code",
   "execution_count": 34,
   "metadata": {},
   "outputs": [
    {
     "data": {
      "text/html": [
       "<div>\n",
       "<style scoped>\n",
       "    .dataframe tbody tr th:only-of-type {\n",
       "        vertical-align: middle;\n",
       "    }\n",
       "\n",
       "    .dataframe tbody tr th {\n",
       "        vertical-align: top;\n",
       "    }\n",
       "\n",
       "    .dataframe thead th {\n",
       "        text-align: right;\n",
       "    }\n",
       "</style>\n",
       "<table border=\"1\" class=\"dataframe\">\n",
       "  <thead>\n",
       "    <tr style=\"text-align: right;\">\n",
       "      <th></th>\n",
       "      <th>first</th>\n",
       "      <th>second</th>\n",
       "      <th>third</th>\n",
       "      <th>Label</th>\n",
       "    </tr>\n",
       "  </thead>\n",
       "  <tbody>\n",
       "    <tr>\n",
       "      <th>0</th>\n",
       "      <td>when did i ?</td>\n",
       "      <td>saw many times i think -_-</td>\n",
       "      <td>no . i never saw you</td>\n",
       "      <td>angry</td>\n",
       "    </tr>\n",
       "    <tr>\n",
       "      <th>1</th>\n",
       "      <td>by</td>\n",
       "      <td>by google chrome</td>\n",
       "      <td>where you live</td>\n",
       "      <td>others</td>\n",
       "    </tr>\n",
       "    <tr>\n",
       "      <th>2</th>\n",
       "      <td>u r ridiculous</td>\n",
       "      <td>i might be ridiculous but i am telling the tru...</td>\n",
       "      <td>u little disgusting whore</td>\n",
       "      <td>angry</td>\n",
       "    </tr>\n",
       "    <tr>\n",
       "      <th>3</th>\n",
       "      <td>just for time pass</td>\n",
       "      <td>wt do u do &lt;number&gt; a living then</td>\n",
       "      <td>maybe</td>\n",
       "      <td>others</td>\n",
       "    </tr>\n",
       "    <tr>\n",
       "      <th>4</th>\n",
       "      <td>i am a dog person</td>\n",
       "      <td>youre so rude</td>\n",
       "      <td>that &lt;elongated&gt; why</td>\n",
       "      <td>others</td>\n",
       "    </tr>\n",
       "  </tbody>\n",
       "</table>\n",
       "</div>"
      ],
      "text/plain": [
       "                first                                             second  \\\n",
       "0        when did i ?                         saw many times i think -_-   \n",
       "1                  by                                   by google chrome   \n",
       "2      u r ridiculous  i might be ridiculous but i am telling the tru...   \n",
       "3  just for time pass                  wt do u do <number> a living then   \n",
       "4   i am a dog person                                      youre so rude   \n",
       "\n",
       "                       third   Label  \n",
       "0       no . i never saw you   angry  \n",
       "1             where you live  others  \n",
       "2  u little disgusting whore   angry  \n",
       "3                      maybe  others  \n",
       "4       that <elongated> why  others  "
      ]
     },
     "execution_count": 34,
     "metadata": {},
     "output_type": "execute_result"
    }
   ],
   "source": [
    "tweets.head()"
   ]
  },
  {
   "cell_type": "code",
   "execution_count": 35,
   "metadata": {
    "scrolled": true
   },
   "outputs": [
    {
     "data": {
      "text/html": [
       "<div>\n",
       "<style scoped>\n",
       "    .dataframe tbody tr th:only-of-type {\n",
       "        vertical-align: middle;\n",
       "    }\n",
       "\n",
       "    .dataframe tbody tr th {\n",
       "        vertical-align: top;\n",
       "    }\n",
       "\n",
       "    .dataframe thead th {\n",
       "        text-align: right;\n",
       "    }\n",
       "</style>\n",
       "<table border=\"1\" class=\"dataframe\">\n",
       "  <thead>\n",
       "    <tr style=\"text-align: right;\">\n",
       "      <th></th>\n",
       "      <th>first</th>\n",
       "      <th>second</th>\n",
       "      <th>third</th>\n",
       "      <th>Label</th>\n",
       "    </tr>\n",
       "  </thead>\n",
       "  <tbody>\n",
       "    <tr>\n",
       "      <th>0</th>\n",
       "      <td>how much are they selling the game</td>\n",
       "      <td>how much money do you have ?</td>\n",
       "      <td>ok</td>\n",
       "      <td>others</td>\n",
       "    </tr>\n",
       "    <tr>\n",
       "      <th>1</th>\n",
       "      <td>will you get married someday</td>\n",
       "      <td>yes me too</td>\n",
       "      <td>when baby</td>\n",
       "      <td>others</td>\n",
       "    </tr>\n",
       "    <tr>\n",
       "      <th>2</th>\n",
       "      <td>what</td>\n",
       "      <td>even ! ' &lt;number&gt; ' what '</td>\n",
       "      <td>i hate dis</td>\n",
       "      <td>angry</td>\n",
       "    </tr>\n",
       "    <tr>\n",
       "      <th>3</th>\n",
       "      <td>say about my future ?</td>\n",
       "      <td>you should abort your future</td>\n",
       "      <td>abort means ?</td>\n",
       "      <td>others</td>\n",
       "    </tr>\n",
       "    <tr>\n",
       "      <th>4</th>\n",
       "      <td>what dreams did you ahve</td>\n",
       "      <td>i have seen many weird dreams in my childhood .</td>\n",
       "      <td>have *</td>\n",
       "      <td>others</td>\n",
       "    </tr>\n",
       "  </tbody>\n",
       "</table>\n",
       "</div>"
      ],
      "text/plain": [
       "                                first  \\\n",
       "0  how much are they selling the game   \n",
       "1        will you get married someday   \n",
       "2                                what   \n",
       "3               say about my future ?   \n",
       "4            what dreams did you ahve   \n",
       "\n",
       "                                            second          third   Label  \n",
       "0                     how much money do you have ?             ok  others  \n",
       "1                                       yes me too      when baby  others  \n",
       "2                       even ! ' <number> ' what '     i hate dis   angry  \n",
       "3                     you should abort your future  abort means ?  others  \n",
       "4  i have seen many weird dreams in my childhood .         have *  others  "
      ]
     },
     "execution_count": 35,
     "metadata": {},
     "output_type": "execute_result"
    }
   ],
   "source": [
    "tweets.sample(frac=1).reset_index(drop=True).head()"
   ]
  },
  {
   "cell_type": "code",
   "execution_count": 36,
   "metadata": {},
   "outputs": [
    {
     "name": "stdout",
     "output_type": "stream",
     "text": [
      "Average words:  4.574109257475991\n",
      "Average chars:  19.78471228170627\n"
     ]
    }
   ],
   "source": [
    "words = 0\n",
    "chars = 0\n",
    "for t in tweets['first']:\n",
    "    chars += len(t)\n",
    "    words += len(t.split())\n",
    "\n",
    "avg_words = words / len(tweets)\n",
    "avg_chars = chars / len(tweets)\n",
    "print(\"Average words: \", avg_words)\n",
    "print(\"Average chars: \", avg_chars)"
   ]
  },
  {
   "cell_type": "code",
   "execution_count": 37,
   "metadata": {},
   "outputs": [
    {
     "name": "stdout",
     "output_type": "stream",
     "text": [
      "Average words:  6.871899643442729\n",
      "Average chars:  30.279988548525623\n"
     ]
    }
   ],
   "source": [
    "words = 0\n",
    "chars = 0\n",
    "for t in tweets['second']:\n",
    "    chars += len(t)\n",
    "    words += len(t.split())\n",
    "\n",
    "avg_words = words / len(tweets)\n",
    "avg_chars = chars / len(tweets)\n",
    "print(\"Average words: \", avg_words)\n",
    "print(\"Average chars: \", avg_chars)"
   ]
  },
  {
   "cell_type": "code",
   "execution_count": 38,
   "metadata": {},
   "outputs": [
    {
     "name": "stdout",
     "output_type": "stream",
     "text": [
      "Average words:  4.475158108424641\n",
      "Average chars:  18.961455378289045\n"
     ]
    }
   ],
   "source": [
    "words = 0\n",
    "chars = 0\n",
    "for t in tweets['third']:\n",
    "    chars += len(t)\n",
    "    words += len(t.split())\n",
    "\n",
    "avg_words = words / len(tweets)\n",
    "avg_chars = chars / len(tweets)\n",
    "print(\"Average words: \", avg_words)\n",
    "print(\"Average chars: \", avg_chars)"
   ]
  },
  {
   "cell_type": "code",
   "execution_count": 39,
   "metadata": {},
   "outputs": [
    {
     "data": {
      "text/plain": [
       "others    21962\n",
       "angry      5954\n",
       "sad        5838\n",
       "happy      4669\n",
       "Name: Label, dtype: int64"
      ]
     },
     "execution_count": 39,
     "metadata": {},
     "output_type": "execute_result"
    }
   ],
   "source": [
    "tweets['Label'].value_counts()"
   ]
  },
  {
   "cell_type": "code",
   "execution_count": null,
   "metadata": {},
   "outputs": [],
   "source": [
    "# pocetnosti v jednotlivych triedach\n",
    "words = 0\n",
    "chars = 0\n",
    "tw = tweets[tweets['Label']=='Happy']\n",
    "for t in tw['Text']:\n",
    "    chars += len(t)\n",
    "    words += len(t.split())\n",
    "\n",
    "avg_words = words / len(tw)\n",
    "avg_chars = chars / len(tw)\n",
    "print(\"Average words: \", avg_words)\n",
    "print(\"Average chars: \", avg_chars)"
   ]
  },
  {
   "cell_type": "code",
   "execution_count": 124,
   "metadata": {},
   "outputs": [],
   "source": [
    "tweets['Text_lenght'] = tweets['third'].apply(lambda x: len(x))"
   ]
  },
  {
   "cell_type": "code",
   "execution_count": 121,
   "metadata": {},
   "outputs": [
    {
     "data": {
      "text/plain": [
       "count    38423.000000\n",
       "mean        19.784712\n",
       "std         15.802673\n",
       "min          1.000000\n",
       "25%         10.000000\n",
       "50%         17.000000\n",
       "75%         25.000000\n",
       "max        469.000000\n",
       "Name: Text_lenght, dtype: float64"
      ]
     },
     "execution_count": 121,
     "metadata": {},
     "output_type": "execute_result"
    }
   ],
   "source": [
    "tweets['Text_lenght'].describe()"
   ]
  },
  {
   "cell_type": "code",
   "execution_count": 123,
   "metadata": {},
   "outputs": [
    {
     "data": {
      "text/plain": [
       "count    38423.000000\n",
       "mean        30.279989\n",
       "std         18.778046\n",
       "min          1.000000\n",
       "25%         17.000000\n",
       "50%         26.000000\n",
       "75%         40.000000\n",
       "max        189.000000\n",
       "Name: Text_lenght, dtype: float64"
      ]
     },
     "execution_count": 123,
     "metadata": {},
     "output_type": "execute_result"
    }
   ],
   "source": [
    "tweets['Text_lenght'].describe()"
   ]
  },
  {
   "cell_type": "code",
   "execution_count": 125,
   "metadata": {},
   "outputs": [
    {
     "data": {
      "text/plain": [
       "count    38423.000000\n",
       "mean        18.961455\n",
       "std         16.626651\n",
       "min          1.000000\n",
       "25%          9.000000\n",
       "50%         16.000000\n",
       "75%         24.000000\n",
       "max        625.000000\n",
       "Name: Text_lenght, dtype: float64"
      ]
     },
     "execution_count": 125,
     "metadata": {},
     "output_type": "execute_result"
    }
   ],
   "source": [
    "tweets['Text_lenght'].describe()"
   ]
  },
  {
   "cell_type": "code",
   "execution_count": 107,
   "metadata": {},
   "outputs": [
    {
     "data": {
      "text/plain": [
       "<Figure size 2880x1440 with 0 Axes>"
      ]
     },
     "execution_count": 107,
     "metadata": {},
     "output_type": "execute_result"
    },
    {
     "data": {
      "image/png": "[encoded data removed]",
      "text/plain": [
       "<Figure size 432x288 with 1 Axes>"
      ]
     },
     "metadata": {
      "needs_background": "light"
     },
     "output_type": "display_data"
    },
    {
     "data": {
      "text/plain": [
       "<Figure size 2880x1440 with 0 Axes>"
      ]
     },
     "metadata": {},
     "output_type": "display_data"
    }
   ],
   "source": [
    "plt.hist(tweets['Text_lenght'],bins=90)\n",
    "plt.title(\"Histogram dĺžky slov\")\n",
    "plt.xlabel('dĺžka')\n",
    "plt.ylabel('frekvencia')\n",
    "plt.figure(figsize=(40,20))"
   ]
  },
  {
   "cell_type": "markdown",
   "metadata": {},
   "source": [
    "## Analyza datasetu Seesame (DATA-SK-FB)"
   ]
  },
  {
   "cell_type": "code",
   "execution_count": 126,
   "metadata": {},
   "outputs": [],
   "source": [
    "tweets = pd.read_csv('D:/Downloads/DP/data/seesame_emoji.csv')"
   ]
  },
  {
   "cell_type": "code",
   "execution_count": 51,
   "metadata": {},
   "outputs": [
    {
     "data": {
      "text/html": [
       "<div>\n",
       "<style scoped>\n",
       "    .dataframe tbody tr th:only-of-type {\n",
       "        vertical-align: middle;\n",
       "    }\n",
       "\n",
       "    .dataframe tbody tr th {\n",
       "        vertical-align: top;\n",
       "    }\n",
       "\n",
       "    .dataframe thead th {\n",
       "        text-align: right;\n",
       "    }\n",
       "</style>\n",
       "<table border=\"1\" class=\"dataframe\">\n",
       "  <thead>\n",
       "    <tr style=\"text-align: right;\">\n",
       "      <th></th>\n",
       "      <th>Text</th>\n",
       "      <th>positive</th>\n",
       "      <th>negative</th>\n",
       "      <th>Lab</th>\n",
       "      <th>Label</th>\n",
       "    </tr>\n",
       "  </thead>\n",
       "  <tbody>\n",
       "    <tr>\n",
       "      <th>0</th>\n",
       "      <td>Jak se vám líbí nové dresy HC VERVA Litvínov? ...</td>\n",
       "      <td>0.5409</td>\n",
       "      <td>0.4591</td>\n",
       "      <td>3.0</td>\n",
       "      <td>Neutral</td>\n",
       "    </tr>\n",
       "    <tr>\n",
       "      <th>1</th>\n",
       "      <td>Umíte bezpečně předjíždět? 🚗 🚙\\n\\nZní to jako ...</td>\n",
       "      <td>0.3407</td>\n",
       "      <td>0.6593</td>\n",
       "      <td>2.0</td>\n",
       "      <td>Negative</td>\n",
       "    </tr>\n",
       "    <tr>\n",
       "      <th>2</th>\n",
       "      <td>Poslední pokračování šampionátu Mercedes-Benz ...</td>\n",
       "      <td>0.4180</td>\n",
       "      <td>0.5820</td>\n",
       "      <td>2.0</td>\n",
       "      <td>Negative</td>\n",
       "    </tr>\n",
       "    <tr>\n",
       "      <th>3</th>\n",
       "      <td>Představte si, že takhle při pátku narazíte na...</td>\n",
       "      <td>0.4007</td>\n",
       "      <td>0.5993</td>\n",
       "      <td>2.0</td>\n",
       "      <td>Negative</td>\n",
       "    </tr>\n",
       "    <tr>\n",
       "      <th>4</th>\n",
       "      <td>Sledujte 10. závod sezóny Mercedes-Benz Virtua...</td>\n",
       "      <td>0.3484</td>\n",
       "      <td>0.6516</td>\n",
       "      <td>2.0</td>\n",
       "      <td>Negative</td>\n",
       "    </tr>\n",
       "    <tr>\n",
       "      <th>...</th>\n",
       "      <td>...</td>\n",
       "      <td>...</td>\n",
       "      <td>...</td>\n",
       "      <td>...</td>\n",
       "      <td>...</td>\n",
       "    </tr>\n",
       "    <tr>\n",
       "      <th>84316</th>\n",
       "      <td>Tomáš Szomju Pohľad na Vás mi evokuje rozprávk...</td>\n",
       "      <td>0.2820</td>\n",
       "      <td>0.7180</td>\n",
       "      <td>2.0</td>\n",
       "      <td>Negative</td>\n",
       "    </tr>\n",
       "    <tr>\n",
       "      <th>84317</th>\n",
       "      <td>Netreba to citat...vasi volici nevysedavaju na...</td>\n",
       "      <td>0.3650</td>\n",
       "      <td>0.6350</td>\n",
       "      <td>2.0</td>\n",
       "      <td>Negative</td>\n",
       "    </tr>\n",
       "    <tr>\n",
       "      <th>84318</th>\n",
       "      <td>Je to ťažká situácia 🤞✌️👌👍😝😝Držím palce...</td>\n",
       "      <td>0.8543</td>\n",
       "      <td>0.1457</td>\n",
       "      <td>3.0</td>\n",
       "      <td>Positive</td>\n",
       "    </tr>\n",
       "    <tr>\n",
       "      <th>84319</th>\n",
       "      <td>Súhlasím a veľmi držím palce🍀🍀🍀</td>\n",
       "      <td>0.8648</td>\n",
       "      <td>0.1352</td>\n",
       "      <td>3.0</td>\n",
       "      <td>Positive</td>\n",
       "    </tr>\n",
       "    <tr>\n",
       "      <th>84320</th>\n",
       "      <td>Veľa síl vám prajem 👏👏👏👏👏👍👍👍👍👍♥️♥️♥️</td>\n",
       "      <td>0.8614</td>\n",
       "      <td>0.1386</td>\n",
       "      <td>3.0</td>\n",
       "      <td>Positive</td>\n",
       "    </tr>\n",
       "  </tbody>\n",
       "</table>\n",
       "<p>84321 rows × 5 columns</p>\n",
       "</div>"
      ],
      "text/plain": [
       "                                                    Text  positive  negative  \\\n",
       "0      Jak se vám líbí nové dresy HC VERVA Litvínov? ...    0.5409    0.4591   \n",
       "1      Umíte bezpečně předjíždět? 🚗 🚙\\n\\nZní to jako ...    0.3407    0.6593   \n",
       "2      Poslední pokračování šampionátu Mercedes-Benz ...    0.4180    0.5820   \n",
       "3      Představte si, že takhle při pátku narazíte na...    0.4007    0.5993   \n",
       "4      Sledujte 10. závod sezóny Mercedes-Benz Virtua...    0.3484    0.6516   \n",
       "...                                                  ...       ...       ...   \n",
       "84316  Tomáš Szomju Pohľad na Vás mi evokuje rozprávk...    0.2820    0.7180   \n",
       "84317  Netreba to citat...vasi volici nevysedavaju na...    0.3650    0.6350   \n",
       "84318        Je to ťažká situácia 🤞✌️👌👍😝😝Držím palce...     0.8543    0.1457   \n",
       "84319                    Súhlasím a veľmi držím palce🍀🍀🍀    0.8648    0.1352   \n",
       "84320               Veľa síl vám prajem 👏👏👏👏👏👍👍👍👍👍♥️♥️♥️    0.8614    0.1386   \n",
       "\n",
       "       Lab     Label  \n",
       "0      3.0   Neutral  \n",
       "1      2.0  Negative  \n",
       "2      2.0  Negative  \n",
       "3      2.0  Negative  \n",
       "4      2.0  Negative  \n",
       "...    ...       ...  \n",
       "84316  2.0  Negative  \n",
       "84317  2.0  Negative  \n",
       "84318  3.0  Positive  \n",
       "84319  3.0  Positive  \n",
       "84320  3.0  Positive  \n",
       "\n",
       "[84321 rows x 5 columns]"
      ]
     },
     "execution_count": 51,
     "metadata": {},
     "output_type": "execute_result"
    }
   ],
   "source": [
    "tweets"
   ]
  },
  {
   "cell_type": "code",
   "execution_count": 52,
   "metadata": {},
   "outputs": [
    {
     "data": {
      "text/plain": [
       "Positive    36192\n",
       "Negative    30913\n",
       "Neutral     17216\n",
       "Name: Label, dtype: int64"
      ]
     },
     "execution_count": 52,
     "metadata": {},
     "output_type": "execute_result"
    }
   ],
   "source": [
    "tweets['Label'].value_counts()"
   ]
  },
  {
   "cell_type": "code",
   "execution_count": 53,
   "metadata": {
    "scrolled": true
   },
   "outputs": [
    {
     "data": {
      "text/html": [
       "<div>\n",
       "<style scoped>\n",
       "    .dataframe tbody tr th:only-of-type {\n",
       "        vertical-align: middle;\n",
       "    }\n",
       "\n",
       "    .dataframe tbody tr th {\n",
       "        vertical-align: top;\n",
       "    }\n",
       "\n",
       "    .dataframe thead th {\n",
       "        text-align: right;\n",
       "    }\n",
       "</style>\n",
       "<table border=\"1\" class=\"dataframe\">\n",
       "  <thead>\n",
       "    <tr style=\"text-align: right;\">\n",
       "      <th></th>\n",
       "      <th>Text</th>\n",
       "      <th>positive</th>\n",
       "      <th>negative</th>\n",
       "      <th>Label</th>\n",
       "    </tr>\n",
       "  </thead>\n",
       "  <tbody>\n",
       "    <tr>\n",
       "      <th>0</th>\n",
       "      <td>Maloumac popušiš mi ..rac!😃 Ty si ale ťululum!😃</td>\n",
       "      <td>0.5869</td>\n",
       "      <td>0.4131</td>\n",
       "      <td>Positive</td>\n",
       "    </tr>\n",
       "    <tr>\n",
       "      <th>1</th>\n",
       "      <td>Želala by som si vyhrať LEGO Friends nemocnica 🙂</td>\n",
       "      <td>0.4565</td>\n",
       "      <td>0.5435</td>\n",
       "      <td>Neutral</td>\n",
       "    </tr>\n",
       "    <tr>\n",
       "      <th>2</th>\n",
       "      <td>My sme zmenili tiez plienky.Lebo tieto nove su...</td>\n",
       "      <td>0.3516</td>\n",
       "      <td>0.6484</td>\n",
       "      <td>Negative</td>\n",
       "    </tr>\n",
       "    <tr>\n",
       "      <th>3</th>\n",
       "      <td>Mozno do prace alebo na chatu😊</td>\n",
       "      <td>0.5060</td>\n",
       "      <td>0.4940</td>\n",
       "      <td>Neutral</td>\n",
       "    </tr>\n",
       "    <tr>\n",
       "      <th>4</th>\n",
       "      <td>Bez akehokolvek sudenia no.......🤦🏼‍♀️🤦🏼‍♀️🤦🏼‍...</td>\n",
       "      <td>0.5532</td>\n",
       "      <td>0.4468</td>\n",
       "      <td>Positive</td>\n",
       "    </tr>\n",
       "  </tbody>\n",
       "</table>\n",
       "</div>"
      ],
      "text/plain": [
       "                                                Text  positive  negative  \\\n",
       "0    Maloumac popušiš mi ..rac!😃 Ty si ale ťululum!😃    0.5869    0.4131   \n",
       "1   Želala by som si vyhrať LEGO Friends nemocnica 🙂    0.4565    0.5435   \n",
       "2  My sme zmenili tiez plienky.Lebo tieto nove su...    0.3516    0.6484   \n",
       "3                     Mozno do prace alebo na chatu😊    0.5060    0.4940   \n",
       "4  Bez akehokolvek sudenia no.......🤦🏼‍♀️🤦🏼‍♀️🤦🏼‍...    0.5532    0.4468   \n",
       "\n",
       "      Label  \n",
       "0  Positive  \n",
       "1   Neutral  \n",
       "2  Negative  \n",
       "3   Neutral  \n",
       "4  Positive  "
      ]
     },
     "execution_count": 53,
     "metadata": {},
     "output_type": "execute_result"
    }
   ],
   "source": [
    "tweets[['Text','positive','negative','Label']].sample(frac=1).reset_index(drop=True).head()"
   ]
  },
  {
   "cell_type": "code",
   "execution_count": 54,
   "metadata": {},
   "outputs": [
    {
     "name": "stdout",
     "output_type": "stream",
     "text": [
      "Average words:  11.266956037048896\n",
      "Average chars:  66.47358309317964\n"
     ]
    }
   ],
   "source": [
    "words = 0\n",
    "chars = 0\n",
    "for t in tweets['Text']:\n",
    "    chars += len(t)\n",
    "    words += len(t.split())\n",
    "\n",
    "avg_words = words / len(tweets)\n",
    "avg_chars = chars / len(tweets)\n",
    "print(\"Average words: \", avg_words)\n",
    "print(\"Average chars: \", avg_chars)"
   ]
  },
  {
   "cell_type": "code",
   "execution_count": 55,
   "metadata": {},
   "outputs": [
    {
     "name": "stdout",
     "output_type": "stream",
     "text": [
      "Average words:  10.63585875331565\n",
      "Average chars:  62.86657272325376\n"
     ]
    }
   ],
   "source": [
    "# pocetnosti v jednotlivych triedach\n",
    "words = 0\n",
    "chars = 0\n",
    "tw = tweets[tweets['Label']=='Positive']\n",
    "for t in tw['Text']:\n",
    "    chars += len(t)\n",
    "    words += len(t.split())\n",
    "\n",
    "avg_words = words / len(tw)\n",
    "avg_chars = chars / len(tw)\n",
    "print(\"Average words: \", avg_words)\n",
    "print(\"Average chars: \", avg_chars)"
   ]
  },
  {
   "cell_type": "code",
   "execution_count": 127,
   "metadata": {},
   "outputs": [],
   "source": [
    "tweets['Text_lenght'] = tweets['Text'].apply(lambda x: len(x))"
   ]
  },
  {
   "cell_type": "code",
   "execution_count": 128,
   "metadata": {},
   "outputs": [
    {
     "data": {
      "text/plain": [
       "count    84321.000000\n",
       "mean        66.473583\n",
       "std        124.196686\n",
       "min          2.000000\n",
       "25%         35.000000\n",
       "50%         47.000000\n",
       "75%         63.000000\n",
       "max      10653.000000\n",
       "Name: Text_lenght, dtype: float64"
      ]
     },
     "execution_count": 128,
     "metadata": {},
     "output_type": "execute_result"
    }
   ],
   "source": [
    "tweets['Text_lenght'].describe()"
   ]
  },
  {
   "cell_type": "code",
   "execution_count": 69,
   "metadata": {},
   "outputs": [
    {
     "data": {
      "text/plain": [
       "<Figure size 2880x1440 with 0 Axes>"
      ]
     },
     "execution_count": 69,
     "metadata": {},
     "output_type": "execute_result"
    },
    {
     "data": {
      "image/png": "[encoded data removed]",
      "text/plain": [
       "<Figure size 432x288 with 1 Axes>"
      ]
     },
     "metadata": {
      "needs_background": "light"
     },
     "output_type": "display_data"
    },
    {
     "data": {
      "text/plain": [
       "<Figure size 2880x1440 with 0 Axes>"
      ]
     },
     "metadata": {},
     "output_type": "display_data"
    }
   ],
   "source": [
    "plt.hist(tweets['Text_lenght'],bins=100)\n",
    "plt.title(\"Histogram dĺžky slov\")\n",
    "plt.xlabel('dĺžka')\n",
    "plt.ylabel('frekvencia')\n",
    "plt.figure(figsize=(40,20))"
   ]
  }
 ],
 "metadata": {
  "kernelspec": {
   "display_name": "Python 3",
   "language": "python",
   "name": "python3"
  },
  "language_info": {
   "codemirror_mode": {
    "name": "ipython",
    "version": 3
   },
   "file_extension": ".py",
   "mimetype": "text/x-python",
   "name": "python",
   "nbconvert_exporter": "python",
   "pygments_lexer": "ipython3",
   "version": "3.7.3"
  }
 },
 "nbformat": 4,
 "nbformat_minor": 2
}
