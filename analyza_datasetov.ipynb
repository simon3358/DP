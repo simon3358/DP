{
 "cells": [
  {
   "cell_type": "code",
   "execution_count": 1,
   "metadata": {},
   "outputs": [],
   "source": [
    "import pandas as pd"
   ]
  },
  {
   "cell_type": "markdown",
   "metadata": {},
   "source": [
    "## Analyza datasetu E2V"
   ]
  },
  {
   "cell_type": "code",
   "execution_count": 111,
   "metadata": {},
   "outputs": [],
   "source": [
    "# tweets = pd.read_csv('D:/Downloads/DP/data/e2v_data.csv')\n",
    "tweets = pd.read_csv('D:/Downloads/DP/data/e2v_data_emoji.csv')"
   ]
  },
  {
   "cell_type": "code",
   "execution_count": 112,
   "metadata": {},
   "outputs": [
    {
     "data": {
      "text/plain": [
       "10865"
      ]
     },
     "execution_count": 112,
     "metadata": {},
     "output_type": "execute_result"
    }
   ],
   "source": [
    "len(tweets)"
   ]
  },
  {
   "cell_type": "code",
   "execution_count": 108,
   "metadata": {},
   "outputs": [
    {
     "data": {
      "text/html": [
       "<div>\n",
       "<style scoped>\n",
       "    .dataframe tbody tr th:only-of-type {\n",
       "        vertical-align: middle;\n",
       "    }\n",
       "\n",
       "    .dataframe tbody tr th {\n",
       "        vertical-align: top;\n",
       "    }\n",
       "\n",
       "    .dataframe thead th {\n",
       "        text-align: right;\n",
       "    }\n",
       "</style>\n",
       "<table border=\"1\" class=\"dataframe\">\n",
       "  <thead>\n",
       "    <tr style=\"text-align: right;\">\n",
       "      <th></th>\n",
       "      <th>Id</th>\n",
       "      <th>Label</th>\n",
       "      <th>Text</th>\n",
       "    </tr>\n",
       "  </thead>\n",
       "  <tbody>\n",
       "    <tr>\n",
       "      <th>0</th>\n",
       "      <td>511594664559128576</td>\n",
       "      <td>Neutral</td>\n",
       "      <td>RT @AngrySalmond: In an independent Scotland, ...</td>\n",
       "    </tr>\n",
       "    <tr>\n",
       "      <th>1</th>\n",
       "      <td>513311397384441856</td>\n",
       "      <td>Neutral</td>\n",
       "      <td>󾓫Spanish ☺</td>\n",
       "    </tr>\n",
       "    <tr>\n",
       "      <th>2</th>\n",
       "      <td>512055543096426496</td>\n",
       "      <td>Negative</td>\n",
       "      <td>an uh she wanna pillow fight in the middle of ...</td>\n",
       "    </tr>\n",
       "    <tr>\n",
       "      <th>3</th>\n",
       "      <td>514398892343844864</td>\n",
       "      <td>Neutral</td>\n",
       "      <td>RT @momen_mubasher: #Obama how come he never p...</td>\n",
       "    </tr>\n",
       "    <tr>\n",
       "      <th>4</th>\n",
       "      <td>515032706196205568</td>\n",
       "      <td>Neutral</td>\n",
       "      <td>\"FDI means 'First Develop India' for me,\" says...</td>\n",
       "    </tr>\n",
       "  </tbody>\n",
       "</table>\n",
       "</div>"
      ],
      "text/plain": [
       "                   Id     Label  \\\n",
       "0  511594664559128576   Neutral   \n",
       "1  513311397384441856   Neutral   \n",
       "2  512055543096426496  Negative   \n",
       "3  514398892343844864   Neutral   \n",
       "4  515032706196205568   Neutral   \n",
       "\n",
       "                                                Text  \n",
       "0  RT @AngrySalmond: In an independent Scotland, ...  \n",
       "1                                         󾓫Spanish ☺  \n",
       "2  an uh she wanna pillow fight in the middle of ...  \n",
       "3  RT @momen_mubasher: #Obama how come he never p...  \n",
       "4  \"FDI means 'First Develop India' for me,\" says...  "
      ]
     },
     "execution_count": 108,
     "metadata": {},
     "output_type": "execute_result"
    }
   ],
   "source": [
    "tweets.head()"
   ]
  },
  {
   "cell_type": "code",
   "execution_count": 113,
   "metadata": {},
   "outputs": [
    {
     "data": {
      "text/html": [
       "<div>\n",
       "<style scoped>\n",
       "    .dataframe tbody tr th:only-of-type {\n",
       "        vertical-align: middle;\n",
       "    }\n",
       "\n",
       "    .dataframe tbody tr th {\n",
       "        vertical-align: top;\n",
       "    }\n",
       "\n",
       "    .dataframe thead th {\n",
       "        text-align: right;\n",
       "    }\n",
       "</style>\n",
       "<table border=\"1\" class=\"dataframe\">\n",
       "  <thead>\n",
       "    <tr style=\"text-align: right;\">\n",
       "      <th></th>\n",
       "      <th>Id</th>\n",
       "      <th>Label</th>\n",
       "      <th>Text</th>\n",
       "    </tr>\n",
       "  </thead>\n",
       "  <tbody>\n",
       "    <tr>\n",
       "      <th>0</th>\n",
       "      <td>5.129890e+17</td>\n",
       "      <td>Positive</td>\n",
       "      <td>Bummed I can't spoil my boyfriend for his birt...</td>\n",
       "    </tr>\n",
       "    <tr>\n",
       "      <th>1</th>\n",
       "      <td>5.116540e+17</td>\n",
       "      <td>Positive</td>\n",
       "      <td>💜💜💜💜💜💚💜💚💚💚💚💜💙💙💛💛💜💚💚#5SOSatKISSPHX @KISSFMPhoen...</td>\n",
       "    </tr>\n",
       "    <tr>\n",
       "      <th>2</th>\n",
       "      <td>5.149410e+17</td>\n",
       "      <td>Neutral</td>\n",
       "      <td>@Kryptic_kritic I liked her too, in Chicago P....</td>\n",
       "    </tr>\n",
       "    <tr>\n",
       "      <th>3</th>\n",
       "      <td>5.116310e+17</td>\n",
       "      <td>Positive</td>\n",
       "      <td>@James_Yammouni #MadeInAus YOU SHOULD FOLLOW M...</td>\n",
       "    </tr>\n",
       "    <tr>\n",
       "      <th>4</th>\n",
       "      <td>5.127940e+17</td>\n",
       "      <td>Neutral</td>\n",
       "      <td>Who wanna go to B-Dubs ? 👀</td>\n",
       "    </tr>\n",
       "  </tbody>\n",
       "</table>\n",
       "</div>"
      ],
      "text/plain": [
       "             Id     Label                                               Text\n",
       "0  5.129890e+17  Positive  Bummed I can't spoil my boyfriend for his birt...\n",
       "1  5.116540e+17  Positive  💜💜💜💜💜💚💜💚💚💚💚💜💙💙💛💛💜💚💚#5SOSatKISSPHX @KISSFMPhoen...\n",
       "2  5.149410e+17   Neutral  @Kryptic_kritic I liked her too, in Chicago P....\n",
       "3  5.116310e+17  Positive  @James_Yammouni #MadeInAus YOU SHOULD FOLLOW M...\n",
       "4  5.127940e+17   Neutral                         Who wanna go to B-Dubs ? 👀"
      ]
     },
     "execution_count": 113,
     "metadata": {},
     "output_type": "execute_result"
    }
   ],
   "source": [
    "tweets.sample(frac=1).reset_index(drop=True).head()"
   ]
  },
  {
   "cell_type": "code",
   "execution_count": 114,
   "metadata": {},
   "outputs": [
    {
     "name": "stdout",
     "output_type": "stream",
     "text": [
      "Average words:  11.38196042337782\n",
      "Average chars:  68.10280717901519\n"
     ]
    }
   ],
   "source": [
    "words = 0\n",
    "chars = 0\n",
    "for t in tweets['Text']:\n",
    "    chars += len(t)\n",
    "    words += len(t.split())\n",
    "\n",
    "avg_words = words / len(tweets)\n",
    "avg_chars = chars / len(tweets)\n",
    "print(\"Average words: \", avg_words)\n",
    "print(\"Average chars: \", avg_chars)"
   ]
  },
  {
   "cell_type": "code",
   "execution_count": 115,
   "metadata": {},
   "outputs": [
    {
     "data": {
      "text/plain": [
       "Positive    4853\n",
       "Negative    3157\n",
       "Neutral     2855\n",
       "Name: Label, dtype: int64"
      ]
     },
     "execution_count": 115,
     "metadata": {},
     "output_type": "execute_result"
    }
   ],
   "source": [
    "tweets['Label'].value_counts()"
   ]
  },
  {
   "cell_type": "code",
   "execution_count": 106,
   "metadata": {},
   "outputs": [
    {
     "name": "stdout",
     "output_type": "stream",
     "text": [
      "Average words:  12.33066415449835\n",
      "Average chars:  82.2511607563421\n"
     ]
    }
   ],
   "source": [
    "# pocetnosti v jednotlivych triedach\n",
    "words = 0\n",
    "chars = 0\n",
    "tw = tweets[tweets['Label']=='Neutral']\n",
    "for t in tw['Text']:\n",
    "    chars += len(t)\n",
    "    words += len(t.split())\n",
    "\n",
    "avg_words = words / len(tw)\n",
    "avg_chars = chars / len(tw)\n",
    "print(\"Average words: \", avg_words)\n",
    "print(\"Average chars: \", avg_chars)"
   ]
  },
  {
   "cell_type": "code",
   "execution_count": null,
   "metadata": {},
   "outputs": [],
   "source": []
  },
  {
   "cell_type": "markdown",
   "metadata": {},
   "source": [
    "## Analyza datasetu Anasent (SK)"
   ]
  },
  {
   "cell_type": "code",
   "execution_count": 21,
   "metadata": {},
   "outputs": [],
   "source": [
    "tweets = pd.read_csv('D:/Downloads/DP/data/anasent.csv')"
   ]
  },
  {
   "cell_type": "code",
   "execution_count": 36,
   "metadata": {},
   "outputs": [],
   "source": [
    "tweets1 = pd.read_csv('D:/Downloads/DP/data/anasent1.csv')"
   ]
  },
  {
   "cell_type": "code",
   "execution_count": 37,
   "metadata": {},
   "outputs": [],
   "source": [
    "tweets2 = pd.read_csv('D:/Downloads/DP/data/anasent2.csv')"
   ]
  },
  {
   "cell_type": "code",
   "execution_count": 29,
   "metadata": {},
   "outputs": [
    {
     "data": {
      "text/html": [
       "<div>\n",
       "<style scoped>\n",
       "    .dataframe tbody tr th:only-of-type {\n",
       "        vertical-align: middle;\n",
       "    }\n",
       "\n",
       "    .dataframe tbody tr th {\n",
       "        vertical-align: top;\n",
       "    }\n",
       "\n",
       "    .dataframe thead th {\n",
       "        text-align: right;\n",
       "    }\n",
       "</style>\n",
       "<table border=\"1\" class=\"dataframe\">\n",
       "  <thead>\n",
       "    <tr style=\"text-align: right;\">\n",
       "      <th></th>\n",
       "      <th>Text</th>\n",
       "      <th>positive</th>\n",
       "      <th>negative</th>\n",
       "      <th>Lab</th>\n",
       "      <th>Label</th>\n",
       "    </tr>\n",
       "  </thead>\n",
       "  <tbody>\n",
       "    <tr>\n",
       "      <th>7</th>\n",
       "      <td>Prvý deň paralympiády a hneď zlatá medaila. Gr...</td>\n",
       "      <td>0.4848</td>\n",
       "      <td>0.5152</td>\n",
       "      <td>2.0</td>\n",
       "      <td>neutral</td>\n",
       "    </tr>\n",
       "    <tr>\n",
       "      <th>8</th>\n",
       "      <td>Začnite si trénovať držanie palcov!</td>\n",
       "      <td>0.5552</td>\n",
       "      <td>0.4448</td>\n",
       "      <td>3.0</td>\n",
       "      <td>neutral</td>\n",
       "    </tr>\n",
       "    <tr>\n",
       "      <th>9</th>\n",
       "      <td>Milé prekvapko aj v Trnave v Lidli - ďakujeme ...</td>\n",
       "      <td>0.8774</td>\n",
       "      <td>0.1226</td>\n",
       "      <td>3.0</td>\n",
       "      <td>positive</td>\n",
       "    </tr>\n",
       "    <tr>\n",
       "      <th>11</th>\n",
       "      <td>Používate túto klávesovú skratku vo #Windows10?</td>\n",
       "      <td>0.5269</td>\n",
       "      <td>0.4731</td>\n",
       "      <td>3.0</td>\n",
       "      <td>neutral</td>\n",
       "    </tr>\n",
       "    <tr>\n",
       "      <th>12</th>\n",
       "      <td>Ďakujem, aj tento rok som dostala pri vchode k...</td>\n",
       "      <td>0.5626</td>\n",
       "      <td>0.4374</td>\n",
       "      <td>3.0</td>\n",
       "      <td>neutral</td>\n",
       "    </tr>\n",
       "    <tr>\n",
       "      <th>...</th>\n",
       "      <td>...</td>\n",
       "      <td>...</td>\n",
       "      <td>...</td>\n",
       "      <td>...</td>\n",
       "      <td>...</td>\n",
       "    </tr>\n",
       "    <tr>\n",
       "      <th>53893</th>\n",
       "      <td>Štatút súťaže o SAMSUNG GALAXY A51 na Instagra...</td>\n",
       "      <td>0.4215</td>\n",
       "      <td>0.5785</td>\n",
       "      <td>2.0</td>\n",
       "      <td>neutral</td>\n",
       "    </tr>\n",
       "    <tr>\n",
       "      <th>53909</th>\n",
       "      <td>Ahoj. Jen takový dotaz. Proč v Maďarsku nebero...</td>\n",
       "      <td>0.5276</td>\n",
       "      <td>0.4724</td>\n",
       "      <td>3.0</td>\n",
       "      <td>neutral</td>\n",
       "    </tr>\n",
       "    <tr>\n",
       "      <th>53915</th>\n",
       "      <td>PRAVIDLA SPOTŘEBITELSKÉ SOUTĚŽE „cestování - s...</td>\n",
       "      <td>0.4326</td>\n",
       "      <td>0.5674</td>\n",
       "      <td>2.0</td>\n",
       "      <td>neutral</td>\n",
       "    </tr>\n",
       "    <tr>\n",
       "      <th>53921</th>\n",
       "      <td>Dobrý den, dá se nějak propojit platba přes QR...</td>\n",
       "      <td>0.2116</td>\n",
       "      <td>0.7884</td>\n",
       "      <td>2.0</td>\n",
       "      <td>negative</td>\n",
       "    </tr>\n",
       "    <tr>\n",
       "      <th>53936</th>\n",
       "      <td>Úplné pravidlá Súťaže \"Súťaž o BMW MOTORSPORT ...</td>\n",
       "      <td>0.4652</td>\n",
       "      <td>0.5348</td>\n",
       "      <td>2.0</td>\n",
       "      <td>neutral</td>\n",
       "    </tr>\n",
       "  </tbody>\n",
       "</table>\n",
       "<p>14813 rows × 5 columns</p>\n",
       "</div>"
      ],
      "text/plain": [
       "                                                    Text  positive  negative  \\\n",
       "7      Prvý deň paralympiády a hneď zlatá medaila. Gr...    0.4848    0.5152   \n",
       "8                    Začnite si trénovať držanie palcov!    0.5552    0.4448   \n",
       "9      Milé prekvapko aj v Trnave v Lidli - ďakujeme ...    0.8774    0.1226   \n",
       "11       Používate túto klávesovú skratku vo #Windows10?    0.5269    0.4731   \n",
       "12     Ďakujem, aj tento rok som dostala pri vchode k...    0.5626    0.4374   \n",
       "...                                                  ...       ...       ...   \n",
       "53893  Štatút súťaže o SAMSUNG GALAXY A51 na Instagra...    0.4215    0.5785   \n",
       "53909  Ahoj. Jen takový dotaz. Proč v Maďarsku nebero...    0.5276    0.4724   \n",
       "53915  PRAVIDLA SPOTŘEBITELSKÉ SOUTĚŽE „cestování - s...    0.4326    0.5674   \n",
       "53921  Dobrý den, dá se nějak propojit platba přes QR...    0.2116    0.7884   \n",
       "53936  Úplné pravidlá Súťaže \"Súťaž o BMW MOTORSPORT ...    0.4652    0.5348   \n",
       "\n",
       "       Lab     Label  \n",
       "7      2.0   neutral  \n",
       "8      3.0   neutral  \n",
       "9      3.0  positive  \n",
       "11     3.0   neutral  \n",
       "12     3.0   neutral  \n",
       "...    ...       ...  \n",
       "53893  2.0   neutral  \n",
       "53909  3.0   neutral  \n",
       "53915  2.0   neutral  \n",
       "53921  2.0  negative  \n",
       "53936  2.0   neutral  \n",
       "\n",
       "[14813 rows x 5 columns]"
      ]
     },
     "execution_count": 29,
     "metadata": {},
     "output_type": "execute_result"
    }
   ],
   "source": [
    "tweets"
   ]
  },
  {
   "cell_type": "code",
   "execution_count": 33,
   "metadata": {},
   "outputs": [],
   "source": [
    "tweets = tweets[(tweets.Text.str.len()>25)]\n",
    "tweets = tweets[(tweets.Text.str.len()<80)]"
   ]
  },
  {
   "cell_type": "code",
   "execution_count": 39,
   "metadata": {},
   "outputs": [],
   "source": [
    "tweets2 = tweets2[(tweets2.Text.str.len()>25)]\n",
    "tweets2 = tweets2[(tweets2.Text.str.len()<80)]"
   ]
  },
  {
   "cell_type": "code",
   "execution_count": 42,
   "metadata": {},
   "outputs": [],
   "source": [
    "tweets2 = tweets2.reset_index(drop=True)"
   ]
  },
  {
   "cell_type": "code",
   "execution_count": 43,
   "metadata": {},
   "outputs": [
    {
     "name": "stderr",
     "output_type": "stream",
     "text": [
      "D:\\Programs\\Anaconda3\\lib\\site-packages\\ipykernel_launcher.py:1: FutureWarning: Sorting because non-concatenation axis is not aligned. A future version\n",
      "of pandas will change to not sort by default.\n",
      "\n",
      "To accept the future behavior, pass 'sort=False'.\n",
      "\n",
      "To retain the current behavior and silence the warning, pass 'sort=True'.\n",
      "\n",
      "  \"\"\"Entry point for launching an IPython kernel.\n"
     ]
    }
   ],
   "source": [
    "t = pd.concat([tweets,tweets1,tweets2])\n",
    "t = t.reset_index(drop=True)"
   ]
  },
  {
   "cell_type": "code",
   "execution_count": 44,
   "metadata": {},
   "outputs": [
    {
     "data": {
      "text/html": [
       "<div>\n",
       "<style scoped>\n",
       "    .dataframe tbody tr th:only-of-type {\n",
       "        vertical-align: middle;\n",
       "    }\n",
       "\n",
       "    .dataframe tbody tr th {\n",
       "        vertical-align: top;\n",
       "    }\n",
       "\n",
       "    .dataframe thead th {\n",
       "        text-align: right;\n",
       "    }\n",
       "</style>\n",
       "<table border=\"1\" class=\"dataframe\">\n",
       "  <thead>\n",
       "    <tr style=\"text-align: right;\">\n",
       "      <th></th>\n",
       "      <th>Lab</th>\n",
       "      <th>Label</th>\n",
       "      <th>Text</th>\n",
       "      <th>negative</th>\n",
       "      <th>positive</th>\n",
       "    </tr>\n",
       "  </thead>\n",
       "  <tbody>\n",
       "    <tr>\n",
       "      <th>0</th>\n",
       "      <td>2.0</td>\n",
       "      <td>neutral</td>\n",
       "      <td>Prvý deň paralympiády a hneď zlatá medaila. Gr...</td>\n",
       "      <td>0.5152</td>\n",
       "      <td>0.4848</td>\n",
       "    </tr>\n",
       "    <tr>\n",
       "      <th>1</th>\n",
       "      <td>3.0</td>\n",
       "      <td>neutral</td>\n",
       "      <td>Začnite si trénovať držanie palcov!</td>\n",
       "      <td>0.4448</td>\n",
       "      <td>0.5552</td>\n",
       "    </tr>\n",
       "    <tr>\n",
       "      <th>2</th>\n",
       "      <td>3.0</td>\n",
       "      <td>positive</td>\n",
       "      <td>Milé prekvapko aj v Trnave v Lidli - ďakujeme ...</td>\n",
       "      <td>0.1226</td>\n",
       "      <td>0.8774</td>\n",
       "    </tr>\n",
       "    <tr>\n",
       "      <th>3</th>\n",
       "      <td>3.0</td>\n",
       "      <td>neutral</td>\n",
       "      <td>Používate túto klávesovú skratku vo #Windows10?</td>\n",
       "      <td>0.4731</td>\n",
       "      <td>0.5269</td>\n",
       "    </tr>\n",
       "    <tr>\n",
       "      <th>4</th>\n",
       "      <td>3.0</td>\n",
       "      <td>neutral</td>\n",
       "      <td>Ďakujem, aj tento rok som dostala pri vchode k...</td>\n",
       "      <td>0.4374</td>\n",
       "      <td>0.5626</td>\n",
       "    </tr>\n",
       "    <tr>\n",
       "      <th>...</th>\n",
       "      <td>...</td>\n",
       "      <td>...</td>\n",
       "      <td>...</td>\n",
       "      <td>...</td>\n",
       "      <td>...</td>\n",
       "    </tr>\n",
       "    <tr>\n",
       "      <th>435134</th>\n",
       "      <td>2.0</td>\n",
       "      <td>NaN</td>\n",
       "      <td>Sklamali smeráci,tak preto vykrikujú</td>\n",
       "      <td>0.5314</td>\n",
       "      <td>0.4686</td>\n",
       "    </tr>\n",
       "    <tr>\n",
       "      <th>435135</th>\n",
       "      <td>2.0</td>\n",
       "      <td>NaN</td>\n",
       "      <td>Smeraci a ich opičky majú strach ! A teraz zač...</td>\n",
       "      <td>0.6058</td>\n",
       "      <td>0.3942</td>\n",
       "    </tr>\n",
       "    <tr>\n",
       "      <th>435136</th>\n",
       "      <td>3.0</td>\n",
       "      <td>NaN</td>\n",
       "      <td>Nedajte sa. Zvládate to :) \\n</td>\n",
       "      <td>0.2704</td>\n",
       "      <td>0.7296</td>\n",
       "    </tr>\n",
       "    <tr>\n",
       "      <th>435137</th>\n",
       "      <td>3.0</td>\n",
       "      <td>NaN</td>\n",
       "      <td>Súhlasím a veľmi držím palce🍀🍀🍀</td>\n",
       "      <td>0.1352</td>\n",
       "      <td>0.8648</td>\n",
       "    </tr>\n",
       "    <tr>\n",
       "      <th>435138</th>\n",
       "      <td>3.0</td>\n",
       "      <td>NaN</td>\n",
       "      <td>Veľa síl vám prajem 👏👏👏👏👏👍👍👍👍👍♥️♥️♥️</td>\n",
       "      <td>0.1386</td>\n",
       "      <td>0.8614</td>\n",
       "    </tr>\n",
       "  </tbody>\n",
       "</table>\n",
       "<p>435139 rows × 5 columns</p>\n",
       "</div>"
      ],
      "text/plain": [
       "        Lab     Label                                               Text  \\\n",
       "0       2.0   neutral  Prvý deň paralympiády a hneď zlatá medaila. Gr...   \n",
       "1       3.0   neutral                Začnite si trénovať držanie palcov!   \n",
       "2       3.0  positive  Milé prekvapko aj v Trnave v Lidli - ďakujeme ...   \n",
       "3       3.0   neutral    Používate túto klávesovú skratku vo #Windows10?   \n",
       "4       3.0   neutral  Ďakujem, aj tento rok som dostala pri vchode k...   \n",
       "...     ...       ...                                                ...   \n",
       "435134  2.0       NaN               Sklamali smeráci,tak preto vykrikujú   \n",
       "435135  2.0       NaN  Smeraci a ich opičky majú strach ! A teraz zač...   \n",
       "435136  3.0       NaN                      Nedajte sa. Zvládate to :) \\n   \n",
       "435137  3.0       NaN                    Súhlasím a veľmi držím palce🍀🍀🍀   \n",
       "435138  3.0       NaN               Veľa síl vám prajem 👏👏👏👏👏👍👍👍👍👍♥️♥️♥️   \n",
       "\n",
       "        negative  positive  \n",
       "0         0.5152    0.4848  \n",
       "1         0.4448    0.5552  \n",
       "2         0.1226    0.8774  \n",
       "3         0.4731    0.5269  \n",
       "4         0.4374    0.5626  \n",
       "...          ...       ...  \n",
       "435134    0.5314    0.4686  \n",
       "435135    0.6058    0.3942  \n",
       "435136    0.2704    0.7296  \n",
       "435137    0.1352    0.8648  \n",
       "435138    0.1386    0.8614  \n",
       "\n",
       "[435139 rows x 5 columns]"
      ]
     },
     "execution_count": 44,
     "metadata": {},
     "output_type": "execute_result"
    }
   ],
   "source": [
    "t"
   ]
  },
  {
   "cell_type": "code",
   "execution_count": 29,
   "metadata": {},
   "outputs": [],
   "source": [
    "from utils import create_emoji_tweets"
   ]
  },
  {
   "cell_type": "code",
   "execution_count": 101,
   "metadata": {},
   "outputs": [],
   "source": [
    "import gensim.models as gsm\n",
    "\n",
    "# model = gsm.KeyedVectors.load_word2vec_format('D:/Downloads/DP/emoji2vec300.bin', binary=True)\n",
    "create_emoji_tweets(t, model, 'D:/Downloads/DP/data/anasent2_emoji.csv')"
   ]
  },
  {
   "cell_type": "code",
   "execution_count": null,
   "metadata": {},
   "outputs": [],
   "source": []
  },
  {
   "cell_type": "code",
   "execution_count": 12,
   "metadata": {},
   "outputs": [],
   "source": [
    "tweets = pd.read_csv('D:/Downloads/DP/data/anasent2_emoji.csv')"
   ]
  },
  {
   "cell_type": "code",
   "execution_count": 32,
   "metadata": {},
   "outputs": [
    {
     "data": {
      "text/html": [
       "<div>\n",
       "<style scoped>\n",
       "    .dataframe tbody tr th:only-of-type {\n",
       "        vertical-align: middle;\n",
       "    }\n",
       "\n",
       "    .dataframe tbody tr th {\n",
       "        vertical-align: top;\n",
       "    }\n",
       "\n",
       "    .dataframe thead th {\n",
       "        text-align: right;\n",
       "    }\n",
       "</style>\n",
       "<table border=\"1\" class=\"dataframe\">\n",
       "  <thead>\n",
       "    <tr style=\"text-align: right;\">\n",
       "      <th></th>\n",
       "      <th>Text</th>\n",
       "      <th>positive</th>\n",
       "      <th>negative</th>\n",
       "      <th>Lab</th>\n",
       "      <th>Label</th>\n",
       "    </tr>\n",
       "  </thead>\n",
       "  <tbody>\n",
       "    <tr>\n",
       "      <th>0</th>\n",
       "      <td>Jak se vám líbí nové dresy HC VERVA Litvínov? ...</td>\n",
       "      <td>0.5409</td>\n",
       "      <td>0.4591</td>\n",
       "      <td>3.0</td>\n",
       "      <td>Neutral</td>\n",
       "    </tr>\n",
       "    <tr>\n",
       "      <th>1</th>\n",
       "      <td>Umíte bezpečně předjíždět? 🚗 🚙\\n\\nZní to jako ...</td>\n",
       "      <td>0.3407</td>\n",
       "      <td>0.6593</td>\n",
       "      <td>2.0</td>\n",
       "      <td>Negative</td>\n",
       "    </tr>\n",
       "    <tr>\n",
       "      <th>2</th>\n",
       "      <td>Poslední pokračování šampionátu Mercedes-Benz ...</td>\n",
       "      <td>0.4180</td>\n",
       "      <td>0.5820</td>\n",
       "      <td>2.0</td>\n",
       "      <td>Negative</td>\n",
       "    </tr>\n",
       "    <tr>\n",
       "      <th>3</th>\n",
       "      <td>Představte si, že takhle při pátku narazíte na...</td>\n",
       "      <td>0.4007</td>\n",
       "      <td>0.5993</td>\n",
       "      <td>2.0</td>\n",
       "      <td>Negative</td>\n",
       "    </tr>\n",
       "    <tr>\n",
       "      <th>4</th>\n",
       "      <td>Sledujte 10. závod sezóny Mercedes-Benz Virtua...</td>\n",
       "      <td>0.3484</td>\n",
       "      <td>0.6516</td>\n",
       "      <td>2.0</td>\n",
       "      <td>Negative</td>\n",
       "    </tr>\n",
       "    <tr>\n",
       "      <th>...</th>\n",
       "      <td>...</td>\n",
       "      <td>...</td>\n",
       "      <td>...</td>\n",
       "      <td>...</td>\n",
       "      <td>...</td>\n",
       "    </tr>\n",
       "    <tr>\n",
       "      <th>84316</th>\n",
       "      <td>Tomáš Szomju Pohľad na Vás mi evokuje rozprávk...</td>\n",
       "      <td>0.2820</td>\n",
       "      <td>0.7180</td>\n",
       "      <td>2.0</td>\n",
       "      <td>Negative</td>\n",
       "    </tr>\n",
       "    <tr>\n",
       "      <th>84317</th>\n",
       "      <td>Netreba to citat...vasi volici nevysedavaju na...</td>\n",
       "      <td>0.3650</td>\n",
       "      <td>0.6350</td>\n",
       "      <td>2.0</td>\n",
       "      <td>Negative</td>\n",
       "    </tr>\n",
       "    <tr>\n",
       "      <th>84318</th>\n",
       "      <td>Je to ťažká situácia 🤞✌️👌👍😝😝Držím palce...</td>\n",
       "      <td>0.8543</td>\n",
       "      <td>0.1457</td>\n",
       "      <td>3.0</td>\n",
       "      <td>Positive</td>\n",
       "    </tr>\n",
       "    <tr>\n",
       "      <th>84319</th>\n",
       "      <td>Súhlasím a veľmi držím palce🍀🍀🍀</td>\n",
       "      <td>0.8648</td>\n",
       "      <td>0.1352</td>\n",
       "      <td>3.0</td>\n",
       "      <td>Positive</td>\n",
       "    </tr>\n",
       "    <tr>\n",
       "      <th>84320</th>\n",
       "      <td>Veľa síl vám prajem 👏👏👏👏👏👍👍👍👍👍♥️♥️♥️</td>\n",
       "      <td>0.8614</td>\n",
       "      <td>0.1386</td>\n",
       "      <td>3.0</td>\n",
       "      <td>Positive</td>\n",
       "    </tr>\n",
       "  </tbody>\n",
       "</table>\n",
       "<p>84321 rows × 5 columns</p>\n",
       "</div>"
      ],
      "text/plain": [
       "                                                    Text  positive  negative  \\\n",
       "0      Jak se vám líbí nové dresy HC VERVA Litvínov? ...    0.5409    0.4591   \n",
       "1      Umíte bezpečně předjíždět? 🚗 🚙\\n\\nZní to jako ...    0.3407    0.6593   \n",
       "2      Poslední pokračování šampionátu Mercedes-Benz ...    0.4180    0.5820   \n",
       "3      Představte si, že takhle při pátku narazíte na...    0.4007    0.5993   \n",
       "4      Sledujte 10. závod sezóny Mercedes-Benz Virtua...    0.3484    0.6516   \n",
       "...                                                  ...       ...       ...   \n",
       "84316  Tomáš Szomju Pohľad na Vás mi evokuje rozprávk...    0.2820    0.7180   \n",
       "84317  Netreba to citat...vasi volici nevysedavaju na...    0.3650    0.6350   \n",
       "84318        Je to ťažká situácia 🤞✌️👌👍😝😝Držím palce...     0.8543    0.1457   \n",
       "84319                    Súhlasím a veľmi držím palce🍀🍀🍀    0.8648    0.1352   \n",
       "84320               Veľa síl vám prajem 👏👏👏👏👏👍👍👍👍👍♥️♥️♥️    0.8614    0.1386   \n",
       "\n",
       "       Lab     Label  \n",
       "0      3.0   Neutral  \n",
       "1      2.0  Negative  \n",
       "2      2.0  Negative  \n",
       "3      2.0  Negative  \n",
       "4      2.0  Negative  \n",
       "...    ...       ...  \n",
       "84316  2.0  Negative  \n",
       "84317  2.0  Negative  \n",
       "84318  3.0  Positive  \n",
       "84319  3.0  Positive  \n",
       "84320  3.0  Positive  \n",
       "\n",
       "[84321 rows x 5 columns]"
      ]
     },
     "execution_count": 32,
     "metadata": {},
     "output_type": "execute_result"
    }
   ],
   "source": [
    "t"
   ]
  },
  {
   "cell_type": "code",
   "execution_count": 51,
   "metadata": {},
   "outputs": [],
   "source": [
    "t.to_csv('D:/Downloads/DP/data/anasent.csv', index=False)"
   ]
  },
  {
   "cell_type": "code",
   "execution_count": 18,
   "metadata": {},
   "outputs": [],
   "source": [
    "t['Label'] = t['Label'].apply(lambda x: 'Positive' if x == 'positive' else('Negative' if x == 'negative' else 'Neutral'))"
   ]
  },
  {
   "cell_type": "code",
   "execution_count": 45,
   "metadata": {},
   "outputs": [],
   "source": [
    "t['Label'] = t['positive'].apply(lambda x: 'Positive' if x > 0.55 else('Negative' if x < 0.45 else 'Neutral'))"
   ]
  },
  {
   "cell_type": "code",
   "execution_count": 46,
   "metadata": {},
   "outputs": [
    {
     "data": {
      "text/plain": [
       "2.0    264381\n",
       "3.0    152832\n",
       "1.0     13777\n",
       "0.0      4149\n",
       "Name: Lab, dtype: int64"
      ]
     },
     "execution_count": 46,
     "metadata": {},
     "output_type": "execute_result"
    }
   ],
   "source": [
    "t['Lab'].value_counts()"
   ]
  },
  {
   "cell_type": "code",
   "execution_count": 47,
   "metadata": {},
   "outputs": [
    {
     "data": {
      "text/plain": [
       "Negative    185587\n",
       "Neutral     141819\n",
       "Positive    107733\n",
       "Name: Label, dtype: int64"
      ]
     },
     "execution_count": 47,
     "metadata": {},
     "output_type": "execute_result"
    }
   ],
   "source": [
    "t['Label'].value_counts()"
   ]
  },
  {
   "cell_type": "code",
   "execution_count": 48,
   "metadata": {},
   "outputs": [
    {
     "data": {
      "text/plain": [
       "2.0    264381\n",
       "3.0    152832\n",
       "1.0     13777\n",
       "0.0      4149\n",
       "Name: Lab, dtype: int64"
      ]
     },
     "execution_count": 48,
     "metadata": {},
     "output_type": "execute_result"
    }
   ],
   "source": [
    "t['Lab'].value_counts()"
   ]
  },
  {
   "cell_type": "code",
   "execution_count": 49,
   "metadata": {},
   "outputs": [],
   "source": [
    "t = t[~(t.Lab == 0.0)]"
   ]
  },
  {
   "cell_type": "code",
   "execution_count": 50,
   "metadata": {},
   "outputs": [
    {
     "data": {
      "text/html": [
       "<div>\n",
       "<style scoped>\n",
       "    .dataframe tbody tr th:only-of-type {\n",
       "        vertical-align: middle;\n",
       "    }\n",
       "\n",
       "    .dataframe tbody tr th {\n",
       "        vertical-align: top;\n",
       "    }\n",
       "\n",
       "    .dataframe thead th {\n",
       "        text-align: right;\n",
       "    }\n",
       "</style>\n",
       "<table border=\"1\" class=\"dataframe\">\n",
       "  <thead>\n",
       "    <tr style=\"text-align: right;\">\n",
       "      <th></th>\n",
       "      <th>Lab</th>\n",
       "      <th>Label</th>\n",
       "      <th>Text</th>\n",
       "      <th>negative</th>\n",
       "      <th>positive</th>\n",
       "    </tr>\n",
       "  </thead>\n",
       "  <tbody>\n",
       "    <tr>\n",
       "      <th>0</th>\n",
       "      <td>2.0</td>\n",
       "      <td>Neutral</td>\n",
       "      <td>Prvý deň paralympiády a hneď zlatá medaila. Gr...</td>\n",
       "      <td>0.5152</td>\n",
       "      <td>0.4848</td>\n",
       "    </tr>\n",
       "    <tr>\n",
       "      <th>1</th>\n",
       "      <td>3.0</td>\n",
       "      <td>Positive</td>\n",
       "      <td>Začnite si trénovať držanie palcov!</td>\n",
       "      <td>0.4448</td>\n",
       "      <td>0.5552</td>\n",
       "    </tr>\n",
       "    <tr>\n",
       "      <th>2</th>\n",
       "      <td>3.0</td>\n",
       "      <td>Positive</td>\n",
       "      <td>Milé prekvapko aj v Trnave v Lidli - ďakujeme ...</td>\n",
       "      <td>0.1226</td>\n",
       "      <td>0.8774</td>\n",
       "    </tr>\n",
       "    <tr>\n",
       "      <th>3</th>\n",
       "      <td>3.0</td>\n",
       "      <td>Neutral</td>\n",
       "      <td>Používate túto klávesovú skratku vo #Windows10?</td>\n",
       "      <td>0.4731</td>\n",
       "      <td>0.5269</td>\n",
       "    </tr>\n",
       "    <tr>\n",
       "      <th>4</th>\n",
       "      <td>3.0</td>\n",
       "      <td>Positive</td>\n",
       "      <td>Ďakujem, aj tento rok som dostala pri vchode k...</td>\n",
       "      <td>0.4374</td>\n",
       "      <td>0.5626</td>\n",
       "    </tr>\n",
       "    <tr>\n",
       "      <th>...</th>\n",
       "      <td>...</td>\n",
       "      <td>...</td>\n",
       "      <td>...</td>\n",
       "      <td>...</td>\n",
       "      <td>...</td>\n",
       "    </tr>\n",
       "    <tr>\n",
       "      <th>435134</th>\n",
       "      <td>2.0</td>\n",
       "      <td>Neutral</td>\n",
       "      <td>Sklamali smeráci,tak preto vykrikujú</td>\n",
       "      <td>0.5314</td>\n",
       "      <td>0.4686</td>\n",
       "    </tr>\n",
       "    <tr>\n",
       "      <th>435135</th>\n",
       "      <td>2.0</td>\n",
       "      <td>Negative</td>\n",
       "      <td>Smeraci a ich opičky majú strach ! A teraz zač...</td>\n",
       "      <td>0.6058</td>\n",
       "      <td>0.3942</td>\n",
       "    </tr>\n",
       "    <tr>\n",
       "      <th>435136</th>\n",
       "      <td>3.0</td>\n",
       "      <td>Positive</td>\n",
       "      <td>Nedajte sa. Zvládate to :) \\n</td>\n",
       "      <td>0.2704</td>\n",
       "      <td>0.7296</td>\n",
       "    </tr>\n",
       "    <tr>\n",
       "      <th>435137</th>\n",
       "      <td>3.0</td>\n",
       "      <td>Positive</td>\n",
       "      <td>Súhlasím a veľmi držím palce🍀🍀🍀</td>\n",
       "      <td>0.1352</td>\n",
       "      <td>0.8648</td>\n",
       "    </tr>\n",
       "    <tr>\n",
       "      <th>435138</th>\n",
       "      <td>3.0</td>\n",
       "      <td>Positive</td>\n",
       "      <td>Veľa síl vám prajem 👏👏👏👏👏👍👍👍👍👍♥️♥️♥️</td>\n",
       "      <td>0.1386</td>\n",
       "      <td>0.8614</td>\n",
       "    </tr>\n",
       "  </tbody>\n",
       "</table>\n",
       "<p>430990 rows × 5 columns</p>\n",
       "</div>"
      ],
      "text/plain": [
       "        Lab     Label                                               Text  \\\n",
       "0       2.0   Neutral  Prvý deň paralympiády a hneď zlatá medaila. Gr...   \n",
       "1       3.0  Positive                Začnite si trénovať držanie palcov!   \n",
       "2       3.0  Positive  Milé prekvapko aj v Trnave v Lidli - ďakujeme ...   \n",
       "3       3.0   Neutral    Používate túto klávesovú skratku vo #Windows10?   \n",
       "4       3.0  Positive  Ďakujem, aj tento rok som dostala pri vchode k...   \n",
       "...     ...       ...                                                ...   \n",
       "435134  2.0   Neutral               Sklamali smeráci,tak preto vykrikujú   \n",
       "435135  2.0  Negative  Smeraci a ich opičky majú strach ! A teraz zač...   \n",
       "435136  3.0  Positive                      Nedajte sa. Zvládate to :) \\n   \n",
       "435137  3.0  Positive                    Súhlasím a veľmi držím palce🍀🍀🍀   \n",
       "435138  3.0  Positive               Veľa síl vám prajem 👏👏👏👏👏👍👍👍👍👍♥️♥️♥️   \n",
       "\n",
       "        negative  positive  \n",
       "0         0.5152    0.4848  \n",
       "1         0.4448    0.5552  \n",
       "2         0.1226    0.8774  \n",
       "3         0.4731    0.5269  \n",
       "4         0.4374    0.5626  \n",
       "...          ...       ...  \n",
       "435134    0.5314    0.4686  \n",
       "435135    0.6058    0.3942  \n",
       "435136    0.2704    0.7296  \n",
       "435137    0.1352    0.8648  \n",
       "435138    0.1386    0.8614  \n",
       "\n",
       "[430990 rows x 5 columns]"
      ]
     },
     "execution_count": 50,
     "metadata": {},
     "output_type": "execute_result"
    }
   ],
   "source": [
    "t"
   ]
  },
  {
   "cell_type": "code",
   "execution_count": null,
   "metadata": {},
   "outputs": [],
   "source": []
  }
 ],
 "metadata": {
  "kernelspec": {
   "display_name": "Python 3",
   "language": "python",
   "name": "python3"
  },
  "language_info": {
   "codemirror_mode": {
    "name": "ipython",
    "version": 3
   },
   "file_extension": ".py",
   "mimetype": "text/x-python",
   "name": "python",
   "nbconvert_exporter": "python",
   "pygments_lexer": "ipython3",
   "version": "3.7.3"
  }
 },
 "nbformat": 4,
 "nbformat_minor": 2
}
